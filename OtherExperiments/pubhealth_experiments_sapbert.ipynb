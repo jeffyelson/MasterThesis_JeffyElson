{
 "cells": [
  {
   "cell_type": "code",
   "execution_count": 1,
   "id": "initial_id",
   "metadata": {
    "collapsed": true,
    "ExecuteTime": {
     "end_time": "2023-12-20T10:49:48.403341400Z",
     "start_time": "2023-12-20T10:49:45.518557300Z"
    }
   },
   "outputs": [],
   "source": [
    "import pandas as pd"
   ]
  },
  {
   "cell_type": "code",
   "execution_count": 2,
   "outputs": [],
   "source": [
    "pub = pd.read_csv(\"D:/Master Thesis/PUBHEALTH/PUBHEALTH/train.tsv\", sep='\\t', header=0)"
   ],
   "metadata": {
    "collapsed": false,
    "ExecuteTime": {
     "end_time": "2023-12-20T10:49:49.334176300Z",
     "start_time": "2023-12-20T10:49:48.407673Z"
    }
   },
   "id": "95139a76ec61f765"
  },
  {
   "cell_type": "code",
   "execution_count": 3,
   "outputs": [
    {
     "data": {
      "text/plain": "  claim_id                                              claim  \\\n0    15661  \"The money the Clinton Foundation took from fr...   \n1     9893    Annual Mammograms May Have More False-Positives   \n2    11358  SBRT Offers Prostate Cancer Patients High Canc...   \n3    10166  Study: Vaccine for Breast, Ovarian Cancer Has ...   \n4    11276  Some appendicitis cases may not require ’emerg...   \n\n       date_published                                        explanation  \\\n0      April 26, 2015  \"Gingrich said the Clinton Foundation \"\"took m...   \n1    October 18, 2011  This article reports on the results of a study...   \n2  September 28, 2016  This news release describes five-year outcomes...   \n3    November 8, 2011  While the story does many things well, the ove...   \n4  September 20, 2010  We really don’t understand why only a handful ...   \n\n                                       fact_checkers  \\\n0                                      Katie Sanders   \n1                                                      \n2  Mary Chris Jaklevic,Steven J. Atlas, MD, MPH,K...   \n3                                                      \n4                                                      \n\n                                           main_text  \\\n0  \"Hillary Clinton is in the political crosshair...   \n1  While the financial costs of screening mammogr...   \n2  The news release quotes lead researcher Robert...   \n3  The story does discuss costs, but the framing ...   \n4  \"Although the story didn’t cite the cost of ap...   \n\n                                             sources    label  \\\n0  https://www.wsj.com/articles/clinton-foundatio...    false   \n1                                                     mixture   \n2  https://www.healthnewsreview.org/wp-content/up...  mixture   \n3  http://clinicaltrials.gov/ct2/results?term=can...     true   \n4                                                        true   \n\n                                      subjects  \n0  Foreign Policy, PunditFact, Newt Gingrich,   \n1               Screening,WebMD,women's health  \n2      Association/Society news release,Cancer  \n3                  Cancer,WebMD,women's health  \n4                                               ",
      "text/html": "<div>\n<style scoped>\n    .dataframe tbody tr th:only-of-type {\n        vertical-align: middle;\n    }\n\n    .dataframe tbody tr th {\n        vertical-align: top;\n    }\n\n    .dataframe thead th {\n        text-align: right;\n    }\n</style>\n<table border=\"1\" class=\"dataframe\">\n  <thead>\n    <tr style=\"text-align: right;\">\n      <th></th>\n      <th>claim_id</th>\n      <th>claim</th>\n      <th>date_published</th>\n      <th>explanation</th>\n      <th>fact_checkers</th>\n      <th>main_text</th>\n      <th>sources</th>\n      <th>label</th>\n      <th>subjects</th>\n    </tr>\n  </thead>\n  <tbody>\n    <tr>\n      <th>0</th>\n      <td>15661</td>\n      <td>\"The money the Clinton Foundation took from fr...</td>\n      <td>April 26, 2015</td>\n      <td>\"Gingrich said the Clinton Foundation \"\"took m...</td>\n      <td>Katie Sanders</td>\n      <td>\"Hillary Clinton is in the political crosshair...</td>\n      <td>https://www.wsj.com/articles/clinton-foundatio...</td>\n      <td>false</td>\n      <td>Foreign Policy, PunditFact, Newt Gingrich,</td>\n    </tr>\n    <tr>\n      <th>1</th>\n      <td>9893</td>\n      <td>Annual Mammograms May Have More False-Positives</td>\n      <td>October 18, 2011</td>\n      <td>This article reports on the results of a study...</td>\n      <td></td>\n      <td>While the financial costs of screening mammogr...</td>\n      <td></td>\n      <td>mixture</td>\n      <td>Screening,WebMD,women's health</td>\n    </tr>\n    <tr>\n      <th>2</th>\n      <td>11358</td>\n      <td>SBRT Offers Prostate Cancer Patients High Canc...</td>\n      <td>September 28, 2016</td>\n      <td>This news release describes five-year outcomes...</td>\n      <td>Mary Chris Jaklevic,Steven J. Atlas, MD, MPH,K...</td>\n      <td>The news release quotes lead researcher Robert...</td>\n      <td>https://www.healthnewsreview.org/wp-content/up...</td>\n      <td>mixture</td>\n      <td>Association/Society news release,Cancer</td>\n    </tr>\n    <tr>\n      <th>3</th>\n      <td>10166</td>\n      <td>Study: Vaccine for Breast, Ovarian Cancer Has ...</td>\n      <td>November 8, 2011</td>\n      <td>While the story does many things well, the ove...</td>\n      <td></td>\n      <td>The story does discuss costs, but the framing ...</td>\n      <td>http://clinicaltrials.gov/ct2/results?term=can...</td>\n      <td>true</td>\n      <td>Cancer,WebMD,women's health</td>\n    </tr>\n    <tr>\n      <th>4</th>\n      <td>11276</td>\n      <td>Some appendicitis cases may not require ’emerg...</td>\n      <td>September 20, 2010</td>\n      <td>We really don’t understand why only a handful ...</td>\n      <td></td>\n      <td>\"Although the story didn’t cite the cost of ap...</td>\n      <td></td>\n      <td>true</td>\n      <td></td>\n    </tr>\n  </tbody>\n</table>\n</div>"
     },
     "execution_count": 3,
     "metadata": {},
     "output_type": "execute_result"
    }
   ],
   "source": [
    "pub.head()"
   ],
   "metadata": {
    "collapsed": false,
    "ExecuteTime": {
     "end_time": "2023-12-20T10:49:49.396651800Z",
     "start_time": "2023-12-20T10:49:49.337529900Z"
    }
   },
   "id": "7ca72f7294773842"
  },
  {
   "cell_type": "code",
   "execution_count": null,
   "outputs": [],
   "source": [
    "pub.describe()"
   ],
   "metadata": {
    "collapsed": false
   },
   "id": "a2c511663fa4fcce"
  },
  {
   "cell_type": "code",
   "execution_count": null,
   "outputs": [],
   "source": [
    "claims = pub['claim']"
   ],
   "metadata": {
    "collapsed": false
   },
   "id": "5beedb50bf171283"
  },
  {
   "cell_type": "code",
   "execution_count": 62,
   "outputs": [
    {
     "data": {
      "text/plain": "['money clinton foundation took foreign governments hillary clinton secretary state clearly illegal … constitution says can’t take stuff',\n 'annual mammograms may falsepositives',\n 'sbrt offers prostate cancer patients high cancer control low toxicity fewer treatments',\n 'study vaccine breast ovarian cancer potential',\n 'appendicitis cases may require ’emergency’ surgery',\n 'britain reveal trial criteria coronavirus antibody tests',\n 'angioplasty wrist backed new study',\n 'us says results encouraging healthcare delivery reforms',\n 'latest trial jj talc litigations gets way california',\n 'poor test results heart drugs',\n 'opossums kill thousands ticks week inhibiting spread lyme disease humans',\n 'democrats hoping flip house trashtalking trump',\n 'hoodies riddled faux bullet holes bearing names schools involved massacres including columbine sandy hook marjory stoneman douglas available purchase',\n 'cancer activist sounds alarm early testing genetic marker',\n 'end 2016 23 percent fewer federal prosecutions 2011 prosecutors looked scourge opioid deaths let go',\n 'train carrying gop members congress west virginia retreat crashed due deep state plot',\n 'sex tech womenled startups pops ces gadget show',\n 'waxed apples cause cancer',\n 'viral image says bbc prematurely reported “ghislaine maxwell moved intensive care coronavirus symptoms worsen”',\n 'john faso took money fossil fuel companies tried take land eminent domain fracked gas pipeline',\n 'officials alert health care providers hiv surge',\n 'united states secret service arrested alec baldwin threatening president donald trump 2017 emmy awards',\n 'hillary clinton member monsantos board directors',\n 'rhode island become second state mandate vaccine … state regulatory fiat without public debate without consideration elected representatives people',\n 'i’ll never go shoulder surgery here’s',\n 'costco stores require shoppers wear masks beginning may 4 2020',\n 'brazil cities lurch lockdowns amid virus crisis red flags',\n 'laser used blast away cells causing irregular heartbeat',\n 'slovakias new government sharply ramp coronavirus testing',\n 'coronavirus “simply common cold”',\n 'encouraging news reversing heart disease',\n 'microwave ovens banned ussr 1976 protect citizens harmful health effects',\n 'jimi hendrix jim morrison janis joplin kurt cobain died white bic lighters pockets',\n 'schools austin independent school district teaching children young 4 years old gender fluid – they’re boy girl choose whichever gender want',\n 'spiriva good serevent asthma study',\n 'massachusetts help test addiction treatment rating system',\n 'secretary state john kerry’s daughter married iranian man connections iranian foreign minister participated nuclear negotiations',\n 'un urged staff look climate footprint',\n 'als patient behind ice bucket challenge bounce back',\n 'state senate leader outlines agenda lawmakers sworn',\n 'menopause flash concern',\n 'sen elizabeth warren said abortion different someone tonsils removed',\n 'instagram posts says one died coronavirus united states',\n 'rick scotts starbucks heckler says rick scott cut medicaid people cant get obamacare',\n 'italy hit hard experts say oldest population europe',\n 'enemy mankind coronavirus deaths top sars china returns work',\n 'safest communities united states along border',\n 'holiday fitness gifts trend hightech basic',\n 'message claims singer shakira guest mtv segment live telephone calls refused speak israeli caller quoted said she’d rather pigs listening music israelis erumor encourages boycott shakira’s music',\n 'secretary state john kerry funneled taxpayer money daughters global charity',\n 'audio message lists five ways people prevent novel coronavirus',\n 'mass virus test nursing home seeks combat loneliness',\n 'dwayne bohac says annies list political group supports thirdtrimester abortions demand',\n 'experiments test implant block sleep apnea',\n 'tokyo reports 143 new coronavirus cases highest jump one day governor',\n 'gun industry business america wholly protected kind liability',\n 'captive panda deliberately faked symptoms pregnancy order obtain special treatment keepers',\n 'judge won’t end decadesold everglades cleanup oversight',\n 'washington dc clergyman tested positive covid19 potentially exposing congregants',\n 'dan patrick says texas tax legislation would save average homeowner texas 20000 year next 20 years',\n 'menthol cigarettes new ban tobacco vape flavors',\n 'indonesian villagers performed rite brought dead woman back life three years grave',\n 'medicaid expansion could cost commonwealth virginia 1 billion year',\n 'wildfires grow deadlier officials search solutions',\n 'doctors say ebola transmitted air sneeze cough',\n 'number people atlanta dying hiv aids declined 59 percent 2004 2012',\n 'stem cells harvested baby teeth good idea preserve private stem cell banks future use medical treatments',\n 'bioweapon zika virus spread gmo mosquitos sic',\n 'freedom partners says bruce braley took tens thousands friends health insurance industry gave special favors voting obamacare',\n 'shaving makes hair grow back thicker faster fuller',\n 'arkansas election office may move due high mold levels',\n 'britain confirms bird flu case lancashire cull infected poultry',\n 'florida expanded medicaid studies indicate would create 120000 jobs',\n '£18 billion ‘new money’ announced nhs next five years',\n 'increasing international health surcharge £625 extending foreign workers including eu migrants brexit raise £500 million year',\n 'britain loses case delay submission air pollution plan',\n 'see whole bunch korean cars united states dont see american cars korea',\n 'tai chi reported ease fibromyalgia',\n 'fda approves abiocor heart',\n 'new treatment offers hope unshakable tremor',\n 'fda approves roche’s cotellic treatment melanoma',\n 'fdaapproved synthetic marijuana leads deaths illinois',\n 'sen david perdue advised attendees offer ominous prayer aimed president obama 2016 faith freedom coalition’s road majority conference',\n 'covid19 covid1 folks would think people charged world health organization facts figures would top',\n 'fermented dairy products may protect heart attack',\n 'uk calls 250000 volunteers virus deaths surge',\n 'fda approves first inhalable version insulin',\n 'irans thirsty energy industry runs water shortage',\n 'tamiflu responsible increased number deaths flu season',\n 'obama administration issued 11thhour rule entrenches federal family planning funding planned parenthood',\n 'plague confirmed prairie dogs commerce city',\n 'indonesia reports biggest jump coronavirus deaths malaysia trend improves',\n 'facebook post says michigan covid19 order bans gardening sale vegetable seeds fruit',\n 'greg walden says federal stimulus program ineffective number jobs actually decreased 18300 july 2011',\n 'rules reopening hotels gyms attractions taking shape',\n 'greenest county america',\n 'new california laws help animals fire victims immigrants',\n 'ten percent violent deaths us year due strangulation',\n 'quarantine restrict movement sick people',\n 'hot mic video white house coronavirus briefing revealed far lower real casefatality rate well existence vaccine provided government press corps',\n 'chain email says age 76 need eligible cancer treatment affordable care act',\n '“as soon endorsed supreme court justice daniel kelly wisconsin democrats said let’s move election two months later”',\n 'new heart imaging method may predict heart attack',\n 'new mexico man house arrest sues use medical marijuana',\n 'obamacare provision allow forced home inspections government agents',\n 'cruise ship passengers limbo san francisco awaiting coronavirus tests',\n 'study paves way blood test predict alzheimers',\n 'google unprofessional hairstyles men unprofessional hairstyles women professional hairstyles men professional hairstyles women results appeared racially biased',\n 'according body language expert photograph president obama crying reveals psychopath',\n 'least 100000 churches called withdrawal brett kavanaughs supreme court nomination',\n 'landline disengaged cradle eventually selfdial 911',\n 'massaging olive oil breast skin tissue prevent reverse sagging',\n 'mortality rate flu “right around” new coronavirus “it’s right around 2”',\n 'clotbusting drugs save limbs frostbite',\n 'mitch mcconnell said wanted states go bankrupt instead federal government providing relief today thom tillis agreed',\n 'david perdue says policy “health insurance always cover preexisting conditions anyone period”',\n 'amy looked online health care plan it’s two paragraphs',\n 'vitamin b role improving memory',\n 'iran plans tougher restrictions coronavirus toll rises',\n 'red bull bang energy drinks test positive various illicit prescription drugs substance urine tests',\n 'blood drug trades benefit risk',\n 'wearing masks coronavirus “decreases oxygen intake increases toxin inhalation shuts immune system increases virus risk scientifically inaccurate effectiveness studied”',\n 'wisconsin man accused illegal thc vaping cartridge scheme',\n 'yoga shows benefit diabetes',\n 'new study kki shows feasibility acupuncture young children asd',\n 'colombian rebelturnedcandidate ok heart surgery',\n 'covid19 clots blood causing thrombosis stopping blood flow oxygenating heart lungs',\n 'george flinn says patents ultrasound revolutionized modern medicine',\n 'kansas lawmakers want stronger law mental health coverage',\n 'trump administration fired us pandemic response team 2018 cut costs',\n 'former nfl player ryan leaf gives speech substance abuse',\n 'states hit hardest opioid deaths opioid prescriptions residents',\n 'chubby girl ipanema brazil puts weight',\n 'charles manson granted parole released prison',\n 'three 10 texas doctors currently accepting new medicaid patients',\n 'samsung bioepis biosimilar roches herceptin wins fda nod',\n 'set photographs shows gruesome results pico jackfruit snake bite',\n 'italy experts say reliable coronavirus antibody test may ready soon',\n 'drug’s benefit younger breast cancer patients question',\n 'image shows radioactive seepage spreading across pacific ocean fukushima nuclear plant',\n 'brazil’s bolsonaro eyes new body environmental policy',\n 'heart drug linked extra years cancer patients',\n 'residents flint michigan threatened cps removal children refuse pay contaminated water',\n 'university waterloo develops new way fight hiv transmission',\n 'partnership plans build cancer treatment machine',\n 'jacqueline saburido victim drunk driving accident seeks donations help expenses medical treatment extensive injuries',\n 'text reminders help people lower cholesterol blood pressure',\n 'nearly 45 percent women receive health screenings women’s health program planned parenthood health center',\n 'madagascar plague outbreak threatens largest cities',\n 'preventive neuroradiology brain imaging bolsters efforts lower alzheimers risk',\n 'european measles cases highest decade pockets refuse vaccination',\n 'wisconsin residents using medical cannabis amid restrictions',\n 'denver furlough thousands workers amid coronavirus',\n 'insurers delayed illinois mans treatment died',\n 'fetal cells abortions used flavor commercial foods drinks production mysterious substance known adrenochrome',\n 'personally prochoice always made qualms elected governor',\n 'tammy baldwin says scott walkers views abortion restrictive republican president recent times',\n 'popeyes louisiana kitchen selling emotional support chicken weary flight passengers',\n 'eu panel recommends suspension risky bone disease drug',\n 'fate opioid litigation hinges government police power',\n 'retailers tj maxx marshalls sell counterfeit salon products',\n 'isis leader abu bakr al baghdadi released obama 2009',\n 'people driving influence drugs driving influence alcohol recent roadside survey showed 16 percent people tested tested positive illicit licit drugs thats significantly higher alcohol',\n 'cricketer maxwell take break due mental health issues',\n 'email says simon schuster announced new cdrom computer game “…to win game boys must strip supermodels underwear provide photographs aliens \\x91wore out\\x92 one lingerie catalog – else aliens\\x92 \\x91hormone driven anger\\x92 destroy earth”',\n 'hold breath without coughing discomfort stiffness tightness lungs suffer fibrosis therefore covid19 infection',\n 'fruit graviola tree soursop guyabano components plant muricata viable cure cancer',\n 'new drug shows promise huntington’s disease',\n 'michael bloomberg says “black babies die rates twice high white babies lack access affordable health care”',\n 'moldy bread grain blamed canada geese deaths',\n 'nordic scientists start trial nicotine vaccine',\n 'state awards license grow medical marijuana missouri',\n 'instagram posts says “bill gates globalists collaboration pharmaceutical companies reportedly working push tracking bracelets ‘invisible tattoos’ monitor americans impending lockdown”',\n 'pediatricians cut number proximity vaccines recognize many short period time',\n 'joe biden says president donald trump “took month allocate congress’ emergency funding tribes — tribes sued”',\n 'amid doc’s murder case lawsuits reflect battle blame',\n 'number mental health nurses fallen 46155 39358 since 2009',\n 'abortion coverage standard insurance benefit nearly 90 percent private plans sold us',\n 'walton family owns walmart controls fortune equal wealth bottom 42 percent americans combined',\n 'youve got medical report meets standard mitt romney barack obama',\n 'relapses childhood leukemia improve high doses common chemo drug',\n 'governments discuss tackling tuberculosis un summit',\n 'lowcarb diet lowers blood pressure',\n 'household plant dieffenbachia one common indoor plants poisonous kill child one minute adult 15 minutes',\n '“the cdc detain anyone fever — indefinitely … vaccination way people could get detention”',\n 'article published medical journal makes reference nicknames hormone replacement therapy included antiboyotics transmission fluid notorious hrt',\n 'mammogramsâ€™ value cancer fight issue',\n 'new tool helps identify risk postsurgical dislocations following hip replacement',\n 'country comes even close nearly 40000 people country lost gun violence',\n 'villains visionaries hedge funds short companies say greenwash',\n 'berlin nightclub patrons urged get meningitis test',\n 'want live longer every movement counts even cleaning house',\n 'americas waistline expands costs soar',\n '‘trumpcare’ domestic violence sexual assault could considered preexisting conditions',\n 'human rights campaign powerful nra',\n 'august 13 2020 us president donald trump said need money order make post office work take millions millions ballots don’t make deal means don’t get money means can’t universal mailin voting can’t it”',\n 'predicting violence psychopaths chance',\n 'nonalcoholic beer aids marathon recovery',\n 'bill white says republican state leaders using sovietstyle budget management',\n 'man rhode island tests positive rare equine virus',\n 'children witness domestic violence twice likely commit',\n 'george michael died natural causes british coroner says',\n 'facebook post says ceo camping world told trump supporters “frankly don’t shop business”',\n 'vehicle search prompted marijuana smell ruled illegal',\n 'austria bets mass testing manage coronavirus spread',\n 'democrats unveil new policies gubernatorial primary',\n 'jerry lewis hollywood survivor showman dies 91',\n 'opponents georgia abortion ban promise court challenge',\n 'japans tsunami survivors suffer silence three years disaster',\n 'bernie sanders said hillary clinton ‘voted virtually every trade agreement cost workers country millions millions jobs’',\n 'nba players’ union hires director mental health',\n 'china readies stimulus measures local virus cases dwindle',\n 'dihydrogen monoxide dangerous chemical banned',\n 'texas records 1st death linked ecigarette use',\n 'ronald reagan came 1978 1982 economic growth averaged less 1 percent year there’s one fouryear period that’s true that’s true 2008 2012',\n 'saltwater solution force insect pests infested strawberries',\n 'advances treatments enlarged prostates',\n 'newt gingrich says hillary clintons health care plan 1990s broader provision favor corporate right back providing contraceptive coverage one created hobby lobby supreme court decision',\n 'bovine tuberculosis appeared herd cattle michigan',\n 'germanwings airbus crash french alps killed 150 people act terror germanwings copilot andreas lubitz converted radical form islam crash',\n 'indianapolis 500 officials offer measles vaccine race',\n '“infection rates allegany cattaraugus chautauqua counties consistently among lowest state”',\n 'us patents 7897744 8506968 sars',\n 'groups sow doubt covid vaccine one even exists',\n 'heart drug riddle solved beta blockers’ ability combat chronic failure linked genetics',\n 'delta air lines gives members planned parenthood discounted rates air travel',\n 'europe grapples socioeconomic tsunami coronavirus crisis',\n 'john morgan says cathy jordan arrested dragged home swat team hooligans using medical marijuana',\n 'imitation dairy products often differ nutritionally mimic labeling milk cheese yogurt law',\n 'hurricane irma could category 6 time hits east coast',\n '005 standard drunken driving means glass wine dinner could make person drunk',\n 'delaware doc accused trading drugs sex loses license',\n 'prayer request 4year old girl diagnosed “nonhodgkin’s lymphoma stage 4” email says father works temp service mom works part time familyowned business insurance',\n 'association radiation therapy plus lumpectomy reduced risk dying women dcis',\n 'mexican government officials hand brochures showing individuals avoid border patrol get country',\n 'rhode island gives undocumented pregnant women health insurance plus cash card 400 month 250 month 275 month spend food',\n 'nursing residency program tackle rural health care needs',\n 'dana milbank says bill o’reilly spoke 40 percent words interview president barack obama',\n 'pfizer lung cancer drug fails two large studies',\n 'prenatal testing detect cancer pregnant mothers',\n 'man inspired ice bucket challenge back hospital',\n 'fat hormone may trick body help keep extra pounds',\n 'procter gamble rivals take refills beauty aisle',\n 'retinal implant trial helps blind people see shapes',\n '“putin stated russian citizens 2 options stay home 15 days jail 5 years”',\n 'theres rationing bills',\n 'montana vape shop turns home kits dodge flavored ban',\n 'photograph shows genuine crop circle resembling logo microsoft windows crown shape associated coronaviruses',\n 'uk doctor jailed 15 years unnecessary breast surgery',\n 'minecraft newlydiscovered sex mod parents aware exercise caution restrict game children entirely',\n 'coffee may cut risk cancers',\n 'study raises fresh dementia concerns playing pro soccer',\n 'claims joe biden said coal dangerous terrorists',\n 'eating takis brand corn chips causes ulcers cancer children',\n 'unilever says new milkshake helps control appetite',\n 'hollywood film producer alleged sexual predator harvey weinstein shot killed scottsdale arizona hotel room',\n 'donald trump improperly received 150000 federal aid earmarked small businesses damaged 911 attacks despite fact business neither small damaged attacks',\n 'hate utis one simple step cut risk',\n 'emilys list says tommy thompson pushed strict laws abortion providers faced potential life imprisonment women forced cross state lines order receive attention lifethreatening issues',\n 'viral video shows man punching kangaroo face save dog',\n 'minimally invasive treatment reduces knee pain disability osteoarthritis',\n 'character rudolph rednosed reindeer created father bring comfort daughter mother dying cancer',\n 'drinking “water lot gargling warm water salt vinegar eliminates” coronavirus',\n 'men outlive fertility',\n 'sitting inside running snowedin car result carbon monoxide poisoning',\n 'national republican congressional committee says rep betty sutton would rather riot occupy wall street stand ohio families',\n 'report 3 million votes presidential election cast illegal aliens',\n 'floridas top court puts medical marijuana initiative november ballot',\n 'said reached powersharing agreement republican lt gov casey cagle',\n 'us sen kamala harris dcalif supports ability carry abortions time woman gives birth',\n 'burundi defies covid19 election ending bloody rule',\n 'study casts doubt duct tape wart cure',\n 'generic drug could save many trauma patients',\n 'intensive vegetablefruit diet shows effect breast cancer return',\n 'swedish mammography study sows confusion screening breast cancer',\n 'hr 4919 passed 8 december 2016 allows microchipping mentally disabled citizens patients autism alzheimers disease',\n 'gene mutation underlies mad cow disease study',\n 'us urges transparency ebolalike death tanzania',\n 'zebras stripes perhaps dazzle away flies',\n 'cancer treatment offers ms patients hope remarkable trial results',\n 'testing cholesterol toddlers even younger study says could help',\n 'harvard’s ‘outbreak week’ marks centennial flu pandemic',\n 'experimental drug helps fight aggressive breast cancer report',\n 'state adds anxiety qualifying conditions medical pot',\n 'dr vladimir zelenkos 669 covid19 patients treated combination hydroxychloroquine azithromycin zinc seen zero hospitalizations complications deaths',\n 'hanan alhroub whose husband jailed providing chemicals used making bombs killed israelis invited speak clinton global initiative dinner',\n 'bitter taste receptors may hold key managing preterm labor',\n 'bay leaves contain compound decreases anxiety burned',\n 'couple seeks stop release vaccine data',\n 'growth hormone reduces risk osteoporosis fractures older women',\n '1994 17yearold eagle scout built nuclear reactor mother’s backyard act ultimately necessitated superfund cleanup',\n 'adam putnam says giant african land snail carries human meningitis',\n 'donald trump said never understood people like dogs dogs disgusting',\n 'lgbt community often victims hate crimes recognized group',\n 'last week supreme court reversed century law believe open floodgates special interests – including foreign corporations – spend without limit elections',\n 'chairs removed mott’s flint campus bedbugs found',\n 'story 11yearold girl menstrual bleeding since 8 also started lactating erumor says she’s drinking milk injected rbst hormone given cows increase milk production erumor focuses walmart great value milk source rbst recommends feeding family',\n 'fda recently discovered arizona beverage company uses human urine many products',\n 'vegetarian diets almost twice effective reducing body weight study finds',\n 'bangladesh grapples country’s worst dengue outbreak',\n 'six people florida die result expanding medicaid every day',\n 'veterinary pathologist testified immersed mountain dew would turn mouse jellylike substance',\n 'doubts mammogram software',\n 'changing rules governing judicial conflicts interest',\n '2011 mike bloomberg said health care providers treat elderly prostate cancer patients order alleviate health care costs overcrowding',\n 'shaheen announces broad legislation address addiction',\n 'roger stone says hillary clinton shows broward county private meeting elections supervisor brenda snipes',\n 'ranks people reaching age 90 tripled since 1980 report',\n 'former bush reagan epa heads warn trump rollbacks',\n 'cathay let crew wear masks flights due new coronavirus',\n 'lose weight twoweek diet better dropping pounds',\n 'large europe majorities assisted suicide survey',\n 'amazon’s growing ties oil industry irks employees',\n 'music icon prince died april 2016 age 57 rumors began swirling cause death',\n 'africanamerican communities absolutely worst shape theyve ever ever ever ever',\n 'coronavirus epidemic control norway health minister',\n 'government report 2008 states 35000 veterans first gulf war died direct result adverse effects anthrax vaccine mandated receive',\n 'blogger says george soros bill gates funding bioweapons lab sierra leone caused ebola outbreak',\n 'gpslike system helps surgeons align joints',\n 'demand public transportation reaching record levels wisconsin',\n 'bernie sanders says hillary clinton supported continues support fracking',\n 'wisconsin 300000 people kind addictive gambling problem whether it’s pathological we’d categorize problem gambler',\n 'shots theres new help allergy sufferers',\n 'recently rick scott closed 30 women’s health care centers across state',\n 'governor florida defunded planned parenthood',\n 'gov rick perry overseen highest texas unemployment 22 years',\n 'montana county faces transgender discrimination complaint',\n 'fruits vegetables countries contaminated blood containing either aids hiv',\n 'exercise may rx rsi',\n 'bill gates’ polio vaccine permanently disabled 47000 children india',\n 'arizona schools use therapy dogs assist mental health',\n 'new york city health nyc health issued official guidelines sex global coronavirus pandemic',\n 'researchers cuba discovered cancer vaccine already saving thousands people',\n 'ultrapersonal therapy gene tumor boards guide cancer care',\n 'disney looking build disney world came miami told disney take hike',\n 'rare candor lovato chronicled recovery relapse',\n 'company pay 245m toward cleanup kalamazoo river pcbs',\n 'bernie sanders says bernie sanders fundamentally changed lives immokalee farm workers florida better',\n 'facebook post says pelosi blackmails congress demands mailin voting 2nd stimulus family”',\n 'florida latest place declare emergency hepatitis',\n 'video showing people appear impaired drugs labeled california',\n 'toledo clinic suspends surgical abortions change',\n 'fda says brainstimulating device may help people obsessivecompulsive disorder',\n 'eu drug agency sees uslike cannabis legalization moves',\n 'housing options help autistic adults find independence',\n 'centers disease control issued warning concerning used condoms repurposed hairbands',\n 'mesothelioma surgery improves quality life study finds',\n 'portugal suspends water electricity shutoffs releases prisoners amid coronavirus outbreak',\n 'latest antiaging craze ‘dracula therapy’ involves injecting face blood',\n 'jerry patterson says texas general land office led george p bush repaired two homes since hurricane harvey',\n 'republican party florida says charlie crist supports cuts medicare advantage program',\n 'french panel seize guns reduce domestic violence',\n 'opioid crisis brings unwanted attention wealthy family',\n 'asia prepares coronavirus boomerang wave residents return home',\n 'us “would actually glide path balancing budget” congress enacted trump’s 2018 plan',\n 'new breast cancer test approved',\n 'october 2017 epidemic child abduction state kansas',\n 'italy coronavirus deaths jump 52 cases climb 2000',\n 'barack obama lied fathers military service world war ii',\n 'sanders says he’ll enact national drinking water standards',\n 'judging recent vote rep debbie wasserman schultz thinks okay medical marijuana patients go federal prison',\n 'american psychiatric association condones pedophilia says normal sexually attracted children',\n 'senate bill 1070 simply mirrors federal law',\n 'peachtree pine one leading sites tuberculosis nation',\n 'sydneys city council reviews use bayers roundup weed killer amid cancer fears',\n 'drugs show promise slowing advanced melanoma',\n 'firm develops magneticpulse treatment major depression',\n 'tennessee reports 49 cases lung injury linked vaping',\n 'common dementia drug found improve parkinsons symptoms',\n 'drivers china commonly intentionally kill pedestrians hitandrun accidents',\n '1988 animated film akira predicted 2020 olympics would tokyo pandemic coronavirus would lead cancellation',\n 'opposed multilateral trade deal came senate',\n 'study “showed 1 million people north carolina exposed virus”',\n 'snacks marketed children heavily laden ingredients cause cancer',\n 'california sees high rate flu deaths unusually severe season',\n 'former nfl quarterback kurt warner married woman two children one special needs child',\n 'georgia’s kemp submits bid remake health insurance market',\n 'pigs fly china pork producers surge swine disease cuts supply',\n 'wellpoint says health exchange applicants hit expectations',\n 'gop health care plan would allow health insurance companies continue engaging unfair discriminatory practices like denying coverage people preexisting medical condition',\n 'israelis put coronavirus lockdown passover holiday celebration',\n 'obamacare cuts 500 billion future medicare funding order fund new constitutionally questionable government mandate even going far scuttle medicares popular successful part medicare advantage',\n 'newspaper clipping 1918 documents public notice city kelowna british columbia announcing schools movie theaters public places would closed prevent spread spanish influenza',\n 'saudi billionaire purchased entire town buford wyoming hired binladen group build “western mecca” ban nonmuslims',\n 'photograph captures president obama pointing nude painting donald trump',\n 'twist colorado asks epa lower state’s air rating',\n 'georgia aims ease virus spread among hispanic residents',\n 'liberal democrat judge released bond muslim extremist trained children new mexico compound become school shooters',\n 'alan grayson says daniel webster thinks wives submit husbands',\n 'novartiss cancer therapy wins uk backing initial lymphoma snub',\n 'san francisco spent 725 million fiscal year cleaning human waste drug paraphernalia drug users public needle program high school graduates',\n 'chinese communities rattled virus cancel new year events',\n 'dnc staffer seth rich gunned prevent meeting fbi plans testify hillary clinton',\n 'nevada 94 new coronavirus cases pushing total 1836',\n 'barack obama says protect guaranteed benefits medicare mitt romney would take away medicare guaranteed benefits',\n 'eating foods high vitamin c cuts risk cataract progression third',\n 'illinois lawmakers plan 2nd legionnaires’ disease hearing',\n 'furiex irritable bowel syndrome drug succeeds large trials',\n 'nearly 60 percent women use birth control family planning',\n 'scientists created humangorilla hybrid called hurilla',\n 'capsaicin spicecausing molecule chili peppers help beat breast cancer',\n 'scientists cook worlds first invitro beef burger',\n 'drinking boiled garlic water cure covid19',\n 'faced shortage face masks us doctors make',\n 'italy court ruling links mobile phone use tumor',\n 'technique improves breast reduction outcomes',\n 'oregon plans meetings proposed controlled burn rules',\n 'sororities outlawed certain campuses local brothel laws prohibit specified number females living together',\n 'windsor doctor joining direct primary care movement',\n 'new kind gene silencing drug works monkeys',\n 'activists warn balkan rivers risk hydropower plants',\n 'photograph shows red blood cell tip needle',\n 'cholesterol drugs may treat psoriasis',\n 'fireball whisky recalled due concerns dangerous ingredient',\n 'parade pandemic museum looks 1918′s deadly flu',\n 'teen baseball player finds alternative tommy john surgery',\n 'antiinflammatory diet could reduce risk bone loss women',\n 'colleges’ message ease student stress failure normal',\n 'illinois illnesses insect bites increased 58 percent',\n 'roughly 700 georgians die needlessly year far trauma center',\n 'new support home births uk board nice surprise rules baby home safer hospital lowrisk pregnancies',\n 'attorney general prosecuted judges district attorneys public officials across texas violated public trust corrupted',\n 'database police use look wanted suspects excludes certain warrants issued atlanta municipal court',\n 'less body fat toddlers taking vitamin',\n 'study proved ecigarette use vaping leads incurable condition known popcorn lung',\n 'massachusetts collecting data possible vaping illnesses',\n 'said president barack obama said going stop signature strikes',\n 'house representatives voted 300131 remove ‘countryoforigin labeling’ chicken pork beef sold us',\n 'beyond meat impossible burger foods nearly identical ingredients dog food',\n '40 days summer unsafe breathe air',\n 'pcsk9inhibitor drug class grew ut southwestern research becomes gamechanger patient extremely high cholesterol',\n 'producers grapple uw health’s shift local food',\n 'device treatment may silence ringing ears',\n 'abandoned “ghost ship” full ebolainfected rats make landfall florida',\n 'brett hulsey says opponent mary burke told reporters would required workers give bargainedfor healthcare retirement benefits like gov walker',\n 'education climate change health care lawmakers’ agenda',\n 'advertisement sought paid participants take part central american caravan us',\n 'soft drinks cocacola pepsi used pesticides farmers india',\n 'california governor doubts tougher vaccine rules',\n 'prenatal fix twin threat',\n '1998 senator chuck schumer caught taking 1 million excessive campaign contributions failing properly disclose 46 million expenses fined 138000',\n '“people color may immune coronavirus melanin”',\n 'knee replacement getting easier',\n 'old farmers almanac predicted alarming number snowstorms 2019 2020 winter season',\n 'soon ease antivirus curbs swiss say new cases decelerate',\n 'federal lawsuit targets west virginia foster care system',\n 'protein urine test may signal prostate cancer',\n 'marijuana contains 50 70 percent carcinogenic hydrocarbons tobacco',\n 'death toll nears 400 indias floodhit kerala dozens missing',\n 'condom manufacturer durex created coronavirus advertisement comparing face masks condoms',\n 'researchers make progress insomnia',\n 'kathryn starkey joined forces liberal democrats historic sales tax hike',\n 'twentythree states agreed enact total ban forms hollow point ammunition',\n 'kentucky issues harmful algae warning ohio river',\n 'north carolina confirms 2nd death legionnaires’ disease',\n 'commentary titled “getting know real john mccain” burma davis posey began making rounds august 2017 senator mccain voted gop’s plan repeal obamacare',\n 'folks washington already forcing buy government health care',\n 'tom delay says illegal immigrants draw welfare benefits they’re sending kids school they’re using public services',\n 'acupressure menstrual pain',\n 'study iowa nitrogen pollution water getting worse',\n 'health experts call heart checkups kids',\n 'new drug helps treatmentresistant arthritis',\n 'paul broun says us reps phil gingrey jack kingston even changed votes voted multiple times',\n 'vietnam mobilize military fight african swine fever',\n 'think look entire federal government president’s commitment fighting opioid addiction you’ll see actually hundreds millions dollars increase issue',\n 'promising better days macron extends frances lockdown may 11',\n 'president donald trump said “i signed letter congress make clear send legislation desk weakens protection human life issue veto … every child sacred gift god … every life worth protecting … know every life meaning every life worth protecting”',\n 'there’s data says gunfree zone saved lives',\n 'viral image says john f kennedy smoked cannabis white house president suffered severe back pain addisons disease',\n 'us farmers saturating wheat crops herbicide roundup desiccant harvest causing increase wheatrelated ailments',\n 'sweet news chocoholics',\n 'vulnerable people disappeared regulators didn’t know',\n 'tennessee county adding public health jobs fed funds',\n 'certain conditions lionesses grow manes develop masculine behavior',\n '“nonessential people get file unemployment make two three times normal” essential workers still job get pay raise',\n 'new eczema treatments could available soon',\n 'donald trump said good old days protesters harshly dealt carried away stretchers',\n 'stem cell research aims put end root canals',\n 'free lungcancer screening augusta area finds double cancer rate previous screenings',\n 'woman saved multiple lives using concealed carry pistol take department store shooter virginia',\n 'doctor missouri abortion clinic defends patient care',\n 'ted cruz says democrats told catholic church they’ll use federal powers shut church charities hospitals church doesn’t change beliefs',\n 'france end healthcare refunds homeopathic drugs',\n 'john mccain given erratic inconsistent answers troops return iraq',\n 'fired zimbabwe state doctors reject offer return work',\n 'prolonged use covid19related face masks cause health problems due breathing much exhaled carbon dioxide',\n 'fda questions using avodart cut prostate cancer risk',\n 'weight loss pill also lowers blood pressure',\n 'text transcribes press conference given actor former marine r lee ermey',\n 'officials warn exposure rabid bat omaha school',\n 'black soldiers lynched world war red summer 1919',\n 'flight attendant may exposed passengers hepatitis',\n 'german doctors declare “cure” hiv patient',\n 'mississippi phase warehouses nutrition program',\n 'july 2017 announced finnish researchers would begin human trials type 1 diabetes vaccine 2018',\n 'study dark chocolate improves blood vessel health',\n 'august 2017 nasa scientists declared mexicos lady guadalupe artifact living',\n 'drug may slow growth early prostate cancer',\n 'deanna lorraine says covid19 dr anthony fauci telling people february 29th nothing worry posed threat us public large',\n 'los angeles county identifies additional case measles',\n '500000 americans go bankrupt year medical bills',\n 'roche boss says brexit curbs drug use pose threat uk science',\n 'video clip apparently shows hillary clinton suffering seizure campaign trail raised questions health',\n 'congressman trey gowdy found badly beaten bloodied dragged congressional office washington dc june 2017 — police lookout attacker',\n 'texas officials investigating possible tuberculosis exposure',\n 'african american man living boston area shot police officers following dispute regarding marijuana cigarette',\n 'debate needs thyroid check pregnancy',\n 'biden discuss fight end cancer south southwest',\n 'said got 52 percent support women 2016 presidential election',\n 'data show 25 increase religious exemptions vaccines',\n 'wyoming health officials report rise stds',\n 'olive oil linked reduced stroke risk',\n 'studies proved abortion increases womans risk developing breast cancer',\n 'paracetamol use may raise asthma risk children',\n 'diabetes drug linked heart attacks death',\n 'photographs show peng shuilin chinese man lost lower half body automobile accident',\n 'internet list accurately cites historical facts figures proving worst mass exterminations civilian populations twentieth century result gun control laws',\n 'italy coronavirus deaths surge 793 day lifting total death toll 4825',\n '3 indicted unlicensed assisted living facilities case',\n 'study monthly fasting may help heart',\n 'asteriass stem cell therapy shows promise study',\n 'china virus outbreak may wallop economy financial markets',\n 'almost 100000 people left puerto rico last year',\n 'whether president obamas speeches school children spread socialist ideology',\n 'quarantined children wuhan defeated app assigning homework deluging onestar reviews caused removed app store',\n 'south korea steps measures contain bird flu',\n 'farmers dumping milk ditches trade dispute canada',\n 'un helicopters fly baby congo gorillas safety',\n 'three million europeans catch infections hospital annually',\n 'according fbi mexican drug cartels working 100000 street gang members chicago alone',\n '1929 secretary state shut program collecting information protect america unseemly move led millions millions deaths world war ii',\n 'gene therapy rare bleeding disorder achieves proofofconcept',\n 'people black minority ethnic populations affected detentions mental health act',\n 'another geneedited baby may way scientist says',\n 'climate fears lift greens chances running germany',\n 'federal lawsuit filed block alabama’s new abortion ban',\n 'weeks accepting quartermilliondollar campaign contribution hospital board chairman greg abbott went court victims drugtaking neurosurgeon',\n 'scientist optimistic obesity vaccine',\n 'monsanto plans replace honeybees wiped pesticides genetically modified ants',\n 'us fda approves medtronic heart valve system early',\n 'posts social media sites warn white hickory tussock moth caterpillars poisonous cause skin irritation serious health complications touched humans',\n 'vaping illnesses reported many involving marijuana',\n 'inside drugmakers strategy boost cancer medicines lazarus effect',\n 'doubts ovarian cancer relapse test',\n 'oregon officials confirm 2nd case vapingrelated illness',\n 'hampton beach guidelines passed backtoschool talk starts',\n 'ellen rosenblum says dwight holton never set foot oregon courtroom',\n 'extra servings veggies fail prevent cancer',\n 'states like new york illinois california vocal demands funding bail pension systems failing long covid19 outbreak programs aren’t related crisis',\n 'uk scientists make million potential covid19 vaccines proof',\n 'clinton foundation rates higher red cross charity rankings',\n 'nfl gave donald trump lifetime ban involved disastrous lawsuit league',\n 'medicare 51 percent americans 65 older health care coverage nearly 30 percent lived poverty line today thanks medicare nearly seniors coverage 75 percent fewer struggle poverty',\n 'never supported cap trade',\n 'california governor says broad power shutdown prevent fires unacceptable',\n 'adherence social distancing spurs dip projected us coronavirus deaths',\n 'us patent trademark office received zero complaints washington redskins name',\n 'sugar improves memory over60s helping work smarter',\n 'maine officials investigate legionnaires’ disease cluster',\n 'spinal manipulation home exercise may ease neck pain',\n 'statistics demonstrate islam overwhelm christendom unless christians recognize demographic realities begin reproducing',\n 'alternatives hysterectomies',\n 'lengthy email represented lies told senator barack obama',\n 'jfk smoked cannabis white house presidency treat various medical ailments',\n '12yearold girl livestreamed suicide hanging',\n 'alabama man suspected creating real life human centipede remains large',\n 'president trump filed reelection early means nonprofits cant criticize without losing taxexempt status',\n 'flint michigan still clean water september 2019',\n 'eightythree law enforcement officers died line duty year twentyfour shot killed cold blood',\n 'us report prescription drug prices slightly last year',\n 'legionnaires’ cases may linked chicagoarea hospital',\n 'medical pot use won’t put missouri patients’ welfare risk',\n 'natural tooth repair method using alzheimers drug could revolutionize dental treatments',\n 'covid act school officials us quarantine children covid19 symptoms outside family home without parents guardians consent',\n 'insect repellent companies hired ugandan man whose flatulence deadly mosquitoes',\n 'wife famous golfer blurted air kisses husbands balls luck',\n 'eleven states introducing truck curfew 11pm 6am',\n 'national football league enjoys taxexempt status nonprofit organization',\n 'deal let companies make overdose antidote spray',\n 'man florida cut genitals fed alligator high methamphetamine',\n 'obama instead nominating health professional nominated someone antigun activist surgeon general',\n 'new york voters turned away polls wear shirts endorsing specific candidates polling hours deliberately shortened suppress primary votes',\n 'dead meat industry faces ruin slow adapting climate change',\n 'lowest us birth rate 3 decades could pose risk economy',\n 'fish oil study finds little benefit pregnant women',\n 'davenport gym offers workouts people syndrome',\n 'antifreezelike ingredient swiffer wetjet kills pets cause liver failure children',\n 'hillary clinton says donald trump says organized crime runs wild reservations',\n 'us surgeon exposed clinton foundation corruption haiti found dead',\n 'rattled world war coronavirus deaths surge italy france',\n 'using hair dryer breathe hot air cure covid19 stop spread',\n 'magnet therapy may help stroke survivors recover',\n 'donald trump says popular vote deduct millions people voted illegally',\n 'polands wild boar cull prompts protests',\n 'donald trump says us election system rigged',\n 'actelion sleep aid well midstage clinical trial',\n 'frederica wilson says introduced ban dirty dancing',\n 'people die wisconsin drug overdoses car crashes',\n 'shallow waters dolphin therapy claims',\n 'government announced end hospital parking charges patients',\n 'face cpr training mannequin modeled deceased daughter doctor invented',\n '“the coronavirus invented patented usa planted china”',\n 'steve burns tvs blues clues died heroin overdose',\n 'silent heart attacks donã¢â‚¬â„¢t know could kill',\n 'man threatened trump family media figures gets 5 years',\n 'photograph shows protester facetoface nypd officer',\n 'france pledges debt relief hospitals unions call another strike',\n 'michelle obama urges africa advance womens rights',\n 'video shows abortion doctor stating loves killing babies',\n 'hospitals try giving patients dose vr',\n 'facebook post says wearing face masks harmful health going without one',\n 'donald trump says joe biden “abandoned scranton”',\n 'fbi said former national security adviser michael flynn wasn’t lying understand mueller group said lying know gone',\n 'pill could erase painful memories study shows',\n 'fastfood companies china step ‘contactless’ pickup delivery coronavirus rages',\n 'people age 40 cannot hear 15000 hz15 khz frequency',\n 'summer 2019 based advice advocate general european court justice set require jewishmade products labeled',\n 'ivory coast latest crack alcohol sachets',\n 'bag cheetos costs less buy apple milwaukee neighborhoods good luck trying find apple banana sort healthy option',\n 'suspected norovirus outbreak closes 46 colorado schools',\n 'albert einstein switched places chauffeur speaking engagement fielded question directed man audience thought',\n 'american dental association said semen cuts plaque tartar 77',\n 'new york issues stricter rules vaccine medical exemptions',\n 'lawsuits filed closed psychiatric facility',\n 'pilot missing malaysia airlines flight 370 reappeared taiwan two years plane disappeared',\n 'panel nixes aspirin cancer preventive',\n 'utah denies energysolutions accepting depleted uranium',\n 'beyond nasty needle trying make vaccines comfy convenient',\n 'jumped 11 places since beginning year terms jobfriendly',\n 'wildfire chilean port city valparaiso leaves 700 homeless',\n 'german restaurant takes novel approach keep cider flowing',\n 'governor cut funding repeatedly people aids need drugs save life',\n 'image shows 1979 horoscope',\n '3 companies pay california 70 million delaying drugs',\n 'pigs dont sweat therefore likely harbor parasites toxins making unhealthy eat',\n 'new penile implant notifies spouses via cell phone alerts husbands cheating',\n 'german auto industry calls incentives boost green car demand',\n 'new study finds proton therapy fewer side effects esophageal cancer patients',\n 'south korea reports recovered coronavirus patients testing positive',\n 'federal government there’s 16 billion duplicate programs cut',\n 'sleep fights colds study finds',\n 'hepatitis outbreak increases 11 cases yakima county',\n 'people work finance make 70000 80000 year',\n 'doctors rethink new cholesterol treatments',\n 'organic food farm groups ask obama require gmo food labels',\n 'bubba watson composed widely shared message criticized black lives matter included various conservative talking points',\n 'insulin study could lead new dosage devices',\n 'obamacare bureaucrat trying tell could get cat scan would delayed treatment',\n 'vitamin c may reduce harm infants’ lungs caused smoking pregnancy',\n 'blood test could identify people respond antidepressants',\n 'dawkins says gave football mental health',\n 'testing vaccine covid19 caused 61 63 female subjects become infertile',\n '“when using medical mask you’re supposed use… white side filter part you’re sick”',\n 'new device reduces seizures surgery required',\n 'mayor new york city encouraged adoptions adoptions went 6570 percent abortions went 16 percent',\n 'us sen kamala harris said elected president dont surrender guns sign executive order police show door',\n 'creative medical technology holdings announces commercialization patented stem cell procedure erectile dysfunction',\n 'losing thousands veterans waiting line cant get speedy health care veterans administration',\n 'ebola bad sars 2003',\n 'new mexico ag ‘frustrated’ response contamination',\n 'special candy fights cavities',\n 'soap star benard says quarantine hard mental health',\n 'doctors warning parents never use baby wipes contain chemical called methylisothiazolinone',\n 'methaddicted teen penned insightful poem jail shortly dying overdose',\n 'claim president trumps proposed 2020 budget would “ransack” “slash” medicare',\n 'alabama cps agents took custody baby teen mother raped',\n 'british cosmologist hawking backs right assisted suicide',\n 'cardiac hybrid imaging effective tool predicting heart attacks',\n 'sixth medical marijuana store opens week nd',\n 'threepronged distancing effective controlling covid19 study',\n 'firstofitskind cataract surgery using stem cells shows promise',\n 'florida commission says mental health system needs overhaul',\n 'chlorpyrifos insecticide alleged origins nazi germany set banned epa health environmental safety concerns president trump reversed decision dow chemicals manufacturer chemical donated one million dollars inauguration fund',\n 'fda approves first drug prevent preterm births',\n 'bushfires rage control across southeast australia',\n 'deer ticks turn east nebraska carry lyme disease',\n 'pranksters briefly changed californias iconic hollywood sign read hollyweed',\n 'cancer study finds promise cat scans smokers',\n 'popular teen youtuber planning “live oncamera abortion” raise bitcoin donations planned parenthood',\n 'connecticut testing newborns rare genetic disorder',\n 'doctors warmer world unhealthier place children',\n 'potential covid19 vaccine shows promise mouse study',\n 'novartis zolgensma study halted fda amid safety questions',\n 'researchers found simple cure cancer major pharmaceutical companies interested isnt patentable',\n 'benefits chocolate pregnancy',\n 'use frailty screening initiative surgery associated reduced risk death',\n 'here’s one woman used implant get relief chronic back pain',\n 'new device uses light screen melanoma',\n 'ohio high school closes probable case meningitis',\n 'marathons werent hard enough already strap tree back',\n 'outside recall elections theres never public official removed office wisconsin anything malfeasance office',\n 'kpccfm reporter josie huang told los angeles county sheriffs deputies journalist arrested september 2020',\n 'eli lilly drops inhaled insulin program',\n 'donald trump “announcing tomorrow us going quarantine next 14 days”',\n 'want fruit burger mcdonalds expands antiobesity push',\n 'hawaii launches campaign prevent spread rat lungworm',\n 'dr anthony fauci known 15 years chloroquine … hydroxychloroquine treat current case coronavirus prevent future cases”',\n 'abbott wins us approval stent absorbs body',\n 'british man named david hibbitt given 18 months live cured cancer cannabis oil',\n 'president obama ordered schools make bathrooms transgender face loss federal funding',\n 'places america among dangerous world go places like oakland ferguson crime numbers worse seriously',\n 'rhode island officials lift advisories bluegreen algae',\n 'irish pm says wont rushed abortion issue',\n 'filmmakers staged lemming death scenes disney nature documentary white wilderness',\n 'online tool helps beachgoers avoid dirty waters',\n 'cdc quietly updated covid19 mortality statistics summer 2020 show 6 previously reported deaths actually due coronavirus remaining 94 died preexisting health conditions',\n 'polis seeks boost child vaccinations respect exemptions',\n 'indians light lamps heed modis call coronavirus comradeship',\n 'proposed hospital merger gets key state approval',\n 'juul labs facing scrutiny federal state officials',\n 'carbon monoxide spike west coast indicates massive earthquake soon hit',\n 'french nursing home learns costly lessons containing coronavirus',\n 'case stirs question school liability student suicides',\n 'images show former wire iv former us vice president joe bidens wrist coughed sleeve presidential debate',\n 'bugs crawl persons ear make home slowly eat way brain',\n 'human animal cells sources like aborted foetuses vaccines linked childhood leukaemia diabetes',\n 'measles saps kids’ ability fight germs',\n 'year 18000 people die america dont health care',\n 'study identifies best tests predict alzheimers',\n 'fish oil seems help cancer patients preserve muscle',\n 'tweet reproduces 90second long sentence donald trump speech',\n 'fox news barely covered duggar family scandal megyn kelly able secure interview',\n 'new guidelines define prealzheimer’s disease',\n 'aggressive treatment weekend stroke',\n 'washington state updated curriculum standards include teaching transgenderism kindergarteners',\n 'athome gene test stirs debate',\n 'four quotations attributed peta president cofounder ingrid newkirk viral november 2018 meme authentic',\n 'surfs fitness studio',\n 'police seize ‘catnip cocktail’ nutrition store raid',\n 'wisconsin manufacturer finds groundwater pollution plant',\n '3 companies make insulin every country earth 3 companies charge 20 vial every country 300 per vial exact insulin united states alone',\n 'drugs good stents many heart patients',\n 'facebook post says pandemic occurs exactly every 100 years',\n 'hormone replacement tied lower colon cancer risk',\n 'china reports fourth case plague month',\n 'photograph shows large blood clot removed patients lung',\n 'stomach stapling may lower cancer risk women',\n 'hillary clinton responsible siege branch davidian compound waco texas ended 76 civilian deaths',\n 'saint corona patron saint epidemics',\n 'countynewsroominfo says 2 moms 5 kids killed car crash nearby county',\n 'multitude vaccines prevent deadly crippling diseases',\n 'zantac ranitidine similar acid reflux medications cause users falsely test positive meth use',\n 'eighth russian ties trumprussia scandal mysteriously died',\n 'viral image says tom hanks volleyball keep company he’s quarantined',\n 'break factual claims made 98 cases john walker lindh michael alonzo thompson',\n 'clinic helps veterans first responders free care',\n 'new us analysis backs annual breast screening',\n 'new fau study suggests benefits regular mammography extend elderly',\n 'new study suggests it’s possible get people opioids improve pain',\n 'placing feet cars dashboard cause knees go eye sockets event airbag deployment',\n 'wisconsin bill limit use food stamps junk food would also prevent limit extent food stamps could used organic foods',\n 'study texas school districts scant sex education',\n 'secretary state rejects 2 cleanenergy initiatives',\n 'aspirin cuts death rate several common cancers',\n 'rigevidon cause blood clots strokes burst aneurysms',\n 'novartis employees may violated trial protocol japan',\n '2014 case involving man convicted abusing two underage girls judge roy moore disagreed wrote dissenting opinion',\n 'throw 23 million people health insurance people cancer people heart disease people diabetes thousands people die … study study making point',\n 'major country earth doesnt guarantee health care people right',\n 'one reasons believe we’re trouble yemen lost population drone strikes issues that’s stirred population that’s happening yemen',\n 'mri images may pinpoint time stroke',\n 'coronavirus test rampup help abbott weather toughest quarter',\n 'scott henson says texas 11 different felonies commit oyster',\n 'forcefeeding menu france trials naturally fatty foie gras',\n 'catherine cortez masto says joe heck voted 10 times defund planned parenthood heck opposes womans right choose even health risk',\n 'supermarket chain restricts “chemicals concern”',\n 'new osteoporosis treatment uses traditional chinese herb prevent bone loss',\n 'article details four things didnt know martin luther king jr',\n 'meetings set discuss higher cancer rates 4 ny regions',\n 'new virginia regulations abortion clinics provide sanitary environment expect dental offices',\n 'us representative kyrsten sinema arizona voted allow abortions birth',\n 'day italy sent home 14000 patients treating aspirin apronax',\n 'excolorado gov hickenlooper supports universal health care',\n 'dry needling pain therapy scrutiny',\n 'cnsnews says oregon law girls 15 years age given complete control whether sterilized',\n 'weighing risk obese youth',\n 'texas cattle groups dispute tick treatment ban',\n 'every forwarded copy email received american cancer society donate three cents cancer research',\n 'doctor italy shared numerous details hospitals country dealing covid19 disease caused new coronavirus',\n 'study poor results lapband surgery',\n 'facebook post says gov tony evers “pushing firearm confiscation orders”',\n 'drop 21 million cellphone subscribers china early 2020 documents death toll covid19 vastly underreported country',\n 'school uniform policy helps school safety helps truancy',\n 'people five seven times likely murdered workplaces allow firearms prohibit',\n 'jakarta coffin maker faces gruelling days coronavirus death toll climbs',\n 'alaska quake damage could much worse experts say',\n 'doctor’s checkup teleconference',\n 'john mccain released five years captivity vietnam 1973 year donald trump sued justice department racial bias real estate',\n 'florida ranked 50th nation mental health care funding',\n 'tech billionaires bill gates steve jobs advocated limiting childrens use technology',\n 'chrono therapeutics smoking cessation technology demonstrates significant reduction nicotine cravings',\n 'city brookhaven’s ordinance could cause pink pony close thereby putting 300 pink pony employees work economy',\n 'photograph shows bedroom sons murdered civil rights leader medgar evers',\n 'jeanne shaheen says scott brown cosponsored legislation let employers deny women coverage mammograms',\n 'trump directs government revamp care kidney disease',\n 'knee repair half cant play sports',\n 'arkansas gets donation trumppromoted antimalarial drug',\n 'spit test may diagnose predict duration concussion kids',\n 'happiness study draws frowns critics',\n 'portland public schools invites wellpaid wellfed school bureaucrats administrators teachers staff nonneedy students affluent parents students adults including extreme adult homeless illegal aliens fanatical muslim terrorists drug addicted street people enjoy cheap breakfasts taxpayerpaid school facilities amidst school children',\n 'groucho marx made risqué wisecrack cigar female bet life contestant 19 children',\n 'indonesias capital curbs private cars bid cut choking pollution',\n 'seattle imposed excise tax distributors sweetened drinks',\n 'omega3 oils shown good brain health study involving older people',\n 'obama administration fighting court allow noncitizens vote general elections',\n 'minnesota man jailed simply possessing windmill property',\n 'many people remember line saying see white people film scary movie parodied among things sixth sense — line actually scary movie',\n 'clinical trial examines safety effectiveness drug treat binge eating disorder',\n 'president trump last month proposed 6 billion cut funding national institutes health thank god congressmen made deal last night go along actually increased funding 2 billion',\n 'two videos show muslim migrants muslim mob attacking people',\n 'ebola threatens megacities vaccine stockpile needs grow',\n 'former alaska governor critically injured automobile accident',\n 'cavityfighting liquid lets kids avoid dentists’ drills',\n 'clinton foundation cargo ship arriving africa raided found contain illegal contraband form foreign refugees narcotics weapons illegal fruits',\n 'radio personality michael savage fired talked hillary clintons health air',\n 'high anxiety proposed us hemp rules worry industry',\n '‘an inconvenient sequel’ kicks climatefocused sundance',\n 'hairs eat study says',\n 'georgia reopen businesses early friday',\n 'sarah ponder says 800000 cost texas special legislative session would pay 16 million condoms 90000 months pill 20 fulltime sexual health educators',\n 'weekend workouts benefit health much week exercise say researchers',\n 'animal health care company open mississippi facility',\n 'vaccine panel gives nod hpv shots men age 26',\n 'washington liberals wanted take away guns chet said',\n 'facebook post says gov tony evers “removed american flag capitol building”',\n 'socalled “benadryl challenge” went viral tiktok 2020 challenging teenagers overdose allergy medication elicit hallucinatory effects prompting warnings medical experts potential risk overdose death',\n 'antidepressant may help ease hot flashes',\n 'cant speak calling 999 uks version 911 pressing 55 alert operator emergency',\n 'new york called include menthol flavored tobacco ban',\n 'artificial butter flavoring used microwave popcorn poses danger lung damage ordinary consumers',\n 'snowstorms shut ireland britain calls army hospitals',\n '53 percent americans cut back health care last year costs',\n 'new mexico governor seeks ideas recreational pot law',\n 'would first year everything holds true spend 10 billion state budget medicaid 28 billion budget',\n 'number killings citizens police twodecade high',\n 'antiabortion republican us rep scott desjarlais testified encouraged women abortions',\n 'jeff merkley says ongoing economic downturn child abuse rise',\n 'millions americans gaze upon mondays onceinalifetime eclipse',\n 'da king says rick perry proposed binational health insurance program mexico',\n 'new tranquilizer dart gun market designed put children sleep',\n 'evers vows ‘fight like hell’ medicaid expansion',\n 'exclusive indias ntpc snubs foreign emissions tech shuts ge others 2 billion orders',\n 'blogger says cnn host fareed zakaria calls jihad rape white women',\n 'researchers dig controversy jerusalem',\n 'affordable coverage workplace im eligible go marketplace it’s illegal',\n 'plague madagascar hits urban areas kills 2 dozen people',\n 'germany rare virus linked fatal encephalitis cases',\n 'new study claims prostate cancer screenings significantly reduce deaths everyone agrees',\n 'austin mayoral candidate steve adler opposed injunction stop company dumping petrochemicals directly barton springs aquifer',\n 'fresh grounds coffee study shows may boost longevity',\n 'obesity surgery may lower heart attack danger diabetics',\n 'france cull wild boar belgium border swine fever alert',\n 'says obamaera rule denied gun rights elderly sought help taxes',\n 'marijuana farms may straining new mexico water supplies',\n 'fish oil use pregnancy didnâ€™t make babies smart',\n 'eastern equine encephalitis detected 2 communities',\n 'study evidence links earthquakes energy waste wells',\n 'exposed sun two hours kills 2019 coronavirus',\n 'flash needles acupuncture better placebo hot flashes',\n 'cant give child aspirin school without permission cant kind medication secretly take child abortion',\n 'agency partially treated sewage enters delaware bay',\n 'india shuts flights big cities coronavirus toll rises region',\n 'europe assessing weight affects morning pill success',\n 'huntsmans give 150m start mental health institute',\n 'novel procedure improves kidney transplant success',\n 'bill oregon state legislature “designed allow starving patients dementia mental illness death',\n 'two new blood thinners better plavix warfarin studies say',\n 'president trump recite apostles creed attendees george hw bushs funeral',\n 'nogo zones sweden police cant enter',\n 'jobless claims decline new mexico prepares reopening',\n '“covid19 pcr tests scientifically meaningless”',\n 'healthy skeptic dha touted ‘smart’ pill kids',\n 'us group bombards doctors coronavirus petition cut red tape',\n 'iv fluids fewer csections',\n 'pop star lady gaga hermaphrodite',\n 'viral photograph showing canine coronavirus vaccine demonstrates already exist human vaccine covid19',\n 'photograph shows protesters displaying antisemitic sign covid19 lockdown protest',\n '“sweden zero lockdown” “is worse shape denmark norway” lockdown',\n 'fda approves first new drug lupus 56 years',\n 'two women entered closed amusement park sued operators injuring improperly selfoperating attraction',\n 'players online world warcraft game hit ingame virus one later studied researchers',\n 'centers disease control preventions guidelines listing covid19 death certificates absence test resulting case overcount',\n 'corrections corporation america cca said cannabis legalization would harm profits spend 1 million per year fighting changes marijuana laws',\n 'flu shots contain toxins ingredients destroy brain cause alzheimer’s disease',\n 'last year one deadliest years ever law enforcement officers',\n 'new evidence shows wearing face mask help coronavirus enter brain pose health risk',\n 'every time particular message shared company donate money towards medical care 14yearold boy shot stepfather defending 2yearold sister rape',\n 'laurie monnes anderson says registered nurse',\n 'us states fall short recommended testing levels',\n 'kiss bassist gene simmons cows tongue grafted onto',\n 'britishiranian woman held iran moved psychiatric ward',\n 'mr mrs leland stanford decided found university rebuffed harvards president',\n 'illegal immigrants trashing arizona desert pass way united states',\n 'federal witness due testify hillary clinton drug crimes killed massive explosion',\n 'former us rep trey gowdy penned text suggesting covid19 part conspiracy us president donald trump',\n 'study shines light low wintertime male libido',\n 'dale earnhardt jr miss least 2 races',\n 'us warns citizens china pneumonia outbreak',\n 'drink day good middleaged women study finds',\n 'fruits vegetables may prolong life',\n 'drug overdose deaths slightly new mexico',\n 'eighteen us states still laws banning oral sex',\n 'facebook post says robin vos wore protective gear “election workers forced work … have”',\n 'september 2017 truck drivers unions puerto rico went strike refused take part relief efforts series hurricanes',\n 'forwarded email author calls many “firsts” president barack obama',\n 'mount sinai researchers involved successful phase 3 trial drug liver cancer',\n 'centerville elementary school lancaster pennsylvania canceled christmas play two parents complained reference god',\n 'higher vitamin e intake tied lower dementia risk',\n 'cargillled fund pay us farmers carbon capture exchange credits',\n 'open windows doors improve sleep quality',\n 'embryo screening helps couples avoid genetic diseases',\n 'victorias secret bras tracking devices part sex trafficking conspiracy',\n 'september 2019 new york city made illegal call anyone illegal illegal alien imposing 250000 fine offenders',\n '‘heartbreaking’ report shows virus ravaging ny nursing homes',\n 'facebook post says fluid milk production limitations mean grocery stores short milk even farmers dumping',\n 'watchdog staff issues affect care reservation hospitals',\n 'us panel triples vitamin intake guideline',\n 'deadly deer virus found minnesota first time',\n 'india bets mobiles battle maternal child deaths',\n 'policy established requirements people wear masks public settings covid19 pandemic oregons lincoln county said june 2020 residents color exempt rule',\n 'marion hammer says rabid animals states carry different strains rabies florida vaccines serums don’t affect',\n 'antiinflammatory drugs might someday treat depression',\n 'bristol pfizer delay clot drug setback',\n 'northern red sea coral reefs may survive hot grim future',\n 'theme original star trek television includes neverused lyrics',\n 'pesticide ban cuts south koreas high suicide rate bit',\n 'vengeful polish dentist pulled exboyfriend’s teeth',\n 'video shows mother forcibly shaving daughters head punishment making fun bald cancer patient',\n 'administration issued rules 1 abortions obamacare requires persons enrolled insurance plans include elective abortion coverage pay abortion premium',\n 'school nurses serve many needs',\n 'worlds first baby born via womb transplant dead donor',\n 'social media posts claim tylenol motrin zyrtec benadryl products kids infants recalled',\n 'kansas launches campaign reduce stillbirth rate state',\n 'there’s new hope blood cancers comes umbilical cords',\n 'app helps save seattle cardiac patient',\n 'ukeu deadlocked brexit talks clock ticks',\n 'screen heart patients depression aha urges',\n 'feds seattle barrel company used hidden drain pollute',\n 'viral piece text accurately lists nine things women couldnt 1971',\n 'california college student pledged cut genitals protest president trump’s proposed border wall',\n 'scientific data linked surge volcanic activity hawaii increased fracking activity nearby geothermal energy plant',\n 'iowa park uses goats help eradicate invasive species',\n 'fda warns dollar tree flagged chinese manufacturers',\n 'blood test britains angle detects ovarian cancer study',\n 'study finds uk sugar tax could save thousands obesity diabetes',\n 'buried affordable care act huge government bailout',\n 'cracking conundrum chronic fatigue syndrome',\n 'industry scrambles stop fatal bird flu south carolina',\n 'guidelines say women may need breast cancer gene test',\n 'startup wants bring back vioxx hemophilia joint pain',\n 'photograph shows girl killed drunkdriving accident accompanying text recording last words',\n 'betablockers used musicians athletes students enhance performance',\n '10 years free trade brought 2 billion per day trade deficit',\n 'new blood thinner may outperform warfarin irregular heartbeat',\n 'donald trump says hillary clinton wrong say mocked disabled reporter',\n 'russia slams new york times financial times virus deaths',\n 'game called blue whale encouraging children teenagers russia kill',\n 'vegetarians unaffected covid19 virus passed eating meat',\n 'women likely die heart attack study',\n 'un clinches deal stop plastic waste ending sea',\n 'medical alert says stop use antiinflammatories pain high temperatures',\n 'china reports 97 new coronavirus deaths mainland sunday toll rises 908',\n 'us board allows gynecologists treat men',\n 'fda approves trulance chronic idiopathic constipation',\n 'thailand override cancer drug patents',\n 'tina turner gravely ill due stomach intestinal cancer stroke andor rejection kidney liver transplant',\n 'mammogram benefit seen women 40s',\n 'murphy state doubling coronavirus ‘contact tracers’',\n 'fauci says threats personal security secondary curbing coronavirus',\n '“under leadership wvgovernor justice west virginia highest rate covid19 spread person person state”',\n 'indonesia swine fever outbreak kills 4000 pigs',\n 'united states record number abortions year year year',\n 'mike villarreal says gov rick perrys administration proposed ending immunizations 113000 kids',\n 'chinas new coronavirus cases fall eyes northeastern province',\n 'six flags temporarily closing one theme parks public host muslim family day',\n 'mayo researchers say oral apixaban safe effective treating blood clots cancer patients',\n 'democrats hit trump epa nominee coal lobbying rollbacks',\n 'donald trump says hillary clinton’s immigration platform would create totally open borders',\n 'aspirin alone good clot buster knee surgery',\n 'nobody suffered lasting injuries cia interrogation program',\n 'new beverage tax increase cost sodas juice drinks sports drinks iced teas flavored water 50',\n 'new york race time trump stresses face masks voluntary',\n 'almost pinpoint half gun violence deaths two three specific sections city areas devastation economically otherwise',\n 'go look west point website you’ll see specific words ‘full scholarship west point’ even though know given grant anybody gets words used',\n 'invasion big voracious lizards threatens us south study',\n 'fda probes safety popular heart stent',\n 'mind path comfort',\n 'chicken jerky treats china causing illness pets',\n 'new mexico looks paths universal health insurance',\n 'dimethylpolysiloxane used silicone caulks adhesives — well mcdonald’s fries menu options chain restaurants across country',\n 'vincent fleck father doctor leaked hillary clinton’s medical information press died suddenly suspicious circumstances',\n 'indiana muslims appalled billboard displaying list deeds prophet muhammad even though accurate',\n 'tim pawlenty says scientists dispute whether gay choice',\n 'working sweat may protect men lethal prostate cancer',\n 'ancestrycom retain rights genetic information sign dna testing',\n 'focus deep brain stimulation treat disorders',\n 'exofficer accused shooting neighbor claims ptsd',\n '2006 donald trump hoping real estate crash',\n 'new valve procedure doesn’t open heart',\n 'charles schumer says donald trump campaigned cutting medicare social security nominee secretary health human services tom price made career cutting medicare medicaid',\n ...]"
     },
     "execution_count": 62,
     "metadata": {},
     "output_type": "execute_result"
    }
   ],
   "source": [
    "claims"
   ],
   "metadata": {
    "collapsed": false,
    "ExecuteTime": {
     "end_time": "2023-12-15T15:38:41.941584100Z",
     "start_time": "2023-12-15T15:38:41.916571400Z"
    }
   },
   "id": "b248a53be1ea07d0"
  },
  {
   "cell_type": "markdown",
   "source": [
    "## Preprocessing Claims"
   ],
   "metadata": {
    "collapsed": false
   },
   "id": "fd9e3b37a57b5160"
  },
  {
   "cell_type": "code",
   "execution_count": null,
   "outputs": [],
   "source": [
    "import string\n",
    "\n",
    "def remove_punctuation(text):\n",
    "    if not isinstance(text, str):\n",
    "        text = str(text)  # Convert non-strings to strings\n",
    "    return text.translate(str.maketrans('', '', string.punctuation))\n",
    "\n",
    "# Apply the function to the text column\n",
    "pub['cleaned_text'] = pub['claim'].apply(remove_punctuation)"
   ],
   "metadata": {
    "collapsed": false
   },
   "id": "28ce99ec6dd55fd1"
  },
  {
   "cell_type": "code",
   "execution_count": null,
   "outputs": [],
   "source": [
    "# Convert text to lowercase\n",
    "pub['cleaned_text'] = pub['cleaned_text'].str.lower()"
   ],
   "metadata": {
    "collapsed": false
   },
   "id": "d96a9589293109b0"
  },
  {
   "cell_type": "code",
   "execution_count": null,
   "outputs": [],
   "source": [
    "import nltk"
   ],
   "metadata": {
    "collapsed": false
   },
   "id": "e3f025a5522dbef6"
  },
  {
   "cell_type": "code",
   "execution_count": null,
   "outputs": [],
   "source": [
    "from nltk.corpus import stopwords\n",
    "nltk.download('stopwords')\n",
    "stop_words = set(stopwords.words('english'))\n",
    "\n",
    "# Remove stop words\n",
    "pub['cleaned_text'] = pub['cleaned_text'].apply(lambda x: ' '.join([word for word in x.split() if word not in stop_words]))"
   ],
   "metadata": {
    "collapsed": false
   },
   "id": "a72f98af4547e1ec"
  },
  {
   "cell_type": "markdown",
   "source": [
    "## Generate Embeddings for Claims"
   ],
   "metadata": {
    "collapsed": false
   },
   "id": "540b539d4632a053"
  },
  {
   "cell_type": "code",
   "execution_count": null,
   "outputs": [],
   "source": [
    "import numpy as np\n",
    "import torch\n",
    "from tqdm.auto import tqdm\n",
    "from transformers import AutoTokenizer, AutoModel  "
   ],
   "metadata": {
    "collapsed": false
   },
   "id": "41223de46a376b7b"
  },
  {
   "cell_type": "code",
   "execution_count": null,
   "outputs": [],
   "source": [
    "tokenizer = AutoTokenizer.from_pretrained(\"cambridgeltl/SapBERT-from-PubMedBERT-fulltext\")\n",
    "model = AutoModel.from_pretrained(\"cambridgeltl/SapBERT-from-PubMedBERT-fulltext\")"
   ],
   "metadata": {
    "collapsed": false
   },
   "id": "39d18de63246be53"
  },
  {
   "cell_type": "code",
   "execution_count": null,
   "outputs": [],
   "source": [
    "claims = pub['cleaned_text'].to_list()"
   ],
   "metadata": {
    "collapsed": false
   },
   "id": "69bf49f974c387b5"
  },
  {
   "cell_type": "code",
   "execution_count": null,
   "outputs": [],
   "source": [
    "batch_encoded_input = tokenizer.batch_encode_plus(claims, padding=True, return_tensors='pt')"
   ],
   "metadata": {
    "collapsed": false
   },
   "id": "a1847d89115e7105"
  },
  {
   "cell_type": "code",
   "execution_count": null,
   "outputs": [],
   "source": [
    "import numpy as np\n",
    "import torch\n",
    "from tqdm.auto import tqdm\n",
    "from transformers import AutoTokenizer, AutoModel  \n",
    "\n",
    "tokenizer = AutoTokenizer.from_pretrained(\"cambridgeltl/SapBERT-from-PubMedBERT-fulltext\")  \n",
    "model = AutoModel.from_pretrained(\"cambridgeltl/SapBERT-from-PubMedBERT-fulltext\").cpu()\n",
    "\n",
    "\n",
    "bs = 128 # batch size during inference\n",
    "def get_embeddings(text):\n",
    "    embeddings = []\n",
    "    for i in tqdm(np.arange(0, len(text), bs)):\n",
    "        toks = tokenizer.batch_encode_plus(text[i:i+bs], \n",
    "                                           padding=\"max_length\", \n",
    "                                           max_length=25, \n",
    "                                           truncation=True,\n",
    "                                           return_tensors=\"pt\")\n",
    "        toks_cuda = {}\n",
    "        for k,v in toks.items():\n",
    "            toks_cuda[k] = v.cpu()\n",
    "        cls_rep = model(**toks_cuda)[0][:,0,:] # use CLS representation as the embedding\n",
    "        embeddings.append(cls_rep.cpu().detach().numpy())\n",
    "    embeddings = np.concatenate(embeddings, axis=0)\n",
    "    return embeddings"
   ],
   "metadata": {
    "collapsed": false
   },
   "id": "d8fb3b2d3a17f979"
  },
  {
   "cell_type": "code",
   "execution_count": null,
   "outputs": [],
   "source": [
    "claim_embeddings = get_embeddings(claims)"
   ],
   "metadata": {
    "collapsed": false
   },
   "id": "f69689649d1658c6"
  },
  {
   "cell_type": "markdown",
   "source": [
    "## Preprocessing Documents and Generate Embeddings"
   ],
   "metadata": {
    "collapsed": false
   },
   "id": "d5ad890d8b51a4ba"
  },
  {
   "cell_type": "markdown",
   "source": [
    "##### Load evidence documents"
   ],
   "metadata": {
    "collapsed": false
   },
   "id": "8651811e30da6482"
  },
  {
   "cell_type": "code",
   "execution_count": null,
   "outputs": [],
   "source": [
    "# Import Module \n",
    "import os \n",
    "\n",
    "# Folder Path \n",
    "path = \"D:/Master Thesis/PUBHEALTH_EVIDENCE_DOCS/\"\n",
    "\n",
    "# Change the directory \n",
    "os.chdir(path) \n",
    "\n",
    "def read_text_file(file_path): \n",
    "    with open(file_path, 'r', encoding=\"utf8\") as f:\n",
    "        doc = f.read()\n",
    "    return doc\n",
    "        "
   ],
   "metadata": {
    "collapsed": false
   },
   "id": "6d59000c4dbf7ddb"
  },
  {
   "cell_type": "code",
   "execution_count": null,
   "outputs": [],
   "source": [
    "# iterate through all file \n",
    "evidence_documents = []\n",
    "for num,file in enumerate(os.listdir()):\n",
    "    if file.endswith(\".txt\"):\n",
    "        file_path = f\"{path}/{file}\"\n",
    "        evidence_documents.append(read_text_file(file_path))\n",
    "        "
   ],
   "metadata": {
    "collapsed": false
   },
   "id": "26b99a48c6764dec"
  },
  {
   "cell_type": "code",
   "execution_count": null,
   "outputs": [],
   "source": [
    "evidence_documents"
   ],
   "metadata": {
    "collapsed": false
   },
   "id": "1436331de17d36ad"
  },
  {
   "cell_type": "code",
   "execution_count": null,
   "outputs": [],
   "source": [
    "preprocessed_documents = [remove_punctuation(doc) for doc in evidence_documents]"
   ],
   "metadata": {
    "collapsed": false
   },
   "id": "fbe5327bdae29499"
  },
  {
   "cell_type": "code",
   "execution_count": null,
   "outputs": [],
   "source": [
    "preprocessed_documents = [doc.lower() for doc in preprocessed_documents]"
   ],
   "metadata": {
    "collapsed": false
   },
   "id": "ad181510261084e9"
  },
  {
   "cell_type": "code",
   "execution_count": null,
   "outputs": [],
   "source": [
    "preprocessed_documents = [doc.replace('\\n', ' ') for doc in preprocessed_documents]"
   ],
   "metadata": {
    "collapsed": false
   },
   "id": "b760b37a9b05bbc4"
  },
  {
   "cell_type": "code",
   "execution_count": null,
   "outputs": [],
   "source": [
    "preprocessed_documents = [doc.replace('\\t', ' ') for doc in preprocessed_documents]"
   ],
   "metadata": {
    "collapsed": false
   },
   "id": "88936ee1f2be869c"
  },
  {
   "cell_type": "code",
   "execution_count": null,
   "outputs": [],
   "source": [
    "# Remove stopwords from each document in the list\n",
    "preprocessed_documents = [' '.join([word for word in doc.split() if word not in stop_words]) \n",
    "                          for doc in preprocessed_documents]\n"
   ],
   "metadata": {
    "collapsed": false
   },
   "id": "b9dc810e51ec9396"
  },
  {
   "cell_type": "code",
   "execution_count": 41,
   "outputs": [
    {
     "data": {
      "text/plain": "  0%|          | 0/33 [00:00<?, ?it/s]",
      "application/vnd.jupyter.widget-view+json": {
       "version_major": 2,
       "version_minor": 0,
       "model_id": "0087525d1941460ab88c74eb798b2112"
      }
     },
     "metadata": {},
     "output_type": "display_data"
    }
   ],
   "source": [
    "document_embeddings = get_embeddings(preprocessed_documents)"
   ],
   "metadata": {
    "collapsed": false,
    "ExecuteTime": {
     "end_time": "2023-12-15T10:27:04.651781900Z",
     "start_time": "2023-12-15T10:23:47.380563300Z"
    }
   },
   "id": "71b7adb6eae0701c"
  },
  {
   "cell_type": "markdown",
   "source": [
    "## Indexing , Saving and Querying Documents"
   ],
   "metadata": {
    "collapsed": false
   },
   "id": "5e2e67b41a3a5257"
  },
  {
   "cell_type": "code",
   "execution_count": 42,
   "outputs": [],
   "source": [
    "import faiss\n",
    "import numpy as np\n",
    "\n",
    "embedding_matrix = np.vstack(document_embeddings)  # Assuming embeddings is a list of numpy arrays\n",
    "\n",
    "d = embedding_matrix.shape[1]  # Dimension of embeddings\n",
    "\n",
    "# Create a FAISS index\n",
    "index = faiss.IndexFlatL2(d)"
   ],
   "metadata": {
    "collapsed": false,
    "ExecuteTime": {
     "end_time": "2023-12-15T10:27:33.482372400Z",
     "start_time": "2023-12-15T10:27:31.639089600Z"
    }
   },
   "id": "c6b265a87423d176"
  },
  {
   "cell_type": "code",
   "execution_count": 43,
   "outputs": [],
   "source": [
    "index.add(embedding_matrix)"
   ],
   "metadata": {
    "collapsed": false,
    "ExecuteTime": {
     "end_time": "2023-12-15T10:27:56.383217800Z",
     "start_time": "2023-12-15T10:27:56.310376800Z"
    }
   },
   "id": "af506f0a83ab3f10"
  },
  {
   "cell_type": "code",
   "execution_count": 44,
   "outputs": [],
   "source": [
    "faiss.write_index(index, \"D:/Master Thesis/src/documents.index\")"
   ],
   "metadata": {
    "collapsed": false,
    "ExecuteTime": {
     "end_time": "2023-12-15T10:29:41.340988800Z",
     "start_time": "2023-12-15T10:29:41.308782Z"
    }
   },
   "id": "52859b21ee0512c2"
  },
  {
   "cell_type": "code",
   "execution_count": 45,
   "outputs": [],
   "source": [
    "index = faiss.read_index(\"D:/Master Thesis/src/documents.index\")"
   ],
   "metadata": {
    "collapsed": false,
    "ExecuteTime": {
     "end_time": "2023-12-15T10:30:03.865482900Z",
     "start_time": "2023-12-15T10:30:03.837384700Z"
    }
   },
   "id": "4d3391d881dc1334"
  },
  {
   "cell_type": "code",
   "execution_count": 46,
   "outputs": [],
   "source": [
    "def search(query, k=10):\n",
    "    query_embedding = get_embeddings([query])\n",
    "    scores, indices = index.search(query_embedding, k)\n",
    "    return scores, indices"
   ],
   "metadata": {
    "collapsed": false,
    "ExecuteTime": {
     "end_time": "2023-12-15T10:30:25.549098400Z",
     "start_time": "2023-12-15T10:30:25.530480100Z"
    }
   },
   "id": "ca0023f3284ecc75"
  },
  {
   "cell_type": "code",
   "execution_count": 57,
   "outputs": [
    {
     "data": {
      "text/plain": "  0%|          | 0/1 [00:00<?, ?it/s]",
      "application/vnd.jupyter.widget-view+json": {
       "version_major": 2,
       "version_minor": 0,
       "model_id": "8c4ee067d1c2468ab4dd1092b9965d59"
      }
     },
     "metadata": {},
     "output_type": "display_data"
    }
   ],
   "source": [
    "scores, indices = search(claims[0])"
   ],
   "metadata": {
    "collapsed": false,
    "ExecuteTime": {
     "end_time": "2023-12-15T15:38:02.975235700Z",
     "start_time": "2023-12-15T15:38:02.811226300Z"
    }
   },
   "id": "4c8156d52079bc98"
  },
  {
   "cell_type": "code",
   "execution_count": 58,
   "outputs": [
    {
     "name": "stdout",
     "output_type": "stream",
     "text": [
      "[[131.43166 161.05968 165.43791 165.79529 166.12045 166.12045 169.04494\n",
      "  170.94376 173.53055 173.59906]]\n"
     ]
    }
   ],
   "source": [
    "print(scores)"
   ],
   "metadata": {
    "collapsed": false,
    "ExecuteTime": {
     "end_time": "2023-12-15T15:38:04.539595Z",
     "start_time": "2023-12-15T15:38:04.513587900Z"
    }
   },
   "id": "79dfd259c97d96ec"
  },
  {
   "cell_type": "code",
   "execution_count": 59,
   "outputs": [
    {
     "name": "stdout",
     "output_type": "stream",
     "text": [
      "[[ 711 1655 1426 2754 2963 2964 2905 2181 3244  695]]\n"
     ]
    }
   ],
   "source": [
    "print(indices)"
   ],
   "metadata": {
    "collapsed": false,
    "ExecuteTime": {
     "end_time": "2023-12-15T15:38:05.578010700Z",
     "start_time": "2023-12-15T15:38:05.543448400Z"
    }
   },
   "id": "bd7a9d11f5e8d1e2"
  },
  {
   "cell_type": "code",
   "execution_count": 60,
   "outputs": [],
   "source": [
    "nearest_documents = [evidence_documents[i] for i in indices[0]]"
   ],
   "metadata": {
    "collapsed": false,
    "ExecuteTime": {
     "end_time": "2023-12-15T15:38:06.507892300Z",
     "start_time": "2023-12-15T15:38:06.477664500Z"
    }
   },
   "id": "a5992aa09b00f16c"
  },
  {
   "cell_type": "code",
   "execution_count": 61,
   "outputs": [
    {
     "name": "stdout",
     "output_type": "stream",
     "text": [
      "Score: 131.43165588378906, Document: Congress had both good practical reason and Constitutional authority to enact PLCAA.\n",
      " Its purpose and effect was to call a halt to the campaign (backed by the administration of Bill Clinton, Hillary’s husband) to launch financially ruinous litigation against firearms makers and dealers — most of them thinly capitalized firms unable to withstand massive legal bills — and apply the resulting leverage to extract promises of gun control without the bother of seeking approval for those measures from a then‐​skeptical U.S. Congress.\n",
      " It was a campaign rightly decried as undemocratic even by such figures of the Left as former cabinet secretary Robert Reich.\n",
      " It was also a travesty of legal ethics, employing litigation as a pure weapon; thus then‐​HUD secretary Andrew Cuomo warned gunmakers that unless they cooperated they’d suffer “death by a thousand cuts”, while then‐​New York Attorney General Eliot Spitzer reportedly warned Glock: “If you do not sign, your bankruptcy lawyers will be knocking at your door.”   It is not the place of the U.S. Congress to rectify every ill of litigation that may arise in state courts, but the Constitution specifically contemplates that federal lawmakers will oversee the doings of state courts when those courts assert power over transactions and residents of other states.\n",
      " Thus Article IV, Section 1 grants Congress the power “by general Laws [to] prescribe the …Effect” of state law in other states.\n",
      " These powers are peculiarly relevant when employed to safeguard a Constitutionally specified right that is (purposely) put in jeopardy by tactical abuse of interstate lawsuits.\n",
      " Despite the claims of some opponents, Congress’s formula for resolving litigation amounted in essence to restoring, not overturning, the traditional common‐​law bounds of gun liability.\n",
      " It left open a few exceptions for instances where liability might have been found with some warrant in the older common law, as when a gun explodes or is knowingly sold to a person intent on harm.\n",
      " Otherwise, it codifies the same common‐​law rule that Cuomo, Clinton et al were hoping to get the courts to abandon: if an otherwise lawful firearm has performed as it was designed and intended to do, its maker and seller are not liable for its misuse.\n",
      " I’ve written more about PLCAA and its critics here, here, and here.\n",
      " Topics  Constitution, the Law, and the Courts       Related Content       Be Like Bernie Sanders.\n",
      " Support Arbitration Clauses.\n",
      " MPD’s NEAR Act Implementation: The Wrong Way to Do the Right Thing         House Passes Political‐​Omnibus Bill H.R.\n",
      " 1         Puerto Rico Financial Oversight Board Was Unconstitutionally Appointed                  This work is licensed under a Creative  Commons Attribution-NonCommercial-ShareAlike 4.0 International License.\n",
      " Topics      Cato Publications Constitution, the Law, and the Courts COVID-19 Criminal Law and Civil Liberties Education and Child Policy Energy and Environment Finance, Banking &amp; Monetary Policy Foreign Policy and National Security General Government and Politics Health Care International Economics, Development &amp; Immigration Political Philosophy Poverty &amp; Social Welfare Regulatory Studies Social Security Tax and Budget Policy Telecom, Internet &amp; Information Policy Trade Policy         Archives   November 2020 October 2020 September 2020 August 2020 July 2020 June 2020 May 2020 April 2020 March 2020 February 2020 January 2020 December 2019 November 2019 October 2019 September 2019 August 2019 July 2019 June 2019 May 2019 April 2019 March 2019 February 2019 January 2019 December 2018 November 2018 October 2018 September 2018 August 2018 July 2018 June 2018 May 2018 April 2018 March 2018 February 2018 January 2018 December 2017 November 2017 October 2017 September 2017 August 2017 July 2017 June 2017 May 2017 April 2017 March 2017 February 2017 January 2017 December 2016 November 2016 October 2016 September 2016 August 2016 July 2016 June 2016 May 2016 April 2016 March 2016 February 2016 January 2016 December 2015 November 2015 October 2015 September 2015 August 2015 July 2015 June 2015 May 2015 April 2015 March 2015 February 2015 January 2015 December 2014 November 2014 October 2014 September 2014 August 2014 July 2014 June 2014 May 2014 April 2014 March 2014 February 2014 January 2014 December 2013 November 2013 October 2013 September 2013 August 2013 July 2013 June 2013 May 2013 April 2013 March 2013 February 2013 January 2013 December 2012 November 2012 October 2012 September 2012 August 2012 July 2012 June 2012 May 2012 April 2012 March 2012 February 2012 January 2012 December 2011 November 2011 October 2011 September 2011 August 2011 July 2011 June 2011 May 2011 April 2011 March 2011 February 2011 January 2011 December 2010 November 2010 October 2010 September 2010 August 2010 July 2010 June 2010 May 2010 April 2010 March 2010 February 2010 January 2010 December 2009 November 2009 October 2009 September 2009 August 2009 July 2009 June 2009 May 2009 April 2009 March 2009 February 2009 January 2009 December 2008 November 2008 October 2008 September 2008 August 2008 July 2008 June 2008 May 2008 April 2008 March 2008 February 2008 January 2008 December 2007 November 2007 October 2007 September 2007 August 2007 July 2007 June 2007 May 2007 April 2007 March 2007 February 2007 January 2007 December 2006 November 2006 October 2006 September 2006 August 2006 July 2006 June 2006 May 2006 April 2006     Show More             Email Alerts Sign up to have Cato At Liberty posts delivered straight to your inbox!\n",
      " //--&gt;              Sign Up   Receive periodic updates on Cato research, events,   and publications.\n",
      "\n",
      "Score: 161.05967712402344, Document: John Moynihan and Larry Doyle, financial analysts who say they have uncovered evidence of pay-to-play and financial crimes at the Clinton Foundation, were invited to testify on their findings by the House Oversight Committee’s Republican Chairman Mark Meadows.\n",
      " But tensions erupted between Meadows and the two witnesses after Moynihan and Doyle refused to turn over 6,000 pages of documents that they say back up their claims — documents that the pair has already given to the FBI and the IRS.\n",
      " “If you’re not going to share [the documents] with the committee and cut to the chase, my patience is running out,” said Meadows.\n",
      " After consulting briefly with their attorney, who was present, Moynihan and Doyle said they still would not turn over their report but would answer questions about it.\n",
      " Moynihan is a private financial investigator whose online biography says he previously worked for the Department of Justice and the Drug Enforcement Agency.\n",
      " Doyle said he went into financial investigation after a career on Wall Street.\n",
      " During their testimony, Moynihan and Doyle said they carried out an extensive forensic investigation of the Clinton Foundation based on public records, tax filings, and private interviews with Clinton Foundation officials.\n",
      " The investigators said Clinton Foundation CFO Andrew Kessel admitted to them in a taped conversation that Bill Clinton used the foundation’s bank accounts for personal expenses.\n",
      " “He told us that Mr. Clinton mixed and matched his personal business with that of the foundation,” said Moynihan.\n",
      " They also said they viewed foundation emails from 2002 discussing deals with the government of Mozambique.\n",
      " Moynihan said this was evidence that the Clinton Foundation was working on behalf of foreign governments even though the foundation’s stated mission in IRS filings at the time was to build Bill Clinton’s presidential library.\n",
      " “The foundation began working as an agent of a foreign government early in its life and continued” to do so, said Moynihan.\n",
      " Moynihan and Doyle said they could not turn over the documents from their investigation to the committee because they did not want to infringe on ongoing investigations at government agencies.\n",
      " They said they hope to make money off their investigation and have turned over the documents to the IRS as part of a “probable cause” submission.\n",
      " The IRS does sometimes pay whistleblowers and tipsters from taxes they recoup in such cases.\n",
      " But Meadows questioned that explanation, saying he spoke to the IRS before the hearing and was told the witnesses’ work with the committee would have no impact on the status of the IRS investigation.\n",
      " “I don’t find how [refusing to turn over information] provides a good foundation for truth and transparency,” said Meadows.\n",
      " Republican Rep. Jody Hice also criticized the witnesses.\n",
      " “I feel like you’re using us for your own benefit,” said Hice, adding that there was a “little game going on here.”  Moynihan argued that he and Doyle were invited to the hearing and would have happily not attended.\n",
      " “Let me be very clear.\n",
      " You invited us.\n",
      " If you don’t want us, disinvite us,” he said.\n",
      " Moynihan added that there was no benefit to sharing the documents with the committee because congress doesn’t have law enforcement capabilities.\n",
      " “That’s why we presented to government agencies, which you’re not,” said Moynihan.\n",
      " Meadows promised to subpoena the documents from his witnesses.\n",
      " “Don’t get cute with me,” he told Moynihan.\n",
      " “I thought you said you were all about the rule of law, all about the truth.”  Thursday’s hearing will be the last one led this year by Meadows, who will hand over the chairman’s gavel to the incoming House Democratic majority at the beginning of 2019.\n",
      " Meadows said the hearing was necessary in light of news that the foundation’s donations plummeted by 58 percent after Hillary Clinton lost the election.\n",
      " The drop in contributions \"could suggest pay to play activity in the years prior to the decrease in donations,\" said Meadows.\n",
      " Meadows also expressed disappointment that the Department of Justice declined to send U.S. Attorney John Huber, who is reportedly investigating the foundation, to testify on Thursday.\n",
      " Rep. Gerry Connolly, the ranking Democrat on the committee, objected to the hearing as a rehash of \"conspiracy theories.\"\n",
      " \"It’s two weeks before Christmas and my Republican friends are re-gifting an old trope that needs desperate reworking,\" said Connolly.\n",
      " News   Congress   Mark Meadows   Clinton Foundation   House Oversight                Share your thoughts with friends.\n",
      " Biden van full of ballots.\n",
      " Trump legal team details shock Nevada claims    Emily Larsen   Sunday November 08, 2020        NORTH LAS VEGAS, Nevada — President Trump's Nevada legal team beefed up its legal challenge to mail-in ballot signature verification in the state with startling claims of voter and ballot fraud.\n",
      " Biden denied transition funds as Trump refuses to concede    Daniel Chaitin        &amp;      Jerry Dunleavy   Sunday November 08, 2020        Presumptive president-elect Joe Biden is so far being denied resources by the Trump administration to initiate a formal transfer of power.\n",
      " Prince Harry denied permission to lay wreath on Remembrance Day after stepping down from royal duties    Carly Ortiz-Lytle   Sunday November 08, 2020        Prince Harry and Meghan Markle laid a wreath in honor of soldiers at Los Angeles National Cemetery after Buckingham Palace denied the prince’s request for a wreath to be laid on his behalf on Remembrance Sunday.\n",
      " Cruz says voting machine software 'needs to be investigated'    Joseph Simonson   Sunday November 08, 2020        Ted Cruz has joined the chorus of voices calling for a formal inquiry into the software used to count ballots in a number of swing states.\n",
      " Chris Wallace compares Ted Cruz to Japanese soldier still fighting WWII after he questioned election results    Emma Colton   Sunday November 08, 2020        Fox News’s Chris Wallace compared Sen. Ted Cruz to a Japanese soldier who continued fighting World War II after it ended because the Texas Republican is questioning the votes from last Tuesday's election.\n",
      " Texas becomes first state to hit over 1M coronavirus cases    Callie Patteson   Sunday November 08, 2020        As much of the country awaited the results of the presidential election last week, Texas became the first state in the United States to exceed 1 million cases of COVID-19.\n",
      " Washington Times says Trump campaign shared 'doctored' photos of 'President Gore' 2000 election headline    Anthony Leonardi   Sunday November 08, 2020        The Trump campaign's communications director Tim Murtaugh posted doctored photographs from the Washington Times showing a false headline about the outcome of the 2000 election.\n",
      " Kristi Noem rips Biden's 'premature' declaration of victory: 'If Joe Biden really wants to unify this country, he should wait'    Carly Ortiz-Lytle   Sunday November 08, 2020        South Dakota Gov.\n",
      " Kristi Noem condemned presumptive President-elect Joe Biden’s “premature” declaration of victory.\n",
      " Jill Biden to prioritize education and cancer research in first lady duties    Mica Soellner   Sunday November 08, 2020        Jill Biden, the presumptive first lady elect, has laid out a list of priorities she wants to focus on when she arrives at the White House in January.\n",
      " Spanberger wins reelection in Virginia's 7th Congressional District    Kerry Picket   Sunday November 08, 2020        Democratic Rep. Abigail Spanberger won a second term in Virginia’s 7th Congressional District, narrowly beating state lawmaker Nick Freitas.\n",
      " Chuck Schumer sets sights on Georgia runoffs: 'We take Georgia, then we change America'    Emma Colton   Sunday November 08, 2020        Sen. Chuck Schumer said if the Democratic Party wins two runoff Senate elections in Georgia, his party will be able to “change America.”                Trump campaign staff claims to have statistical evidence of fraud in Wisconsin    Joseph Simonson   Sunday November 08, 2020        As the president's path to 270 Electoral College votes narrows virtually every day, some members of his campaign say statistical evidence of fraud in Wisconsin could give him a victory.\n",
      " Melania Trump speaks out on election: 'We must protect our democracy with complete transparency'    Emma Colton   Sunday November 08, 2020        First lady Melania Trump declared, “Americans deserve fair elections” after a report claimed she advised her husband to accept he lost the election.\n",
      " Michelle Obama says 70M Americans voted for 'lies, hate, chaos and division'    Carly Ortiz-Lytle   Sunday November 08, 2020        Former first lady Michelle Obama took a swipe at President Trump’s supporters as she congratulated presumptive President-elect Joe Biden on his victory.\n",
      " Moderate Democrat hits back at AOC, saying she has little knowledge of his Trump-won district    Mica Soellner   Sunday November 08, 2020        Rep. Conor Lamb defended his campaign and the voters in his Pennsylvania district after New York Rep. Alexandria Ocasio-Cortez name dropped him in a New York Times interview where she discussed Democrats losing House seats in the general election.\n",
      " Megyn Kelly rips Biden suggestion he’s a uniter after 'smearing' Americans for 4 years    Emma Colton   Sunday November 08, 2020        Megyn Kelly slammed presumptive President-elect Joe Biden's call for unity and healing after half of the country was “demonized” for supporting President Trump during his term in office.\n",
      " About Examiner       Magazine Archive       Staff       Policies and Standards       Advertise       Contact       Subscribe       Newsletters       Careers       Facebook       Twitter       Terms Of Use       Privacy Policy          Copyright 2020.\n",
      " Washington Examiner.\n",
      " All Rights Reserved.\n",
      "\n",
      "Score: 165.4379119873047, Document: Democrats flee state to avoid vote on budget bill   Mark Hoffman Protesters bang on the doors to the Senate chamber Thursday as thousands of people pack the Capitol to demonstrate against Gov.\n",
      " Scott Walkerâ€™s budget repair proposal.\n",
      " Action on the bill was delayed when Senate Democrats left the state.\n",
      " By Bill Glauber, Jason Stein and Patrick Marley of the Journal Sentinel Published on: 2/17/2011  Madison — Amid the third straight day of chaotic but largely peaceful protests at the Capitol, Democratic senators Thursday boycotted a Senate vote on Gov.\n",
      " Scott Walker's budget-repair plan, forcing Republicans to put off further action in that house until Friday at the earliest.With Democrats hiding out just over the Illinois border and drawing national media attention, Republicans had too few lawmakers to take a vote Thursday and had to adjourn.\n",
      " With thousands of demonstrators swarming the Capitol Square, GOP lawmakers vowed to come back Friday morning to try to take up the proposal, which would help solve a state budget shortfall by cutting public employee benefits and would also take away most public union bargaining rights.Democrats holed up in the Clock Tower Resort and Conference Center in Rockford, Ill., while Republicans said they wanted law enforcement to bring them to the Capitol if they were still in Wisconsin.\n",
      " Walker called for Democrats to call off their \"stunt\" and \"show up and do the job they're paid to do.\n",
      " \"\"It's either a matter of making reductions and making modest requests of our government employees or making massive layoffs at a time when we don't need anyone else laid off,\" Walker said.Walker said he had received more than 8,000 e-mails on the issue, with the majority of them backing his stance.Democrats and union leaders said their concerns were focused on losing decades-old bargaining rights, not the financial concessions.\n",
      " In a telephone interview from an undisclosed location, Senate Minority Leader Mark Miller (D-Monona) said he was upholding the rights of workers by allowing for more debate on the bill.\n",
      " \"This is a watershed moment unlike any that we have experienced in our political lifetimes,\" Miller said.\n",
      " \"The people have shown that the government has gone too far.\n",
      " .\n",
      " .\n",
      " .\n",
      " We are prepared to do what is necessary to make sure that this bill gets the consideration it needs.\"Sen.\n",
      " Bob Jauch (D-Poplar) said the decision on when to return had not been made yet.\n",
      " Sen. Spencer Coggs (D-Milwaukee) said Democrats were prepared to stay away \"as long as it takes.\n",
      " \"Coggs said senators from the two parties had been in touch in an effort to try to resolve differences.The political drama played out amid a massive demonstration of union members that clogged the hallways of the Capitol and made the rotunda ring with chanted slogans as loud as the revving of a motorcycle engine.For the third straight day, thousands demonstrated inside and outside the Capitol.\n",
      " With drums pounding in the background, the crowd blocked the main entrance to the Senate by sitting down in front of it, though police kept a side entrance open.\n",
      " Demonstrators were expected to stay in the building overnight.The scene and mood on the marble floors was part angry protest, part carnival and part sleep-in.\n",
      " There were placards, Valentine balloons, banjos, air horns and an American flag.At least nine people were arrested in the protests at the Capitol, the state Department of Administration reported.\n",
      " Dane County Sheriff Dave Mahoney said those were mostly disorderly conduct charges, and no one had been taken to jail.Mahoney, a Democrat and former union leader, said officers are in the Capitol to protect the free speech rights of both sides.\n",
      " He said there are roughly a dozen law enforcement groups at the Capitol.\n",
      " \"We are exercising extreme measures of tolerance,\" Mahoney said.Assembly action possibleLegislative leaders planned to have the Senate take up the bill first, with the Assembly following.\n",
      " But late Thursday, a spokesman for Assembly Speaker Jeff Fitzgerald (R-Horicon) said if Senate Democrats have not returned to Madison by Friday, the Assembly might act first.Assembly Minority Leader Peter Barca (D-Kenosha) said Assembly Democrats were focused on drafting amendments to the bill.\n",
      " He left open the possibility that Assembly Democrats would leave town like the Senate Democrats to prevent the Assembly from acting.But that scenario appears unlikely.\n",
      " To pass a budget bill in that house, 58 members of the Assembly must be present.\n",
      " There are 57 Republicans in the Assembly, and Rep. Bob Ziegelbauer (I-Manitowoc) said he plans to vote for the bill.Senate Majority Leader Scott Fitzgerald (R-Juneau) said that Democrats in his house were \"not showing up for work\" and that he wanted law enforcement to bring them back.\n",
      " \"That's not democracy.\n",
      " That's not what this chamber is about,\" Fitzgerald said of the boycott.Coggs disputed that.\n",
      " \"We're doing our job of making sure the people have an opportunity to have their voices heard,\" he said.The state constitution says lawmakers can be compelled to attend floor sessions.\n",
      " Senate Chief Clerk Rob Marchant said he was \"researching the extent to which law enforcement can be involved\" in doing that.Sen.\n",
      " Tim Cullen (D-Janesville) first confirmed Thursday morning that Democrats were boycotting the Senate action on the bill in efforts to block a quorum and keep the measure from passing.\n",
      " Because 20 senators of the 33-member house must be present to pass a fiscal bill, the body's 19 Republicans are not enough to pass the budget repair bill.Cullen said Democrats hope delaying the bill will give more time for union demonstrators to win over any possible wavering Republicans or force Walker to negotiate.\n",
      " Walker has said he hopes to finish the bill by Feb. 25 for an offering of state bonds that would be affected by the budget-repair bill.The Rockford Register Star reported that Democratic senators arrived at the Clock Tower at about 10:30 a.m. and left later in the day.\n",
      " State Sen. Jim Holperin (D-Conover) told the Illinois newspaper that Democrats wanted more time to understand the bill and debate its impacts.\n",
      " \"This is pretty significant legislation that would take away decades of collective bargaining rights,\" Holperin said.Scott Fitzgerald said he believed the last time such an action happened was in October 1995.\n",
      " At that time, then-Sen. Joe Wineke (D-Verona) fled the Senate to block passage of the $250 million Miller Park stadium deal that raised the sales tax in the Milwaukee area.The Senate Democrats' tactic didn't win over Sen.\n",
      " Rob Cowles (R-Green Bay), a moderate whom unions had been trying to persuade to vote against the bill.\n",
      " Cowles called the blockage of the Senate vote an attempt to \"shut down democracy.\n",
      " \"Lack of quorumThe Senate convened at 11:30 a.m., with 17 Republicans but no Democrats present.\n",
      " After a prayer and the Pledge of Allegiance, action immediately was disrupted by demonstrators in the gallery shouting, \"Freedom, democracy, unions.\"\n",
      " One of the two missing Republicans arrived shortly afterward and an aide to the 19th, Sen. Dale Schultz (R-Richland Center), said his boss was unable to make it to the Senate through the demonstrators.Senate President Mike Ellis (R-Neenah) made a call of the house to bring the additional senators needed to vote on the bill to the Senate floor.Walker and Scott Fitzgerald have said they were confident that the GOP lawmakers had the votes they needed to pass the bill without further changes.\n",
      " Walker said Thursday that the proposal's cuts to worker benefits and union bargaining laws are financially necessary and that he wouldn't accept changes that compromised the saving he's seeking.The state has a $137 million budget shortfall for the fiscal year ending June 30 and a more than $3 billion shortfall over the next two years.\n",
      " The cuts to benefits would save taxpayers nearly $330 million through mid-2013.Republicans control the Senate, 19-14, meaning they can lose only two votes and still pass the bill if all Democrats oppose it.\n",
      " Some Republicans have shown reluctance about the bill, though so far none have said publicly that they will vote against it.Sen.\n",
      " Luther Olsen (R-Ripon) said he was uncomfortable about the bill's effects on workers but also concerned about the other alternatives to fix the budget.\n",
      " \"I will probably vote for it\" on the Senate floor, Olsen said.Top GOP leaders in the Legislature have said they expect the bill to pass both houses with the changes adopted by the Joint Finance Committee late Wednesday on a party-line vote.\n",
      " Some GOP senators attempted to make changes to the bill Wednesday that would go further than the Joint Finance Committee changes but had no success.The biggest change approved by the Joint Finance Committee would require local governments that don't have a civil-service system to create one to address grievances for employee termination, employee discipline and workplace safety.The committee left major elements of the bill in place.\n",
      " It would require most public workers to pay half their pension costs - typically 5.8% of pay for state workers - and at least 12% of their health care costs.\n",
      " It applies to most state and local employees but does not apply to police, firefighters and state troopers, who would continue to bargain for their benefits.Except for police, firefighters and troopers, raises would be limited to inflation unless a bigger increase was approved in a referendum.\n",
      " The non-law enforcement unions would lose their rights to bargain over anything but wages, would have to hold annual elections to keep their organizations intact and would lose the ability to have union dues deducted from state paychecks.Don Walker and Lee Bergquist of the Journal Sentinel staff contributed to this report.\n",
      "\n",
      "Score: 165.7952880859375, Document: Like D’Souza’s new film, “America,” the book discusses American exceptionalism and argues against some of the claims of those on the far left.\n",
      " Now, the Costco CFO said the book will return to shelves and denied that the books were pulled for political reasons, instead blaming lackluster book sales.\n",
      " “America,” however, is number one on Amazon and on track to become a bestseller.\n",
      " Bill Ayers, Dinesh D’Souza Debate American Exceptionalism  \tOn Hannity Tuesday night, D'Souza called it \"bizarre behavior\" by Costco and responded that their argument about book sales is \"preposterous.\"\n",
      " \"This is clearly a political decision that they made.\n",
      " I think it's because of their alliance with the Obama administration and now they're feeling the heat so they're trying to figure out how to wriggle out of it,\" he said.\n",
      " Hannity then laid out examples of Costco getting high praise from President Obama, along with the company's former CEO donating $100,000 to the Obama campaign in 2012.\n",
      " Costco employee donations to the Obama campaign totaled more than $200,000 for 2008 and 2012 combined.\n",
      " D'Souza says those political leanings shouldn't result in Costco changing how it does business, arguing their customers are from all over the political spectrum.\n",
      " \"The left in this country has so much intolerance that they not only try to go after me through the courts, but they also figure out: let's try to ruin this guy's livelihood, let's try to make sure people don't see his film, let's try to make sure they don't buy his books.\n",
      " And the left is willing to wage that kind of a scorched-earth campaign through a company like Costco,\" he said.\n",
      " Watch the full interview above.\n",
      " “America” co-producer Gerald Molen was also on The Kelly File to discuss Costco's decision and subsequent reversal.\n",
      " He said the situation is strange, since the book was released on June 1 and pulled July 1, coinciding with the release of the film.\n",
      " Megyn Kelly noted that the former CEO of Costco is a huge Obama donor and asked Molen if he thinks that there’s a connection.\n",
      " “I see a connection, certainly,” Molen said.\n",
      " D’Souza Speaks Out on Alleged Campaign Finance Violation  \tCostco said the book will return to shelves within two weeks.\n",
      " “Why wait the two weeks?\n",
      " Why not do it right now?\n",
      " Why not show the American people that they mean what they say?\n",
      " I’ll be suspect until I see it happen, and even then I’ll always be a little suspect of why they did this in the first place,” Molen said.\n",
      " Watch the discussion below:                                          Latest from Fox News Channel        Share        Rep. Zeldin Calls for House to Take Up Anti-BDS Legislation, 'Forcefully Condemn' Anti-Semitism      Rep. Lee Zeldin and several of his House Republican colleagues are hoping to force a vote on a bill meant to oppose the anti-Israel Boycott, Divest and Sanctions (BDS) movement.\n",
      " Share            Share        'The Most Enduring Moral, Political Issue of Our Time': Brit Hume on Abortion Debate      The pro-choice versus pro-life debate is the \"most enduring moral and political issue of our time,\" Fox News senior political analyst Brit Hume said Wednesday.\n",
      " Share            Share        McCarthy: 'Ridiculous' for Brennan to Criticize Review of Russia Probe's Origins      Former U.S. attorney and Fox News contributor Andy McCarthy said it’s “ridiculous” that some Democrats are complaining about Attorney General William Barr’s review of the origins of the Russia investigation.\n",
      " Share            Share        Pavlich: Kamala Harris' Gun Control Proposals Are 'Going to Be a Problem for Her'      Katie Pavlich said Sen. Kamala Harris’ proposed executive action on gun control would be “an attack on Second Amendment rights.”      Share        1 2 3 … next ›  Load More         The Five            Gutfeld on Media's 'Pavlovian' Response to NYT 'Bombshell' on Trump's Taxes            'Political Warfare': Watters, 'The Five' on Dems Threatening Gov't Officials' Salaries            'Media Slip-Up': 'The Five' on MSNBC Reporter Making Gun Rights Argument in Venezuela Coverage           The Story with Martha MacCallum           'Unforgivable Sin': Starr Blasts Mueller for Leaking Letter on Eve of Barr's Senate Testimony            Rep. Swalwell: Attorney General Barr's 'Credibility Was Destroyed' at Senate Hearing            Fiorina: Recent Accusations Against Biden 'Diminish' Cases of 'Real Abuse' of Women           Tucker Carlson Tonight           'The Most Enduring Moral, Political Issue of Our Time': Brit Hume on Abortion Debate            Lara Trump: New Senate Subpoena to Trump Jr.\n",
      " Amounts to 'Harassment' of Trump Family            'I Was Concerned': Mom, Teen Daughters Harassed by PA Dem Outside Planned Parenthood Clinic           Hannity           'Comey Abused His Power': Hannity Says Evidence Against 'Disgraced' Former FBI Director Is Mounting            Levin on 'Hannity': Special Counsel or US Attorney Should Probe Comey, Other FBI Officials            Rep. Meadows: Democrats 'Going Crazy Because They Know Truth Is Coming Out'           The Ingraham Angle           Ingraham: Dems Committing 'Self-Sabotage' With Trump Obsession Ahead of 2020            Ingraham: Dems Refuse to Accept Reality on Collusion, Keep Selling 'Poison to Scandal Addicts'            Ingraham: Dems 'Crashed and Burned' Opposing Kavanaugh, Now Trying Same 'Stunts' Against Barr           More Shows         NEW Privacy Policy NEW TERMS OF USE Do Not Sell my Personal Information              This material may not be published, broadcast, rewritten, or redistributed.\n",
      " ©2020 FOX News Network, LLC.\n",
      " All rights reserved.\n",
      "\n",
      "Score: 166.12045288085938, Document: You can sign up to get independent accountability journalism straight to your inbox here: While much of the economy grinds to a halt, Amazon is doing more business than ever.\n",
      " The company has announced it is hiring 100,000 workers to try to meet surging demand.\n",
      " In 2019, Amazon had over $280 billion in revenue and $11.9 billion in profits.\n",
      " As more Americans shift their shopping online, it will likely do better this year.\n",
      " But, as the pandemic continues, Amazon maintains one of the stingiest paid sick leave policies among major corporations.\n",
      " You can sign up to get independent accountability journalism straight to your inbox here:SubscribeWhile much of the economy grinds to a halt, Amazon is doing more business than ever.\n",
      " The company has announced it is hiring 100,000 workers to try to meet surging demand.\n",
      " In 2019, Amazon had over $280 billion in revenue and $11.9 billion in profits.\n",
      " As more Americans shift their shopping online, it will likely do better this year.\n",
      " But, as the pandemic continues, Amazon maintains one of the stingiest paid sick leave policies among major corporations.\n",
      " As Popular Information reported last week, a significant number of Amazon's workforce — particularly part-time employees and contract workers — are not receiving paid sick time.In response to the pandemic, Amazon said it would provide two weeks of sick leave to \"all Amazon employees diagnosed with COVID-19 or placed into quarantine.\"\n",
      " Kroger had a similar policy until Saturday when Kroger expanded its policy to cover workers with COVID-19 symptoms or who need to care for sick family members.\n",
      " Amazon, however, has held firm.\n",
      " Amazon's large contract workforce, which delivers packages and performs other critical tasks, is in even worse shape.\n",
      " Amazon is not providing any sick leave at all for these workers, even if they test positive for COVID-19.\n",
      " Instead, these workers must apply to the \"Amazon Relief Fund\" and apply for a grant to cover their sick leave.\n",
      " The fund is \"focused on supporting our U.S.-based Delivery Associates employed by Delivery Service Providers, our Amazon Flex Delivery Partners, and Associates working for Integrity Staffing, Adecco Staffing, and RES Staffing, and drivers and support team members of line haul partners under financial distress due to a COVID-19 diagnosis or quarantine.\n",
      " \"Amazon donated $25 million to the fund and is soliciting individual donations to add to the pot.\n",
      " It initially included an option to donate by text.\n",
      " Why isn't Amazon just paying people who contracted COVID-19 while doing essential work for Amazon?\n",
      " Instead of changing its policy, Amazon tweaked the wording of its solicitation and eliminated the option to donate by text.\n",
      " Higher pay is a positive.\n",
      " But combined with minimal paid sick leave, increased hourly rates further incentivizes Amazon workers to show up sick.\n",
      " Two weeks ago, Popular Information's reporting resulted in Darden, the parent company of Olive Garden, providing paid sick leave to 170,000 employees.\n",
      " This week, following multiple reports in this newsletter, Kroger significantly expanded its paid sick leave policy for 450,000 workers.This is the power of public scrutiny and accountability journalism.\n",
      " You can support this work by becoming a paid subscriber.\n",
      " It's $6 per month or $50 a year.\n",
      " Your subscription will help Popular Information to expand its work and broaden its impact.\n",
      " There are no wealthy donors or advertisers behind this newsletter.\n",
      " It exists because of the support from readers like you.\n",
      " If you have any questions, comments, tips, or complaints, please contact me at judd@popular.info.The danger of Trump's press conferences Trump has been the most consistent source of misinformation during the COVID-19 pandemic.\n",
      " Americans are inundated with false information during Trump's daily press conference, which Trump uses to air grievances and make wild claims.In a March 19 press conference, Trump extolled the virtues of an anti-malaria drug called chloroquine, describing it as a safe and promising treatment for COVID-19.\n",
      " Now, a drug called chloroquine — and some people would add to it “hydroxy-.”  Hydroxychloroquine.\n",
      " So chloroquine or hydroxychloroquine.\n",
      " Now, this is a common malaria drug.\n",
      " It is also a drug used for strong arthritis.\n",
      " If somebody has pretty serious arthritis, also uses this in a somewhat different form.\n",
      " But it is known as a malaria drug, and it’s been around for a long time and it’s very powerful.\n",
      " But the nice part is, it’s been around for a long time, so we know that if it — if things don’t go as planned, it’s not going to kill anybody....And it’s shown very encouraging — very, very encouraging early results.\n",
      " And we’re going to be able to make that drug available almost immediately.\n",
      " And that’s where the FDA has been so great.\n",
      " They — they’ve gone through the approval process; it’s been approved.\n",
      " And they did it — they took it down from many, many months to immediate.\n",
      " So we’re going to be able to make that drug available by prescription or states.Later in the press conference, the FDA Commission, Dr. Stephen Hahn, was forced to clarify that the FDA has not approved chloroquine to treat COVID-19 and has no plans to immediately make it available for that purpose.\n",
      " Instead, Hahn said, the FDA would conduct \"a clinical trial — a large, pragmatic clinical trial\" to \"actually see if that benefits patients.\n",
      " \"Trump was not dissuaded.\n",
      " \"Dr. Hahn is the expert, but a lot of reasons that I would have to think that it could have a very positive effect or a positive effect,\" Trump said near the end of the press conference.\n",
      " \"I think it’s, to me, very, very exciting.\n",
      " \"On Monday, Banner Health, which operates 28 hospitals across several states, was forced to issue a warning \"that chloroquine, a malaria medication, should not be ingested to treat or prevent this virus.\"\n",
      " Why?\n",
      " A man has died and his wife is under critical care after the couple, both in their 60s, ingested chloroquine phosphate, an additive commonly used at aquariums to clean fish tanks.\n",
      " Within thirty minutes of ingestion, the couple experienced immediate effects requiring admittance to a nearby Banner Health hospital.\n",
      " Health officials in Nigeria \"reported two cases of chloroquine poisoning.\"\n",
      " After the death was reported, Trump returned to the podium on Monday night and repeated his claims about chloroquine.\n",
      " He said that the drug, in combination with others, is \"looking very very good.\"\n",
      " He said it would be distributed to \"a lot of people in New York\" tomorrow morning.\n",
      " He then delivered a rambling story about how chloroquine could take care of COVID-19 in a matter of hours.There was a gentleman they thought was not going to make it.\n",
      " He said goodbye to his family.\n",
      " They had given him the drug just a little while before but he thought it was over.\n",
      " His family thought he was going to die.\n",
      " And a number of hours later he woke up.\n",
      " Felt good.\n",
      " Then he woke up again and felt really good.\n",
      " He's in good shape.\n",
      " He's very happy for this particular drug that we got approved in record-setting time.\n",
      " The media should reconsider airing Trump's press conferences live.\n",
      " Mass distribution of misinformation during a pandemic has consequences.\n",
      " SubscribeDonate SubscriptionsThanks for reading!\n",
      " 40Sign up to like postSubscribeLoginPrivacyTermsInformation collection notice 13ShareSubscribe← PreviousNext →Create your profileSet photo Sign up for the newsletterSave &amp; Post CommentOnly paying subscribers can comment on this postSubscribeAlready a paying subscriber?\n",
      " Sign inCheck your emailFor your security, we need to re-authenticate you.Click the link we sent to , or click here to log in.Ian SirotaMar 24It's unbelievable to me how many people believe his outrageous lies.\n",
      " I guess that I shouldn't be shocked anymore but somehow, I still am.\n",
      " 11Sign up to like commentSubscribeLoginPrivacyTermsInformation collection noticeReplyJoseph DonatoMar 24What will be the tipping point for US citizens for all of us to finally see how we are regarded by this “corporatocracy”?\n",
      " We merely as cattle.\n",
      " Consider that Trump’s statement that he will relax restrictions sooner and “take our chances” because “the cure cannot be worse than the problem” is influenced by financial industry lobbying and government financial advisors to resume all businesses to ensure that the US remains as the global economic leader.\n",
      " So why would any billionaire really go to bat for employees?\n",
      " The meager showcasing being attempted should gall all of us.\n",
      " These are corporate owners or CEOs who get enormous tax breaks such that many don’t even pay taxes.\n",
      " When will it be too much for us already?\n",
      " 9Sign up to like commentSubscribeLoginPrivacyTermsInformation collection noticeReply11 more comments…TopNewCommunityWhat is Popular Information?AboutReady for more?Subscribe© 2020 Popular Information LLC.\n",
      " \",\"Support independent accountability journalism.\n",
      " \"],\"free_subscription_benefits\":[\"Occasional public posts.\n",
      " \"],\"founding_subscription_benefits\":[\"3 subscriptions donated to those who otherwise couldn't afford it.\n",
      " You can sign up to get independent accountability journalism straight to your inbox here: While much of the economy grinds to a halt, Amazon is doing more business than ever.\n",
      " The company has announced it is hiring 100,000 workers to try to meet surging demand.\n",
      " In 2019, Amazon had over $280 billion in revenue and $11.9 billion in profits.\n",
      " As more Americans shift their shopping online, it will likely do better this year.\n",
      " But, as the pandemic continues, Amazon maintains one of the stingiest paid sick leave policies among major corporations.\n",
      " \",\"body_html\":\" This is the online version of the Popular Information newsletter.\n",
      " You can sign up to get independent accountability journalism straight to your inbox here:  Subscribe now  While much of the economy grinds to a halt, Amazon is doing more business than ever.\n",
      " The company has announced it is hiring 100,000 workers to try to meet surging demand.\n",
      " In 2019, Amazon had over $280 billion in revenue and $11.9 billion in profits.\n",
      " As more Americans shift their shopping online, it will likely do better this year.\n",
      " But, as the pandemic continues, Amazon maintains one of the stingiest paid sick leave policies among major corporations.\n",
      " As Popular Information reported last week, a significant number of Amazon's workforce \\u2014 particularly part-time employees and contract workers \\u2014 are not receiving paid sick time.\n",
      " In response to the pandemic, Amazon said it would provide two weeks of sick leave to \\\"all Amazon employees diagnosed with COVID-19 or placed into quarantine.\\\" Kroger had a similar policy until Saturday when Kroger expanded its policy to cover workers with COVID-19 symptoms or who need to care for sick family members.\n",
      " Amazon, however, has held firm.\n",
      " Amazon's large contract workforce, which delivers packages and performs other critical tasks, is in even worse shape.\n",
      " Amazon is not providing any sick leave at all for these workers, even if they test positive for COVID-19.\n",
      " Instead, these workers must apply to the \\\"Amazon Relief Fund\\\" and apply for a grant to cover their sick leave.\n",
      " The fund is \\\"focused on supporting our U.S.-based Delivery Associates employed by Delivery Service Providers, our Amazon Flex Delivery Partners, and Associates working for Integrity Staffing, Adecco Staffing, and RES Staffing, and drivers and support team members of line haul partners under financial distress due to a COVID-19 diagnosis or quarantine.\\\" Amazon donated $25 million to the fund and is soliciting individual donations to add to the pot.\n",
      " It initially included an option to donate by text.\n",
      " Why isn't Amazon just paying people who contracted COVID-19 while doing essential work for Amazon?\n",
      " Instead of changing its policy, Amazon tweaked the wording of its solicitation and eliminated the option to donate by text.\n",
      " Higher pay is a positive.\n",
      " But combined with minimal paid sick leave, increased hourly rates further incentivizes Amazon workers to show up sick.\n",
      " Two weeks ago, Popular Information's reporting resulted in Darden, the parent company of Olive Garden, providing paid sick leave to 170,000 employees .\n",
      " This week, following multiple reports in this newsletter, Kroger significantly expanded its paid sick leave policy for 450,000 workers .\n",
      " This is the power of public scrutiny and accountability journalism.\n",
      " You can support this work by becoming a paid subscriber.\n",
      " It's $6 per month or $50 a year.\n",
      " Your subscription will help Popular Information to expand its work and broaden its impact.\n",
      " There are no wealthy donors or advertisers behind this newsletter.\n",
      " It exists because of the support from readers like you .\n",
      " If you have any questions, comments, tips, or complaints, please contact me at judd@popular.info.\n",
      " The danger of Trump's press conferences Trump has been the most consistent source of misinformation during the COVID-19 pandemic.\n",
      " Americans are inundated with false information during Trump's daily press conference, which Trump uses to air grievances and make wild claims.\n",
      " In a March 19 press conference , Trump extolled the virtues of an anti-malaria drug called chloroquine, describing it as a safe and promising treatment for COVID-19.\n",
      " Now, a drug called chloroquine \\u2014 and some people would add to it \\u201Chydroxy-.\\u201D Hydroxychloroquine.\n",
      " So chloroquine or hydroxychloroquine.\n",
      " Now, this is a common malaria drug.\n",
      " It is also a drug used for strong arthritis.\n",
      " If somebody has pretty serious arthritis, also uses this in a somewhat different form.\n",
      " But it is known as a malaria drug, and it\\u2019s been around for a long time and it\\u2019s very powerful.\n",
      " But the nice part is, it\\u2019s been around for a long time, so we know that if it \\u2014 if things don\\u2019t go as planned, it\\u2019s not going to kill anybody.\n",
      " ...And it\\u2019s shown very encouraging \\u2014 very, very encouraging early results.\n",
      " And we\\u2019re going to be able to make that drug available almost immediately.\n",
      " And that\\u2019s where the FDA has been so great.\n",
      " They \\u2014 they\\u2019ve gone through the approval process; it\\u2019s been approved.\n",
      " And they did it \\u2014 they took it down from many, many months to immediate.\n",
      " So we\\u2019re going to be able to make that drug available by prescription or states.\n",
      " Later in the press conference, the FDA Commission, Dr. Stephen Hahn, was forced to clarify that the FDA has not approved chloroquine to treat COVID-19 and has no plans to immediately make it available for that purpose.\n",
      " Instead, Hahn said, the FDA would conduct \\\"a clinical trial \\u2014 a large, pragmatic clinical trial\\\" to \\\"actually see if that benefits patients.\\\" Trump was not dissuaded.\n",
      " \\\"Dr. Hahn is the expert, but a lot of reasons that I would have to think that it could have a very positive effect or a positive effect,\\\" Trump said near the end of the press conference.\n",
      " \\\"I think it\\u2019s, to me, very, very exciting.\\\" On Monday, Banner Health, which operates 28 hospitals across several states, was forced to issue a warning \\\"that chloroquine, a malaria medication, should not be ingested to treat or prevent this virus.\\\" Why?\n",
      " A man has died and his wife is under critical care after the couple, both in their 60s, ingested chloroquine phosphate, an additive commonly used at aquariums to clean fish tanks.\n",
      " Within thirty minutes of ingestion, the couple experienced immediate effects requiring admittance to a nearby Banner Health hospital.\n",
      " Health officials in Nigeria \\\"reported two cases of chloroquine poisoning .\\\" After the death was reported, Trump returned to the podium on Monday night and repeated his claims about chloroquine.\n",
      " He said that the drug, in combination with others, is \\\"looking very very good.\\\" He said it would be distributed to \\\"a lot of people in New York\\\" tomorrow morning.\n",
      " He then delivered a rambling story about how chloroquine could take care of COVID-19 in a matter of hours.\n",
      " There was a gentleman they thought was not going to make it.\n",
      " He said goodbye to his family.\n",
      " They had given him the drug just a little while before but he thought it was over.\n",
      " His family thought he was going to die.\n",
      " And a number of hours later he woke up.\n",
      " Felt good.\n",
      " Then he woke up again and felt really good.\n",
      " He's in good shape.\n",
      " He's very happy for this particular drug that we got approved in record-setting time.\n",
      " The media should reconsider airing Trump's press conferences live.\n",
      " Mass distribution of misinformation during a pandemic has consequences.\n",
      " Subscribe now  Donate Subscriptions  Thanks for reading!\n",
      " I guess that I shouldn't be shocked anymore but somehow, I still am.\n",
      " We merely as cattle.\n",
      " Consider that Trump\\u2019s statement that he will relax restrictions sooner and \\u201Ctake our chances\\u201D because \\u201Cthe cure cannot be worse than the problem\\u201D is influenced by financial industry lobbying and government financial advisors to resume all businesses to ensure that the US remains as the global economic leader.\n",
      " \\n\\nSo why would any billionaire really go to bat for employees?\n",
      " The meager showcasing being attempted should gall all of us.\n",
      " These are corporate owners or CEOs who get enormous tax breaks such that many don\\u2019t even pay taxes.\n",
      "\n",
      "Score: 166.12045288085938, Document: You can sign up to get independent accountability journalism straight to your inbox here: While much of the economy grinds to a halt, Amazon is doing more business than ever.\n",
      " The company has announced it is hiring 100,000 workers to try to meet surging demand.\n",
      " In 2019, Amazon had over $280 billion in revenue and $11.9 billion in profits.\n",
      " As more Americans shift their shopping online, it will likely do better this year.\n",
      " But, as the pandemic continues, Amazon maintains one of the stingiest paid sick leave policies among major corporations.\n",
      " You can sign up to get independent accountability journalism straight to your inbox here:SubscribeWhile much of the economy grinds to a halt, Amazon is doing more business than ever.\n",
      " The company has announced it is hiring 100,000 workers to try to meet surging demand.\n",
      " In 2019, Amazon had over $280 billion in revenue and $11.9 billion in profits.\n",
      " As more Americans shift their shopping online, it will likely do better this year.\n",
      " But, as the pandemic continues, Amazon maintains one of the stingiest paid sick leave policies among major corporations.\n",
      " As Popular Information reported last week, a significant number of Amazon's workforce — particularly part-time employees and contract workers — are not receiving paid sick time.In response to the pandemic, Amazon said it would provide two weeks of sick leave to \"all Amazon employees diagnosed with COVID-19 or placed into quarantine.\"\n",
      " Kroger had a similar policy until Saturday when Kroger expanded its policy to cover workers with COVID-19 symptoms or who need to care for sick family members.\n",
      " Amazon, however, has held firm.\n",
      " Amazon's large contract workforce, which delivers packages and performs other critical tasks, is in even worse shape.\n",
      " Amazon is not providing any sick leave at all for these workers, even if they test positive for COVID-19.\n",
      " Instead, these workers must apply to the \"Amazon Relief Fund\" and apply for a grant to cover their sick leave.\n",
      " The fund is \"focused on supporting our U.S.-based Delivery Associates employed by Delivery Service Providers, our Amazon Flex Delivery Partners, and Associates working for Integrity Staffing, Adecco Staffing, and RES Staffing, and drivers and support team members of line haul partners under financial distress due to a COVID-19 diagnosis or quarantine.\n",
      " \"Amazon donated $25 million to the fund and is soliciting individual donations to add to the pot.\n",
      " It initially included an option to donate by text.\n",
      " Why isn't Amazon just paying people who contracted COVID-19 while doing essential work for Amazon?\n",
      " Instead of changing its policy, Amazon tweaked the wording of its solicitation and eliminated the option to donate by text.\n",
      " Higher pay is a positive.\n",
      " But combined with minimal paid sick leave, increased hourly rates further incentivizes Amazon workers to show up sick.\n",
      " Two weeks ago, Popular Information's reporting resulted in Darden, the parent company of Olive Garden, providing paid sick leave to 170,000 employees.\n",
      " This week, following multiple reports in this newsletter, Kroger significantly expanded its paid sick leave policy for 450,000 workers.This is the power of public scrutiny and accountability journalism.\n",
      " You can support this work by becoming a paid subscriber.\n",
      " It's $6 per month or $50 a year.\n",
      " Your subscription will help Popular Information to expand its work and broaden its impact.\n",
      " There are no wealthy donors or advertisers behind this newsletter.\n",
      " It exists because of the support from readers like you.\n",
      " If you have any questions, comments, tips, or complaints, please contact me at judd@popular.info.The danger of Trump's press conferences Trump has been the most consistent source of misinformation during the COVID-19 pandemic.\n",
      " Americans are inundated with false information during Trump's daily press conference, which Trump uses to air grievances and make wild claims.In a March 19 press conference, Trump extolled the virtues of an anti-malaria drug called chloroquine, describing it as a safe and promising treatment for COVID-19.\n",
      " Now, a drug called chloroquine — and some people would add to it “hydroxy-.”  Hydroxychloroquine.\n",
      " So chloroquine or hydroxychloroquine.\n",
      " Now, this is a common malaria drug.\n",
      " It is also a drug used for strong arthritis.\n",
      " If somebody has pretty serious arthritis, also uses this in a somewhat different form.\n",
      " But it is known as a malaria drug, and it’s been around for a long time and it’s very powerful.\n",
      " But the nice part is, it’s been around for a long time, so we know that if it — if things don’t go as planned, it’s not going to kill anybody....And it’s shown very encouraging — very, very encouraging early results.\n",
      " And we’re going to be able to make that drug available almost immediately.\n",
      " And that’s where the FDA has been so great.\n",
      " They — they’ve gone through the approval process; it’s been approved.\n",
      " And they did it — they took it down from many, many months to immediate.\n",
      " So we’re going to be able to make that drug available by prescription or states.Later in the press conference, the FDA Commission, Dr. Stephen Hahn, was forced to clarify that the FDA has not approved chloroquine to treat COVID-19 and has no plans to immediately make it available for that purpose.\n",
      " Instead, Hahn said, the FDA would conduct \"a clinical trial — a large, pragmatic clinical trial\" to \"actually see if that benefits patients.\n",
      " \"Trump was not dissuaded.\n",
      " \"Dr. Hahn is the expert, but a lot of reasons that I would have to think that it could have a very positive effect or a positive effect,\" Trump said near the end of the press conference.\n",
      " \"I think it’s, to me, very, very exciting.\n",
      " \"On Monday, Banner Health, which operates 28 hospitals across several states, was forced to issue a warning \"that chloroquine, a malaria medication, should not be ingested to treat or prevent this virus.\"\n",
      " Why?\n",
      " A man has died and his wife is under critical care after the couple, both in their 60s, ingested chloroquine phosphate, an additive commonly used at aquariums to clean fish tanks.\n",
      " Within thirty minutes of ingestion, the couple experienced immediate effects requiring admittance to a nearby Banner Health hospital.\n",
      " Health officials in Nigeria \"reported two cases of chloroquine poisoning.\"\n",
      " After the death was reported, Trump returned to the podium on Monday night and repeated his claims about chloroquine.\n",
      " He said that the drug, in combination with others, is \"looking very very good.\"\n",
      " He said it would be distributed to \"a lot of people in New York\" tomorrow morning.\n",
      " He then delivered a rambling story about how chloroquine could take care of COVID-19 in a matter of hours.There was a gentleman they thought was not going to make it.\n",
      " He said goodbye to his family.\n",
      " They had given him the drug just a little while before but he thought it was over.\n",
      " His family thought he was going to die.\n",
      " And a number of hours later he woke up.\n",
      " Felt good.\n",
      " Then he woke up again and felt really good.\n",
      " He's in good shape.\n",
      " He's very happy for this particular drug that we got approved in record-setting time.\n",
      " The media should reconsider airing Trump's press conferences live.\n",
      " Mass distribution of misinformation during a pandemic has consequences.\n",
      " SubscribeDonate SubscriptionsThanks for reading!\n",
      " 40Sign up to like postSubscribeLoginPrivacyTermsInformation collection notice 13ShareSubscribe← PreviousNext →Create your profileSet photo Sign up for the newsletterSave &amp; Post CommentOnly paying subscribers can comment on this postSubscribeAlready a paying subscriber?\n",
      " Sign inCheck your emailFor your security, we need to re-authenticate you.Click the link we sent to , or click here to log in.Ian SirotaMar 24It's unbelievable to me how many people believe his outrageous lies.\n",
      " I guess that I shouldn't be shocked anymore but somehow, I still am.\n",
      " 11Sign up to like commentSubscribeLoginPrivacyTermsInformation collection noticeReplyJoseph DonatoMar 24What will be the tipping point for US citizens for all of us to finally see how we are regarded by this “corporatocracy”?\n",
      " We merely as cattle.\n",
      " Consider that Trump’s statement that he will relax restrictions sooner and “take our chances” because “the cure cannot be worse than the problem” is influenced by financial industry lobbying and government financial advisors to resume all businesses to ensure that the US remains as the global economic leader.\n",
      " So why would any billionaire really go to bat for employees?\n",
      " The meager showcasing being attempted should gall all of us.\n",
      " These are corporate owners or CEOs who get enormous tax breaks such that many don’t even pay taxes.\n",
      " When will it be too much for us already?\n",
      " 9Sign up to like commentSubscribeLoginPrivacyTermsInformation collection noticeReply11 more comments…TopNewCommunityWhat is Popular Information?AboutReady for more?Subscribe© 2020 Popular Information LLC.\n",
      " \",\"Support independent accountability journalism.\n",
      " \"],\"free_subscription_benefits\":[\"Occasional public posts.\n",
      " \"],\"founding_subscription_benefits\":[\"3 subscriptions donated to those who otherwise couldn't afford it.\n",
      " You can sign up to get independent accountability journalism straight to your inbox here: While much of the economy grinds to a halt, Amazon is doing more business than ever.\n",
      " The company has announced it is hiring 100,000 workers to try to meet surging demand.\n",
      " In 2019, Amazon had over $280 billion in revenue and $11.9 billion in profits.\n",
      " As more Americans shift their shopping online, it will likely do better this year.\n",
      " But, as the pandemic continues, Amazon maintains one of the stingiest paid sick leave policies among major corporations.\n",
      " \",\"body_html\":\" This is the online version of the Popular Information newsletter.\n",
      " You can sign up to get independent accountability journalism straight to your inbox here:  Subscribe now  While much of the economy grinds to a halt, Amazon is doing more business than ever.\n",
      " The company has announced it is hiring 100,000 workers to try to meet surging demand.\n",
      " In 2019, Amazon had over $280 billion in revenue and $11.9 billion in profits.\n",
      " As more Americans shift their shopping online, it will likely do better this year.\n",
      " But, as the pandemic continues, Amazon maintains one of the stingiest paid sick leave policies among major corporations.\n",
      " As Popular Information reported last week, a significant number of Amazon's workforce \\u2014 particularly part-time employees and contract workers \\u2014 are not receiving paid sick time.\n",
      " In response to the pandemic, Amazon said it would provide two weeks of sick leave to \\\"all Amazon employees diagnosed with COVID-19 or placed into quarantine.\\\" Kroger had a similar policy until Saturday when Kroger expanded its policy to cover workers with COVID-19 symptoms or who need to care for sick family members.\n",
      " Amazon, however, has held firm.\n",
      " Amazon's large contract workforce, which delivers packages and performs other critical tasks, is in even worse shape.\n",
      " Amazon is not providing any sick leave at all for these workers, even if they test positive for COVID-19.\n",
      " Instead, these workers must apply to the \\\"Amazon Relief Fund\\\" and apply for a grant to cover their sick leave.\n",
      " The fund is \\\"focused on supporting our U.S.-based Delivery Associates employed by Delivery Service Providers, our Amazon Flex Delivery Partners, and Associates working for Integrity Staffing, Adecco Staffing, and RES Staffing, and drivers and support team members of line haul partners under financial distress due to a COVID-19 diagnosis or quarantine.\\\" Amazon donated $25 million to the fund and is soliciting individual donations to add to the pot.\n",
      " It initially included an option to donate by text.\n",
      " Why isn't Amazon just paying people who contracted COVID-19 while doing essential work for Amazon?\n",
      " Instead of changing its policy, Amazon tweaked the wording of its solicitation and eliminated the option to donate by text.\n",
      " Higher pay is a positive.\n",
      " But combined with minimal paid sick leave, increased hourly rates further incentivizes Amazon workers to show up sick.\n",
      " Two weeks ago, Popular Information's reporting resulted in Darden, the parent company of Olive Garden, providing paid sick leave to 170,000 employees .\n",
      " This week, following multiple reports in this newsletter, Kroger significantly expanded its paid sick leave policy for 450,000 workers .\n",
      " This is the power of public scrutiny and accountability journalism.\n",
      " You can support this work by becoming a paid subscriber.\n",
      " It's $6 per month or $50 a year.\n",
      " Your subscription will help Popular Information to expand its work and broaden its impact.\n",
      " There are no wealthy donors or advertisers behind this newsletter.\n",
      " It exists because of the support from readers like you .\n",
      " If you have any questions, comments, tips, or complaints, please contact me at judd@popular.info.\n",
      " The danger of Trump's press conferences Trump has been the most consistent source of misinformation during the COVID-19 pandemic.\n",
      " Americans are inundated with false information during Trump's daily press conference, which Trump uses to air grievances and make wild claims.\n",
      " In a March 19 press conference , Trump extolled the virtues of an anti-malaria drug called chloroquine, describing it as a safe and promising treatment for COVID-19.\n",
      " Now, a drug called chloroquine \\u2014 and some people would add to it \\u201Chydroxy-.\\u201D Hydroxychloroquine.\n",
      " So chloroquine or hydroxychloroquine.\n",
      " Now, this is a common malaria drug.\n",
      " It is also a drug used for strong arthritis.\n",
      " If somebody has pretty serious arthritis, also uses this in a somewhat different form.\n",
      " But it is known as a malaria drug, and it\\u2019s been around for a long time and it\\u2019s very powerful.\n",
      " But the nice part is, it\\u2019s been around for a long time, so we know that if it \\u2014 if things don\\u2019t go as planned, it\\u2019s not going to kill anybody.\n",
      " ...And it\\u2019s shown very encouraging \\u2014 very, very encouraging early results.\n",
      " And we\\u2019re going to be able to make that drug available almost immediately.\n",
      " And that\\u2019s where the FDA has been so great.\n",
      " They \\u2014 they\\u2019ve gone through the approval process; it\\u2019s been approved.\n",
      " And they did it \\u2014 they took it down from many, many months to immediate.\n",
      " So we\\u2019re going to be able to make that drug available by prescription or states.\n",
      " Later in the press conference, the FDA Commission, Dr. Stephen Hahn, was forced to clarify that the FDA has not approved chloroquine to treat COVID-19 and has no plans to immediately make it available for that purpose.\n",
      " Instead, Hahn said, the FDA would conduct \\\"a clinical trial \\u2014 a large, pragmatic clinical trial\\\" to \\\"actually see if that benefits patients.\\\" Trump was not dissuaded.\n",
      " \\\"Dr. Hahn is the expert, but a lot of reasons that I would have to think that it could have a very positive effect or a positive effect,\\\" Trump said near the end of the press conference.\n",
      " \\\"I think it\\u2019s, to me, very, very exciting.\\\" On Monday, Banner Health, which operates 28 hospitals across several states, was forced to issue a warning \\\"that chloroquine, a malaria medication, should not be ingested to treat or prevent this virus.\\\" Why?\n",
      " A man has died and his wife is under critical care after the couple, both in their 60s, ingested chloroquine phosphate, an additive commonly used at aquariums to clean fish tanks.\n",
      " Within thirty minutes of ingestion, the couple experienced immediate effects requiring admittance to a nearby Banner Health hospital.\n",
      " Health officials in Nigeria \\\"reported two cases of chloroquine poisoning .\\\" After the death was reported, Trump returned to the podium on Monday night and repeated his claims about chloroquine.\n",
      " He said that the drug, in combination with others, is \\\"looking very very good.\\\" He said it would be distributed to \\\"a lot of people in New York\\\" tomorrow morning.\n",
      " He then delivered a rambling story about how chloroquine could take care of COVID-19 in a matter of hours.\n",
      " There was a gentleman they thought was not going to make it.\n",
      " He said goodbye to his family.\n",
      " They had given him the drug just a little while before but he thought it was over.\n",
      " His family thought he was going to die.\n",
      " And a number of hours later he woke up.\n",
      " Felt good.\n",
      " Then he woke up again and felt really good.\n",
      " He's in good shape.\n",
      " He's very happy for this particular drug that we got approved in record-setting time.\n",
      " The media should reconsider airing Trump's press conferences live.\n",
      " Mass distribution of misinformation during a pandemic has consequences.\n",
      " Subscribe now  Donate Subscriptions  Thanks for reading!\n",
      " I guess that I shouldn't be shocked anymore but somehow, I still am.\n",
      " We merely as cattle.\n",
      " Consider that Trump\\u2019s statement that he will relax restrictions sooner and \\u201Ctake our chances\\u201D because \\u201Cthe cure cannot be worse than the problem\\u201D is influenced by financial industry lobbying and government financial advisors to resume all businesses to ensure that the US remains as the global economic leader.\n",
      " \\n\\nSo why would any billionaire really go to bat for employees?\n",
      " The meager showcasing being attempted should gall all of us.\n",
      " These are corporate owners or CEOs who get enormous tax breaks such that many don\\u2019t even pay taxes.\n",
      "\n",
      "Score: 169.04493713378906, Document: Now he’ll need to put the country back together, Franklin Foer writes.\n",
      " Close Icon                     Business  Some Americans Depend on Their Tax Refunds to Survive  The survey reveals that a majority of Americans plan to use their refunds to pay off debt or cover basic necessities.\n",
      " Janie Boschma  National Journal       March 16, 2015                        Link Copied           Americans are generally feeling more optimistic about the economy and their own financial situations, but many are relying on savings from this year's tax refunds and low gas prices to cover basic necessities and pay off debt.\n",
      " These findings from the latest Allstate/National Journal Heartland Monitor Poll and follow-up interviews with respondents reflect the fact that while some segments of the population have largely recovered after the recession, many are still struggling to cover their expenses and dig out from under years of debt—and see the savings as a welcome financial cushion.\n",
      " More than half of respondents said they expect to receive a tax refund this year.\n",
      " Of those, 82 percent said lower fuel prices have made a difference in improving their financial situations.\n",
      " Thirty-seven percent of those expecting a tax refund said they plan to use it to pay off debt, 29 percent would save or invest it, and 20 percent said the money would go toward covering basic necessities.\n",
      " Less than 10 percent said they'd spend the extra money on something nice or fun.\n",
      " Decisions on how to spend that tax refund revealed stark contrasts across race, income, and education levels.\n",
      " While each demographic prioritized paying off debt, only 36 percent of whites said they would use their refund to pay bills compared to 47 percent of black respondents and 43 percent of Hispanics.\n",
      " Whites were the most likely to save or invest their refund—30 percent reported those plans, nearly 10 percentage points higher than black and Hispanic adults.\n",
      " College-educated millennials, many still shouldering long-term student loan debt, were the most likely to expect a tax refund (74 percent).\n",
      " About 40 percent said they plan to put their refund toward paying off loans, about the same share who would pay off debt among those without a college degree between the ages of 18 and 64.\n",
      " Bailey Price, a college graduate from Lincoln, Neb., used her tax refund to whittle down her outstanding student loan debt, which she expects to pay off within the next two to three years.\n",
      " Beyond debt, her tax return allows her family a bit more freedom in their budget.\n",
      " \"It's given us a little more wiggle room for certain things that pop up like a friend's baby shower, so we can actually afford a decent present for that, or recently we've had a couple things go wrong with our car and we were able to pull together funds that we wouldn't have had,\" says Price.\n",
      " \"It just allows us to catch our breath a little bit more.\n",
      " \"The share of adults saving or investing their refund also increased with each income bracket, ranging from 20 percent of those earning $30,000 or less to 40 percent of adults making $100,000 or more annually.\n",
      " Adults with a four-year degree aged 40 and older were most likely to save or invest their refunds and more likely to use their refund to buy something nice or fun (still only about 12 percent).Adults over the age of 40 without a college degree were the most likely group to use their refund to pay for necessities.\n",
      " Barbara Thomas, 58 from Irrigon, Ore., already spent her tax refund on medical bills from a recent surgery to remove cancerous melanoma.\n",
      " Thomas works seasonally in the fishing industry and over the winter, she and her husband have tried to stretch his retirement income to cover both their regular expenses and her doctor's appointments.\n",
      " Anything extra that comes their way--whether her refund or fuel savings--makes all the difference.\n",
      " \"It just makes it a lot easier to make ends meet,\" Thomas said.\n",
      " \"Living on social security is tough.\n",
      " \"About three-quarters of respondents reported saving money from low gas prices recently.\n",
      " Just under one-third said they're using those savings to cover necessities, 27 percent are paying off debt or buying less on credit, and 19 percent are saving or investing the difference.\n",
      " Less than 10 percent said they are either driving more or buying luxury items with their fuel savings.The impact of a lower gas price followed similar patterns along racial, income, and education lines.\n",
      " Minority respondents were more likely to report savings at the pump having a \"huge or significant\" financial impact, with 38 percent and 35 percent of Hispanic and black respondents, respectively, compared to 30 percent of whites.Sean Adams, a 23-year-old African-American who works for the government near Virginia Beach, Virginia, said lower gas prices have made a huge difference for his budget.\n",
      " He's used the savings to pay off bills and buy necessities he put off while the fuel price was so high and filling his tank trumped other expenses.\n",
      " \"You shouldn't be making life decisions at the pump,\" says Adams, \"but you do what you have to do.\n",
      " You have to get to work.\n",
      " \"Parents with school-aged children were more likely to feel the impact of cheaper fuel (62 percent), compared to parents with adult children (50 percent) and non-parents (54 percent).Kimberly McDaniel, a nursing student from Nacogdoches, Texas, says lower gas prices have cut her monthly fuel bill by more than half.\n",
      " She had been spending about $300 monthly to commute to medical school and to pick up her kids at school; now she only spends about $120.A divorced mother of three, McDaniel says she's used her tax refund and fuel savings to help provide for her children, and pay off her mortgage and car payments while she's studying full-time.\n",
      " \"I'm basically having to use that to pay bills and everything to make it through,\" she says.\n",
      " \"There's no extra spending going on right now.\n",
      " In a normal situation if I were still working and not going to school, we would have more money to spend money on other things, like going to the movies or taking them skating.\"\n",
      " The latest Allstate/National Journal Heartland Monitor Poll is the 22nd in a series examining how Americans are experiencing the changing economy.\n",
      " This poll, which explored how Americans rate conditions in their communities and whether they prefer local or national institutions to take the lead in responding to the country's challenges, surveyed 1,000 adults by landline and cell phones from Feb. 18 through 22, 2015.\n",
      " The survey has a margin of error of plus or minus 3.1 percentage points.\n",
      " The survey was supervised by Ed Reilly and Jeremy Ruch of FTI Consulting's Strategic Communications practice.\n",
      " We want to hear what you think about this article.\n",
      " Submit a letter to the editor or write to letters@theatlantic.com.\n",
      " Janie Boschma is a former senior associate editor at The Atlantic.\n",
      " Connect    Twitter        News and updates from the editors of National Journal magazine.\n",
      " About    Our History   Staff   Careers      Contact    Help Center   Contact Us   Atlantic Brand Partners   Press      Podcasts    Social Distance™   Floodlines   The Ticket: Politics from The Atlantic   Crazy/Genius      Subscription    Purchase   Give a Gift   Manage Subscription   Download iOS App   Newsletters      Follow                                                                  Privacy Policy   Do Not Sell My Personal Information   Advertising Guidelines   Terms Conditions   Responsible Disclosure   Site Map        TheAtlantic.com Copyright (c) 2020 by The Atlantic Monthly Group.\n",
      " All Rights    Reserved.\n",
      "\n",
      "Score: 170.94375610351562, Document: This is to counter that.\n",
      " — Most Americans, including most gun owners, would support reasonable limits on guns to help stop massacres like the one last week in Oregon, Hillary Clinton told Iowans Tuesday.“I’m tired of people in public life saying, ‘Our thoughts and prayers are with families whose children are murdered at community colleges or elementary schools or people killed at Bible studies or going to the movies,’ ” the Democratic presidential candidate said.\n",
      " “We can’t tolerate that.\n",
      " This doesn’t just happen.\n",
      " … We let it happen.”Her audience at Davenport’s RiverCenter applauded as Clinton vowed to make it harder for people who shouldn’t have guns to obtain them.\n",
      " Among other things, she favors broader background checks, including sales at gun shows, and stronger measures to prevent gun purchases by domestic abusers or people with serious mental health problems.“We keep getting stymied because of the lobby for a very small minority of gun owners and the gun manufacturers, which stand in the way,” she said.Clinton has spoken throughout the campaign about her intention to implement tighter gun rules, despite pressure from the National Rifle Association.\n",
      " This week, she released specifics of her proposals.“I feel like this is unfinished business in our country, and I am very determined that we are going to try to bring some sanity back, so that people’s Second Amendment rights are protected — but they are not absolute, the way the NRA wants them to be.\n",
      " There are common-sense ways to make sure people are not using guns to commit mass murders.”Later Tuesday, speaking outside a bed and breakfast in Muscatine, Clinton alluded to comments former Florida Gov.\n",
      " Jeb Bush made after the Oregon shooting at a community college.\n",
      " “When one of the leading Republican candidates when asked about this, said, ‘Yeah, stuff happens,’ ” Clinton recounted, to groans from her audience.\n",
      " “No.\n",
      " That’s like an admission of fatalism and defeat.\n",
      " That’s not who we are as Americans.”MORE:Download Iowa Caucuses appCandidate trackerFull Iowa Caucus coverageClinton spent much of her time at both events responding to voter questions, ranging from Social Security to ISIS to the economy.\n",
      " In Davenport, she spoke at length about her intention to protect gains from the Affordable Care Act, including insurance coverage for millions more Americans, and to address continuing problems in health care, such as huge price increases for medication.Clinton singled out Iowa’s dominant health-insurer, Wellmark Blue Cross &amp; Blue Shield, for criticism.\n",
      " She panned Wellmark’s near monopoly in Iowa, and noted that it recently gained approval for premium increases of 18 percent to 28 percent.\n",
      " “That is a lack of competition,” she said.Wellmark spokeswoman Traci McBee responded in an email to the Register that Wellmark’s rate increases were legitimate.“Rate increases in Iowa are designed to cover the increased cost of care as well as required fees and administration expenses.\n",
      " Nothing more,” McBee wrote.\n",
      " “In fact, the Affordable Care Act protects consumers from unnecessary increases in premiums and prevents health insurance companies from using rates to make up for past losses or excessive profits.\n",
      " In essence, the ACA, by definition, does not allow health insurers to make too much money.\n",
      " If health insurers overprice policies and does not pay out enough in health care claims, they are required to rebate money back to members.”AT THE EVENTSETTING: The RiverCenter in Davenport.CROWD: About 400, according to the Clinton campaign.REACTION: The event mainly focused on voter questions.\n",
      " Audience members applauded a range of Clinton's answers, including on gun issues and Social Security.\n",
      " They laughed when a voter asked the candidate what she intended to do with her husband, former President Bill Clinton, when she returns to the White House.\n",
      " \"Put him to work,\" she replied.\n",
      "\n",
      "Score: 173.53054809570312, Document: The Dems think it would be bad for them politically if U.S. schools open before the November Election, but is important for the children &amp; families.\n",
      " May cut off funding if not open!— Donald J. Trump (@realDonaldTrump) July 8, 2020Trump began by stating that in “Germany, Denmark, Norway, [and] Sweden,” “SCHOOLS ARE OPEN WITH NO PROBLEMS.” Trump contended Democrats sought to keep schools closed for unspecified political reasons, mentioning the November 2020 election.In response, Klaas claimed that the following statistics represented new diagnosed cases of COVID-19 in the same countries versus the United States on July 7 2020:New cases, yesterday [July 7 2020]:Germany: 298 Denmark: 10 Norway: 11 Sweden: 57United States: 55,442Source of Figures New COVID-19 Cases on July 7 2020Klaas didn’t provide a source for his numbers, but they were relatively easy to find on Worldometers.info.We first noticed that the page itself had been archived repeatedly on the Wayback Machine, and that archives of the site’s pages did not consistently display figures as they appeared on the dates.As of July 9 2020, the site’s figures were available under a tab “2 days ago.” The exact figure in Klass’ tweet was visible for the United States (which, when sorted by volume, was in the first spot):Germany and Sweden were side by side, numbering 49 and 50 respectively.\n",
      " Although the tweet’s count for Germany matched Worldometers.info’s data, Sweden’s numbers were off, with 295 new cases — not 57:Norway and Denmark were similarly nearly adjacent, at numbers 114 and 116 on the list sorted by case count.\n",
      " Norway was listed at eleven new cases, and Denmark, ten:In that respect, the tweet correctly transposed four of the five countries listed — the United States, Germany, Norway, and Denmark.\n",
      " However, according to the same source, Sweden was listed as having 295 new cases on July 7 2020 — not 57.We located a number of articles from sources in the United States reiterating the figure of 55,442 new cases on July 7 2020, but all in turn cited Worldometers.info as their source.Is Worldometers.info a Reliable Source for COVID-19 Case Counts and Deaths?Worldometers.info seemed to emerge from the ether at the start of the COVID-19 pandemic, and as we noted above, had been archived repeatedly as COVID-19 developed into a global pandemic.The Wayback Machine indicates that the site had no archived pages at any point before late January 2020:On May 19 2020, CNN published an in-depth look into whether Worldometers.info’s reliability matched its new global prominence as a source for to-the-minute information about the COVID-19 pandemic.The outlet’s findings were mixed.\n",
      " Citing traffic metrics site BuzzSumo, CNN described a meteoric rise for the newly popular site — finding that in the previous “six months, its pages [had] been shared about 2.5 million times — up from just 65 shares in the first six months of 2019.” CNN noted that for all the credence given Worldometers.info in the news and on social media, little was known about the scope or credibility of its data:The website claims to be “run by an international team of developers, researchers, and volunteers” and “published by a small and independent digital media company based in the United States.”But public records show little evidence of a company that employs a multilingual team of analysts and researchers.\n",
      " It’s not clear whether the company has paid staff vetting its data for accuracy or whether it relies solely on automation and crowdsourcing.\n",
      " The site does have at least one job posting, from October, seeking a volunteer web developer.The network also examined the site’s source code, unearthing a cluster of related sites with myriad purposes.\n",
      " Often, the sites revolved around “live stats” counting:IDs in the source code for Worldometer and the US Dadax’s websites link them to at least two dozen other websites that appear to share ownership.\n",
      " Some appear to be defunct.\n",
      " Others, such as usalivestats.com, italiaora.org and stopthehunger.com, share the same premise: live stats counters.\n",
      " Most of the sites have a rudimentary aesthetic, reminiscent of a 1990s or early 2000s internet.\n",
      " Some seem quite random.\n",
      " One Italian site displays Christmas poems and gift suggestions, like a bonsai plant (for her), or a plot of land on the moon (for him).\n",
      " Another site is dedicated to Sicilian puppet shows.Attempts to verify the validity of the wide-ranging, multinational information hosted on the site each day were similarly unsteady and nebulous.\n",
      " One Wikipedia editor cited specific errors, and further observed that the data appeared to be biased in favor of larger figures:According to Worldometer’s website, its Covid-19 data comes from a multilingual team that “monitors press briefings’ live streams throughout the day” and through crowdsourcing.Visitors can report new Covid-19 numbers and data sources to the website – no name or email address required.\n",
      " A “team of analysts and researchers” validate the data, the website says.\n",
      " It may, at first, sound like the Wikipedia of the data world, but some Wikipedia editors have decided to avoid Worldometer as a source for Covid-19 data.“Several updates lack a source, do not match their cited source or contain errors,” one editor, posting under the username MarioGom, wrote on a discussion page for Wikipedia editors working on Covid-19-related content last month.\n",
      " “Some errors are small and temporary, but some are relatively big and never corrected.”The editor, whose real name is Mario Gómez, told CNN in an email, “Instead of trying to use a consistent criteria, [Worldometer] seems to be going for the highest figure.\n",
      " They have a system for users to report higher figures, but so far I failed to use it to report that some figure is erroneous and should be lower.”Edouard Mathieu, the data manager for Our World in Data (OWID), an independent statistics website headquartered at Oxford University, has seen a similar trend.“Their main focus seems to be having the latest number wherever it comes from, whether it’s reliable or not, whether it’s well-sourced or not,” he said.\n",
      " “We think people should be wary, especially media, policy-makers and decision-makers.\n",
      " This data is not as accurate as they think it is.”A FAQ page on the site itself reflected that ambiguity.\n",
      " Worldometers.info seemed to indicate at least some of its information was crowdsourced, before pivoting to a portfolio of outlets which had referenced its data:Official reports, directly from Government’s communication channels or indirectly, through local media sources when deemed reliable.\n",
      " We provide the source of each data update in the “Latest Updates” (News) section.\n",
      " Timely updates are made possible thanks to the participation of users around the world and to the dedication of a team of analysts and researchers who validate data from an ever-growing list of over 5,000 sources.\n",
      " Worldometer’s Covid-19 data is trusted and used by Johns Hopkins CSSE, Financial Times, The New York Times, Business Insider, and many others.Over the past 15 years, our statistics have been trusted by: Oxford University Press, Wiley, Pearson, CERN, World Wide Web Consortium (W3C), The Atlantic, BBC, Milton J. Rubenstein Museum of Science &amp; Technology, Science Museum of Virginia, Morgan Stanley, IBM, Hewlett Packard, Dell, Kaspersky, PricewaterhouseCoopers, Amazon Alexa, Google Translate, United Nations Rio+20.\n",
      " and many others.At the end of the paragraph was a “Learn More” link, leading to a page titled “Worldometer COVID-19 Data.” Much of the page’s content was identical to the above excerpt, leaning on purported citations used by other institutions and outlets:Worldometer manually analyzes, validates, and aggregates data from thousands of sources in real time and provides global COVID-19 live statistics for a wide audience of caring people around the world.Our data is also trusted and used by the UK Government, Johns Hopkins CSSE, the Government of Thailand, the Government of Vietnam, the Government of Pakistan, Financial Times, The New York Times, Business Insider, BBC, and many others.Over the past 15 years, our statistics have been requested by, and provided to Oxford University Press, Wiley, Pearson, CERN, World Wide Web Consortium (W3C), The Atlantic, BBC, Milton J. Rubenstein Museum of Science &amp; Technology, Science Museum of Virginia, Morgan Stanley, IBM, Hewlett Packard, Dell, Kaspersky, PricewaterhouseCoopers, Amazon Alexa, Google Translate, the United Nations Conference on Sustainable Development (Rio+20), the U2 concert, and many others.Worldometer is cited as a source in over 10,000 published books and in more than 6,000 professional journal articles and was voted as one of the best free reference websites by the American Library Association (ALA), the oldest and largest library association in the world.A sample of sources for data was provided for twelve countries on the COVID-19 case pages, from Afghanistan to Azerbaijan.\n",
      " However, the site provided no information about its number of paid employees, how much of its data was supplied by anonymous volunteers, or what sort of fact-checking mechanisms they have in place.Other Figures for New Cases on July 7 2020 in the United StatesCiting data compiled by Johns Hopkins University for July 7 2020, CNBC reported:The United States reported more than 60,000 new Covid-19 cases on [July 7 2020], setting a fresh record for new cases reported in a single day, according to data compiled by Johns Hopkins University.The country reported 60,021 newly confirmed cases over the previous 24 hours as outbreaks continue to expand across a number of states, mostly across the American South and West.\n",
      " Arizona, California, Florida and Texas have accounted for nearly half of all new cases in the U.S. in recent days.As of July 9 2020, Worldometers.info’s July 7 2020 data differed from the data provided by Johns Hopkins University, listing 55,442 new cases on that date versus 60,021.\n",
      " Johns Hopkins’ coronavirus tracker did not appear to provide information by date and country to contrast their numbers with the numbers in the tweet.TL;DRA tweet from political scientist Brian Klaas correctly transposed COVID-19 figures for four of the five countries as they appeared on Worldometers.info — the United States, Germany, Denmark, and Norway.\n",
      " The figures for Sweden were inaccurately transcribed as 57, versus the site’s claim of 295.\n",
      " However, the veracity of Worldometers.info’s statistics was unclear, and its number of new cases listed for United States on July 7 2020 undercounted them by about 5,000.\n",
      " In actuality, we know of no centralized source providing completely vetted figures by date and by country, so we rate the claim Unknown.Comments eval(ez_write_tag([[300,250],'truthorfiction_com-medrectangle-1','ezslot_6',127,'0','0']));eval(ez_write_tag([[300,250],'truthorfiction_com-medrectangle-1','ezslot_7',127,'0','1']));eval(ez_write_tag([[300,250],'truthorfiction_com-medrectangle-1','ezslot_8',127,'0','2']));Article Sources +COVID-19 CORONAVIRUS PANDEMICThe Covid-19 pandemic has catapulted one mysterious data website to prominence, sowing confusion in international rankingsFAQWorldometer COVID-19 DataU.S.\n",
      " reports record single-day spike of 60,000 new coronavirus casesShareShareRedditWhatsAppEmailTweetPost navigation← Previous PostNext Post → Help Fight Misinformation.\n",
      " Contribute Now 100% of contributions go towards research and editorial costs.Recent Posts Did an Antrim County, Michigan ‘Software Glitch’ Send ‘6,000 Trump Votes to Biden’?\n",
      " ‘Election Fraud is Real, and It’s Happening Right Now’ ‘Special Paper,’ ‘Watermarked Ballots’ Conspiracy Theory Spreads on Social Media Were Democrats ‘Handing Out CHEAT SHEETS’ in Michigan (or Missouri)?\n",
      " Can Georgia Voters Check and ‘Cure’ Rejected Ballots Before November 6 2020?eval(ez_write_tag([[300,250],'truthorfiction_com-large-billboard-2','ezslot_1',112,'0','0']));eval(ez_write_tag([[300,250],'truthorfiction_com-large-billboard-2','ezslot_2',112,'0','1']));eval(ez_write_tag([[300,250],'truthorfiction_com-large-billboard-2','ezslot_3',112,'0','2']));eval(ez_write_tag([[300,250],'truthorfiction_com-large-billboard-2','ezslot_4',112,'0','3']));Popular Posts‘Clinton Body Count’ Rumors31K Total SharesOrigin of the Word ‘Spinster’24K Total SharesPokémon Creator Admits Game is Anti-Christian, Created for Satanists-Fiction!18K Total SharesMuslim Students Question Swiss Handshake Custom-Truth!18K Total SharesHillary Clinton Sold Weapons to ISIS-Fiction!13K Total SharesFord Foundation Donates $100 Million to Black Lives Matter-Truth!\n",
      " oh : (oh &gt; ow) ?\n",
      " ow : (oh &gt; ow) ?\n",
      "\n",
      "Score: 173.59906005859375, Document: readSAN FRANCISCO—Chris Nowinski didn’t intend to talk to the press; he just dropped by to hear what the National Football League had to say these days about brain injuries, about concussions, about the neurological disease known as CTE.\n",
      " Nowinski is the co-founder and executive director of the Concussion Legacy Foundation, the leading concussion advocacy organization in America.\n",
      " He just wanted to listen.\n",
      " He was astonished.“I sort of feel like I’m re-living big tobacco in real time,” said Nowinski, after watching an NFL-affiliated doctor refuse to speak about the connection between football and CTE, or chronic traumatic encephalopathy.\n",
      " The NFL had just held its annual health and safety press conference.\n",
      " Reported concussions were up 58 per cent this season, but the event was mostly devoted to the winners of the technological innovation contest the NFL set up with GE.\n",
      " Winners included makers of a turf underpad, safer helmets — ah, that old chestnut — and brainwave or blood scans to detect concussions.And then Dr. Mitch Berger, a member of the NFL’s Head, Neck &amp; Spine Committee, resolutely refused to admit there was a link between CTE and football.\n",
      " Boston University had found CTE in 90 of 94 examined brains of NFL players; this week, legendary quarterbacks Kenny Stabler and Earl Morrall were added to the list.\n",
      " I asked Dr. Berger, a professor and the chairman of the University of California, San Francisco’s Neurological Surgery Department, where he was on a link between football and CTE.“There’s no question that there are degenerative disorders of the brain that occur after a car accident, we can see it after gunshot wounds to the brain,” said Dr. Berger.\n",
      " “And the interesting thing about the literature as it’s evolved over the years is you can see tau deposits in the brain in individuals who have never had a traumatic brain injury .\n",
      " .\n",
      " .\n",
      " we’re obviously very concerned about this.\n",
      " So if we’re going to find a link in football, we also have to find a link in the military population, in the civilian population, to put this whole story together.”Asked again about football, Dr. Berger again obfuscated.\n",
      " “There’s no question that you can find degenerative changes that are indicative of CTE in individuals who have played football .\n",
      " .\n",
      " .\n",
      " (but) I think tau is found in brains that have traumatic injuries.\n",
      " Whether it’s from football, whether it’s from car accidents, gunshot wounds, domestic violence, remains to be seen.”But, football.“Well, again, we’ve seen evidence anecdotally of a number of players who have come to autopsy who have had the diagnosis made.\n",
      " We’ve also seen a number of players who have done very well.\n",
      " “What he was saying, that’s 10 years ago talk.\n",
      " I can’t believe Dr. Berger wasn’t up to speed on the research, and that’s why it’s so intentionally misleading.”Nowinski cited the league’s recent withdrawal of a $16 million (U.S.) grant as part of a $30 million pledge to fund brain studies after it went to Dr. Robert Stern of Boston University, who has done extensive research on the brains of NFL players, and has criticized the league.\n",
      " The National Institutes of Health stepped forward to replace the lost funding.“It was frankly a slap in the face to every family suffering from CTE right now,” said Nowinski, with some agitation in his voice.\n",
      " “That study was delayed by at least nine months by the games the NFL was trying to play .\n",
      " .\n",
      " .\n",
      " I thought the (NFL’s good-faith move) was the $30 million to NIH.\n",
      " But I was proven wrong.\n",
      " They lied when they said it was no-strings attached, they lied when they said they would fund the BU study.\n",
      " And the lies have finally convinced me that only lies are going to follow.“Personally, I’m happy that it’s not going to be NFL money funding this study.\n",
      " But for me, personally, that was kind of the last straw in the attempt to claim there’s a good-faith effort from the NFL.”Nowinski ceded that pending class-action settlement litigation may factor into a refusal to link CTE and football.\n",
      " He also noted that the science indicates it’s the volume of brain trauma that leads to CTE, and thinks the next big step should be limiting youth football until high school age, so as to limit the exposure to repetitive brain trauma.\n",
      " “I am a firm believer that no one should be playing tackle football before high school,” Nowinski said.\n",
      " “One of the problems we have in this country on this debate is the NFL is strongly funding and underwriting youth football in this country, through USA Football, through Heads Up football, through the mom marketing programs, and commissioner Goodell going and teaching tackling to mothers .\n",
      " .\n",
      " .\n",
      " He kept talking.\n",
      " SHARE:Report an errorJournalistic StandardsAbout The StarMore from The Star &amp; PartnersMore SportsTop StoriesLOCAL GUIDEMORE BUSINESSVIEW ADSCopyright owned or licensed by Toronto Star Newspapers Limited.\n",
      " All  rights reserved.\n",
      " Republication or distribution of this content is  expressly prohibited without the prior written consent of Toronto  Star Newspapers Limited and/or its licensors.\n"
     ]
    }
   ],
   "source": [
    "for score, doc in zip(scores[0], nearest_documents):\n",
    "    print(f\"Score: {score}, Document: {doc}\")"
   ],
   "metadata": {
    "collapsed": false,
    "ExecuteTime": {
     "end_time": "2023-12-15T15:38:07.457085500Z",
     "start_time": "2023-12-15T15:38:07.354298800Z"
    }
   },
   "id": "ea023a558aec1bac"
  },
  {
   "cell_type": "code",
   "execution_count": null,
   "outputs": [],
   "source": [],
   "metadata": {
    "collapsed": false
   },
   "id": "f69b87e6066b4db7"
  }
 ],
 "metadata": {
  "kernelspec": {
   "display_name": "Python 3",
   "language": "python",
   "name": "python3"
  },
  "language_info": {
   "codemirror_mode": {
    "name": "ipython",
    "version": 2
   },
   "file_extension": ".py",
   "mimetype": "text/x-python",
   "name": "python",
   "nbconvert_exporter": "python",
   "pygments_lexer": "ipython2",
   "version": "2.7.6"
  }
 },
 "nbformat": 4,
 "nbformat_minor": 5
}
