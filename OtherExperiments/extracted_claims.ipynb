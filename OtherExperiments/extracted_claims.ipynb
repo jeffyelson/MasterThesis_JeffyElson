{
 "cells": [
  {
   "cell_type": "code",
   "execution_count": 1,
   "id": "initial_id",
   "metadata": {
    "collapsed": true,
    "ExecuteTime": {
     "end_time": "2024-03-07T15:26:12.730591100Z",
     "start_time": "2024-03-07T15:26:10.352276700Z"
    }
   },
   "outputs": [],
   "source": [
    "import pandas as pd\n",
    "claims = pd.read_excel('D:\\Master Thesis\\src\\claims.xlsx')"
   ]
  },
  {
   "cell_type": "code",
   "execution_count": 5,
   "outputs": [
    {
     "name": "stdout",
     "output_type": "stream",
     "text": [
      "Collecting openpyxl\n",
      "  Downloading openpyxl-3.1.2-py2.py3-none-any.whl (249 kB)\n",
      "     ---------------------------------------- 0.0/250.0 kB ? eta -:--:--\n",
      "     - -------------------------------------- 10.2/250.0 kB ? eta -:--:--\n",
      "     ---- -------------------------------- 30.7/250.0 kB 330.3 kB/s eta 0:00:01\n",
      "     --------- --------------------------- 61.4/250.0 kB 469.7 kB/s eta 0:00:01\n",
      "     -------------------------------------  245.8/250.0 kB 1.5 MB/s eta 0:00:01\n",
      "     -------------------------------------- 250.0/250.0 kB 1.4 MB/s eta 0:00:00\n",
      "Collecting et-xmlfile (from openpyxl)\n",
      "  Downloading et_xmlfile-1.1.0-py3-none-any.whl (4.7 kB)\n",
      "Installing collected packages: et-xmlfile, openpyxl\n",
      "Successfully installed et-xmlfile-1.1.0 openpyxl-3.1.2\n"
     ]
    }
   ],
   "source": [
    "!pip install openpyxl"
   ],
   "metadata": {
    "collapsed": false,
    "ExecuteTime": {
     "end_time": "2024-01-11T10:33:25.892957400Z",
     "start_time": "2024-01-11T10:33:17.619222300Z"
    }
   },
   "id": "7893175149bef64"
  },
  {
   "cell_type": "code",
   "execution_count": 7,
   "outputs": [
    {
     "data": {
      "text/plain": "                                                 folder  \\\n0       /content/drive/MyDrive/images/myths on warfarin   \n1       /content/drive/MyDrive/images/myths on warfarin   \n2       /content/drive/MyDrive/images/myths on warfarin   \n3       /content/drive/MyDrive/images/myths on warfarin   \n4        /content/drive/MyDrive/images/myths on zonules   \n...                                                 ...   \n2016  /content/drive/MyDrive/images/myths on hypotha...   \n2017  /content/drive/MyDrive/images/myths on hypotha...   \n2018  /content/drive/MyDrive/images/myths on hypotha...   \n2019  /content/drive/MyDrive/images/myths on hypotha...   \n2020    /content/drive/MyDrive/images/myths on hypnotic   \n\n                                           filename  \\\n0                              mythsonwarfarin0.png   \n1                             mythsonwarfarin1.jpeg   \n2                             mythsonwarfarin3.jpeg   \n3                              mythsonwarfarin2.png   \n4                              mythsonzonules1.jpeg   \n...                                             ...   \n2016   mythsonhypothalamicpituitaryadrenalaxis0.png   \n2017  mythsonhypothalamicpituitaryadrenalaxis3.jpeg   \n2018  mythsonhypothalamicpituitaryadrenalaxis2.jpeg   \n2019  mythsonhypothalamicpituitaryadrenalaxis1.jpeg   \n2020                           mythsonhypnotic0.png   \n\n                                                 claims  \n0     1\"\"S #IIl [ Iatt Ilat WARFARIN Hul; Gt 28 Tabl...  \n1                                Warfarin ts 28 tablets  \n2     WARFARIN YOU BLOOD CLOTS CAUSES & PREVENTION V...  \n3                                          Warfarin & 1  \n4     Contracted Muscles Relaxed and Loose Zonules R...  \n...                                                 ...  \n2016  HYPOTHALAMUS part of the brain that AMYGDALA i...  \n2017  Increased risk for cognitive, emotional and be...  \n2018  STRESS RESPONSE SYSTEM Hypothalamus CRH Pituit...  \n2019  Incrcutedne conn Omcn FFInJ Deent duprur\"etx l...  \n2020  HYPNOSIS WRONG RIGHT Out of control In enhance...  \n\n[2021 rows x 3 columns]",
      "text/html": "<div>\n<style scoped>\n    .dataframe tbody tr th:only-of-type {\n        vertical-align: middle;\n    }\n\n    .dataframe tbody tr th {\n        vertical-align: top;\n    }\n\n    .dataframe thead th {\n        text-align: right;\n    }\n</style>\n<table border=\"1\" class=\"dataframe\">\n  <thead>\n    <tr style=\"text-align: right;\">\n      <th></th>\n      <th>folder</th>\n      <th>filename</th>\n      <th>claims</th>\n    </tr>\n  </thead>\n  <tbody>\n    <tr>\n      <th>0</th>\n      <td>/content/drive/MyDrive/images/myths on warfarin</td>\n      <td>mythsonwarfarin0.png</td>\n      <td>1\"\"S #IIl [ Iatt Ilat WARFARIN Hul; Gt 28 Tabl...</td>\n    </tr>\n    <tr>\n      <th>1</th>\n      <td>/content/drive/MyDrive/images/myths on warfarin</td>\n      <td>mythsonwarfarin1.jpeg</td>\n      <td>Warfarin ts 28 tablets</td>\n    </tr>\n    <tr>\n      <th>2</th>\n      <td>/content/drive/MyDrive/images/myths on warfarin</td>\n      <td>mythsonwarfarin3.jpeg</td>\n      <td>WARFARIN YOU BLOOD CLOTS CAUSES &amp; PREVENTION V...</td>\n    </tr>\n    <tr>\n      <th>3</th>\n      <td>/content/drive/MyDrive/images/myths on warfarin</td>\n      <td>mythsonwarfarin2.png</td>\n      <td>Warfarin &amp; 1</td>\n    </tr>\n    <tr>\n      <th>4</th>\n      <td>/content/drive/MyDrive/images/myths on zonules</td>\n      <td>mythsonzonules1.jpeg</td>\n      <td>Contracted Muscles Relaxed and Loose Zonules R...</td>\n    </tr>\n    <tr>\n      <th>...</th>\n      <td>...</td>\n      <td>...</td>\n      <td>...</td>\n    </tr>\n    <tr>\n      <th>2016</th>\n      <td>/content/drive/MyDrive/images/myths on hypotha...</td>\n      <td>mythsonhypothalamicpituitaryadrenalaxis0.png</td>\n      <td>HYPOTHALAMUS part of the brain that AMYGDALA i...</td>\n    </tr>\n    <tr>\n      <th>2017</th>\n      <td>/content/drive/MyDrive/images/myths on hypotha...</td>\n      <td>mythsonhypothalamicpituitaryadrenalaxis3.jpeg</td>\n      <td>Increased risk for cognitive, emotional and be...</td>\n    </tr>\n    <tr>\n      <th>2018</th>\n      <td>/content/drive/MyDrive/images/myths on hypotha...</td>\n      <td>mythsonhypothalamicpituitaryadrenalaxis2.jpeg</td>\n      <td>STRESS RESPONSE SYSTEM Hypothalamus CRH Pituit...</td>\n    </tr>\n    <tr>\n      <th>2019</th>\n      <td>/content/drive/MyDrive/images/myths on hypotha...</td>\n      <td>mythsonhypothalamicpituitaryadrenalaxis1.jpeg</td>\n      <td>Incrcutedne conn Omcn FFInJ Deent duprur\"etx l...</td>\n    </tr>\n    <tr>\n      <th>2020</th>\n      <td>/content/drive/MyDrive/images/myths on hypnotic</td>\n      <td>mythsonhypnotic0.png</td>\n      <td>HYPNOSIS WRONG RIGHT Out of control In enhance...</td>\n    </tr>\n  </tbody>\n</table>\n<p>2021 rows × 3 columns</p>\n</div>"
     },
     "execution_count": 7,
     "metadata": {},
     "output_type": "execute_result"
    }
   ],
   "source": [
    "claims"
   ],
   "metadata": {
    "collapsed": false,
    "ExecuteTime": {
     "end_time": "2024-01-11T10:33:37.329949Z",
     "start_time": "2024-01-11T10:33:37.297666100Z"
    }
   },
   "id": "e26a72d0a546cd2e"
  },
  {
   "cell_type": "code",
   "execution_count": 8,
   "outputs": [],
   "source": [
    "claims = claims[claims['claims'].str.len() >= 25]   "
   ],
   "metadata": {
    "collapsed": false,
    "ExecuteTime": {
     "end_time": "2024-01-11T10:37:30.888811400Z",
     "start_time": "2024-01-11T10:37:30.870801600Z"
    }
   },
   "id": "8dc6975cdd37d37e"
  },
  {
   "cell_type": "code",
   "execution_count": 9,
   "outputs": [
    {
     "data": {
      "text/plain": "                                                 folder  \\\n0       /content/drive/MyDrive/images/myths on warfarin   \n2       /content/drive/MyDrive/images/myths on warfarin   \n4        /content/drive/MyDrive/images/myths on zonules   \n5        /content/drive/MyDrive/images/myths on zonules   \n6        /content/drive/MyDrive/images/myths on zonules   \n...                                                 ...   \n2016  /content/drive/MyDrive/images/myths on hypotha...   \n2017  /content/drive/MyDrive/images/myths on hypotha...   \n2018  /content/drive/MyDrive/images/myths on hypotha...   \n2019  /content/drive/MyDrive/images/myths on hypotha...   \n2020    /content/drive/MyDrive/images/myths on hypnotic   \n\n                                           filename  \\\n0                              mythsonwarfarin0.png   \n2                             mythsonwarfarin3.jpeg   \n4                              mythsonzonules1.jpeg   \n5                              mythsonzonules0.jpeg   \n6                              mythsonzonules3.jpeg   \n...                                             ...   \n2016   mythsonhypothalamicpituitaryadrenalaxis0.png   \n2017  mythsonhypothalamicpituitaryadrenalaxis3.jpeg   \n2018  mythsonhypothalamicpituitaryadrenalaxis2.jpeg   \n2019  mythsonhypothalamicpituitaryadrenalaxis1.jpeg   \n2020                           mythsonhypnotic0.png   \n\n                                                 claims  \n0     1\"\"S #IIl [ Iatt Ilat WARFARIN Hul; Gt 28 Tabl...  \n2     WARFARIN YOU BLOOD CLOTS CAUSES & PREVENTION V...  \n4     Contracted Muscles Relaxed and Loose Zonules R...  \n5     Ora serrata body Sclera Choroid Ciliary zonule...  \n6     Lens Accommodation Anatomy of the Human Retina...  \n...                                                 ...  \n2016  HYPOTHALAMUS part of the brain that AMYGDALA i...  \n2017  Increased risk for cognitive, emotional and be...  \n2018  STRESS RESPONSE SYSTEM Hypothalamus CRH Pituit...  \n2019  Incrcutedne conn Omcn FFInJ Deent duprur\"etx l...  \n2020  HYPNOSIS WRONG RIGHT Out of control In enhance...  \n\n[1511 rows x 3 columns]",
      "text/html": "<div>\n<style scoped>\n    .dataframe tbody tr th:only-of-type {\n        vertical-align: middle;\n    }\n\n    .dataframe tbody tr th {\n        vertical-align: top;\n    }\n\n    .dataframe thead th {\n        text-align: right;\n    }\n</style>\n<table border=\"1\" class=\"dataframe\">\n  <thead>\n    <tr style=\"text-align: right;\">\n      <th></th>\n      <th>folder</th>\n      <th>filename</th>\n      <th>claims</th>\n    </tr>\n  </thead>\n  <tbody>\n    <tr>\n      <th>0</th>\n      <td>/content/drive/MyDrive/images/myths on warfarin</td>\n      <td>mythsonwarfarin0.png</td>\n      <td>1\"\"S #IIl [ Iatt Ilat WARFARIN Hul; Gt 28 Tabl...</td>\n    </tr>\n    <tr>\n      <th>2</th>\n      <td>/content/drive/MyDrive/images/myths on warfarin</td>\n      <td>mythsonwarfarin3.jpeg</td>\n      <td>WARFARIN YOU BLOOD CLOTS CAUSES &amp; PREVENTION V...</td>\n    </tr>\n    <tr>\n      <th>4</th>\n      <td>/content/drive/MyDrive/images/myths on zonules</td>\n      <td>mythsonzonules1.jpeg</td>\n      <td>Contracted Muscles Relaxed and Loose Zonules R...</td>\n    </tr>\n    <tr>\n      <th>5</th>\n      <td>/content/drive/MyDrive/images/myths on zonules</td>\n      <td>mythsonzonules0.jpeg</td>\n      <td>Ora serrata body Sclera Choroid Ciliary zonule...</td>\n    </tr>\n    <tr>\n      <th>6</th>\n      <td>/content/drive/MyDrive/images/myths on zonules</td>\n      <td>mythsonzonules3.jpeg</td>\n      <td>Lens Accommodation Anatomy of the Human Retina...</td>\n    </tr>\n    <tr>\n      <th>...</th>\n      <td>...</td>\n      <td>...</td>\n      <td>...</td>\n    </tr>\n    <tr>\n      <th>2016</th>\n      <td>/content/drive/MyDrive/images/myths on hypotha...</td>\n      <td>mythsonhypothalamicpituitaryadrenalaxis0.png</td>\n      <td>HYPOTHALAMUS part of the brain that AMYGDALA i...</td>\n    </tr>\n    <tr>\n      <th>2017</th>\n      <td>/content/drive/MyDrive/images/myths on hypotha...</td>\n      <td>mythsonhypothalamicpituitaryadrenalaxis3.jpeg</td>\n      <td>Increased risk for cognitive, emotional and be...</td>\n    </tr>\n    <tr>\n      <th>2018</th>\n      <td>/content/drive/MyDrive/images/myths on hypotha...</td>\n      <td>mythsonhypothalamicpituitaryadrenalaxis2.jpeg</td>\n      <td>STRESS RESPONSE SYSTEM Hypothalamus CRH Pituit...</td>\n    </tr>\n    <tr>\n      <th>2019</th>\n      <td>/content/drive/MyDrive/images/myths on hypotha...</td>\n      <td>mythsonhypothalamicpituitaryadrenalaxis1.jpeg</td>\n      <td>Incrcutedne conn Omcn FFInJ Deent duprur\"etx l...</td>\n    </tr>\n    <tr>\n      <th>2020</th>\n      <td>/content/drive/MyDrive/images/myths on hypnotic</td>\n      <td>mythsonhypnotic0.png</td>\n      <td>HYPNOSIS WRONG RIGHT Out of control In enhance...</td>\n    </tr>\n  </tbody>\n</table>\n<p>1511 rows × 3 columns</p>\n</div>"
     },
     "execution_count": 9,
     "metadata": {},
     "output_type": "execute_result"
    }
   ],
   "source": [
    "claims"
   ],
   "metadata": {
    "collapsed": false,
    "ExecuteTime": {
     "end_time": "2024-01-11T10:37:37.929719300Z",
     "start_time": "2024-01-11T10:37:37.904718600Z"
    }
   },
   "id": "871fa4cc46f2affa"
  },
  {
   "cell_type": "code",
   "execution_count": 19,
   "outputs": [],
   "source": [
    "claims.to_excel(\"D:\\Master Thesis\\src\\modified_claims.xlsx\", index=False)"
   ],
   "metadata": {
    "collapsed": false,
    "ExecuteTime": {
     "end_time": "2024-01-11T11:27:34.109328300Z",
     "start_time": "2024-01-11T11:27:33.990133300Z"
    }
   },
   "id": "f55871e214b62e39"
  },
  {
   "cell_type": "code",
   "execution_count": 11,
   "outputs": [
    {
     "name": "stdout",
     "output_type": "stream",
     "text": [
      "Collecting spacy\n",
      "  Downloading spacy-3.7.2-cp39-cp39-win_amd64.whl.metadata (26 kB)\n",
      "Collecting spacy-legacy<3.1.0,>=3.0.11 (from spacy)\n",
      "  Downloading spacy_legacy-3.0.12-py2.py3-none-any.whl (29 kB)\n",
      "Collecting spacy-loggers<2.0.0,>=1.0.0 (from spacy)\n",
      "  Downloading spacy_loggers-1.0.5-py3-none-any.whl.metadata (23 kB)\n",
      "Collecting murmurhash<1.1.0,>=0.28.0 (from spacy)\n",
      "  Downloading murmurhash-1.0.10-cp39-cp39-win_amd64.whl.metadata (2.0 kB)\n",
      "Collecting cymem<2.1.0,>=2.0.2 (from spacy)\n",
      "  Downloading cymem-2.0.8-cp39-cp39-win_amd64.whl.metadata (8.6 kB)\n",
      "Collecting preshed<3.1.0,>=3.0.2 (from spacy)\n",
      "  Downloading preshed-3.0.9-cp39-cp39-win_amd64.whl.metadata (2.2 kB)\n",
      "Collecting thinc<8.3.0,>=8.1.8 (from spacy)\n",
      "  Downloading thinc-8.2.2-cp39-cp39-win_amd64.whl.metadata (15 kB)\n",
      "Collecting wasabi<1.2.0,>=0.9.1 (from spacy)\n",
      "  Downloading wasabi-1.1.2-py3-none-any.whl.metadata (28 kB)\n",
      "Collecting srsly<3.0.0,>=2.4.3 (from spacy)\n",
      "  Downloading srsly-2.4.8-cp39-cp39-win_amd64.whl.metadata (20 kB)\n",
      "Collecting catalogue<2.1.0,>=2.0.6 (from spacy)\n",
      "  Downloading catalogue-2.0.10-py3-none-any.whl.metadata (14 kB)\n",
      "Collecting weasel<0.4.0,>=0.1.0 (from spacy)\n",
      "  Downloading weasel-0.3.4-py3-none-any.whl.metadata (4.7 kB)\n",
      "Requirement already satisfied: typer<0.10.0,>=0.3.0 in d:\\anaconda\\envs\\thesis\\lib\\site-packages (from spacy) (0.9.0)\n",
      "Collecting smart-open<7.0.0,>=5.2.1 (from spacy)\n",
      "  Downloading smart_open-6.4.0-py3-none-any.whl.metadata (21 kB)\n",
      "Requirement already satisfied: tqdm<5.0.0,>=4.38.0 in d:\\anaconda\\envs\\thesis\\lib\\site-packages (from spacy) (4.65.0)\n",
      "Requirement already satisfied: requests<3.0.0,>=2.13.0 in d:\\anaconda\\envs\\thesis\\lib\\site-packages (from spacy) (2.31.0)\n",
      "Collecting pydantic!=1.8,!=1.8.1,<3.0.0,>=1.7.4 (from spacy)\n",
      "  Downloading pydantic-2.5.3-py3-none-any.whl.metadata (65 kB)\n",
      "     ---------------------------------------- 0.0/65.6 kB ? eta -:--:--\n",
      "     ---------------------------------------- 65.6/65.6 kB 3.7 MB/s eta 0:00:00\n",
      "Requirement already satisfied: jinja2 in d:\\anaconda\\envs\\thesis\\lib\\site-packages (from spacy) (3.1.2)\n",
      "Requirement already satisfied: setuptools in d:\\anaconda\\envs\\thesis\\lib\\site-packages (from spacy) (68.2.2)\n",
      "Requirement already satisfied: packaging>=20.0 in d:\\anaconda\\envs\\thesis\\lib\\site-packages (from spacy) (23.1)\n",
      "Collecting langcodes<4.0.0,>=3.2.0 (from spacy)\n",
      "  Downloading langcodes-3.3.0-py3-none-any.whl (181 kB)\n",
      "     ---------------------------------------- 0.0/181.6 kB ? eta -:--:--\n",
      "     -------------------------------------- 181.6/181.6 kB 5.5 MB/s eta 0:00:00\n",
      "Requirement already satisfied: numpy>=1.19.0 in d:\\anaconda\\envs\\thesis\\lib\\site-packages (from spacy) (1.26.2)\n",
      "Collecting annotated-types>=0.4.0 (from pydantic!=1.8,!=1.8.1,<3.0.0,>=1.7.4->spacy)\n",
      "  Using cached annotated_types-0.6.0-py3-none-any.whl.metadata (12 kB)\n",
      "Collecting pydantic-core==2.14.6 (from pydantic!=1.8,!=1.8.1,<3.0.0,>=1.7.4->spacy)\n",
      "  Downloading pydantic_core-2.14.6-cp39-none-win_amd64.whl.metadata (6.6 kB)\n",
      "Requirement already satisfied: typing-extensions>=4.6.1 in d:\\anaconda\\envs\\thesis\\lib\\site-packages (from pydantic!=1.8,!=1.8.1,<3.0.0,>=1.7.4->spacy) (4.7.1)\n",
      "Requirement already satisfied: charset-normalizer<4,>=2 in d:\\anaconda\\envs\\thesis\\lib\\site-packages (from requests<3.0.0,>=2.13.0->spacy) (2.0.4)\n",
      "Requirement already satisfied: idna<4,>=2.5 in d:\\anaconda\\envs\\thesis\\lib\\site-packages (from requests<3.0.0,>=2.13.0->spacy) (3.4)\n",
      "Requirement already satisfied: urllib3<3,>=1.21.1 in d:\\anaconda\\envs\\thesis\\lib\\site-packages (from requests<3.0.0,>=2.13.0->spacy) (1.26.18)\n",
      "Requirement already satisfied: certifi>=2017.4.17 in d:\\anaconda\\envs\\thesis\\lib\\site-packages (from requests<3.0.0,>=2.13.0->spacy) (2023.11.17)\n",
      "Collecting blis<0.8.0,>=0.7.8 (from thinc<8.3.0,>=8.1.8->spacy)\n",
      "  Downloading blis-0.7.11-cp39-cp39-win_amd64.whl.metadata (7.6 kB)\n",
      "Collecting confection<1.0.0,>=0.0.1 (from thinc<8.3.0,>=8.1.8->spacy)\n",
      "  Downloading confection-0.1.4-py3-none-any.whl.metadata (19 kB)\n",
      "Requirement already satisfied: colorama in d:\\anaconda\\envs\\thesis\\lib\\site-packages (from tqdm<5.0.0,>=4.38.0->spacy) (0.4.6)\n",
      "Requirement already satisfied: click<9.0.0,>=7.1.1 in d:\\anaconda\\envs\\thesis\\lib\\site-packages (from typer<0.10.0,>=0.3.0->spacy) (8.1.7)\n",
      "Collecting cloudpathlib<0.17.0,>=0.7.0 (from weasel<0.4.0,>=0.1.0->spacy)\n",
      "  Downloading cloudpathlib-0.16.0-py3-none-any.whl.metadata (14 kB)\n",
      "Requirement already satisfied: MarkupSafe>=2.0 in d:\\anaconda\\envs\\thesis\\lib\\site-packages (from jinja2->spacy) (2.1.1)\n",
      "Downloading spacy-3.7.2-cp39-cp39-win_amd64.whl (12.2 MB)\n",
      "   ---------------------------------------- 0.0/12.2 MB ? eta -:--:--\n",
      "   -- ------------------------------------- 0.7/12.2 MB 15.0 MB/s eta 0:00:01\n",
      "   ------- -------------------------------- 2.4/12.2 MB 25.7 MB/s eta 0:00:01\n",
      "   ---------- ----------------------------- 3.3/12.2 MB 26.6 MB/s eta 0:00:01\n",
      "   ----------- ---------------------------- 3.4/12.2 MB 19.5 MB/s eta 0:00:01\n",
      "   ----------- ---------------------------- 3.6/12.2 MB 15.4 MB/s eta 0:00:01\n",
      "   ------------ --------------------------- 3.8/12.2 MB 13.5 MB/s eta 0:00:01\n",
      "   ------------ --------------------------- 3.8/12.2 MB 13.6 MB/s eta 0:00:01\n",
      "   ------------ --------------------------- 3.9/12.2 MB 10.9 MB/s eta 0:00:01\n",
      "   ------------- -------------------------- 4.0/12.2 MB 10.3 MB/s eta 0:00:01\n",
      "   -------------- ------------------------- 4.3/12.2 MB 9.6 MB/s eta 0:00:01\n",
      "   -------------- ------------------------- 4.5/12.2 MB 9.0 MB/s eta 0:00:01\n",
      "   --------------- ------------------------ 4.8/12.2 MB 9.0 MB/s eta 0:00:01\n",
      "   ---------------- ----------------------- 5.0/12.2 MB 8.6 MB/s eta 0:00:01\n",
      "   ---------------- ----------------------- 5.1/12.2 MB 7.7 MB/s eta 0:00:01\n",
      "   ------------------ --------------------- 5.5/12.2 MB 7.8 MB/s eta 0:00:01\n",
      "   ------------------ --------------------- 5.5/12.2 MB 7.9 MB/s eta 0:00:01\n",
      "   ------------------ --------------------- 5.7/12.2 MB 7.3 MB/s eta 0:00:01\n",
      "   ------------------- -------------------- 5.8/12.2 MB 7.0 MB/s eta 0:00:01\n",
      "   ------------------- -------------------- 5.8/12.2 MB 7.0 MB/s eta 0:00:01\n",
      "   ------------------- -------------------- 5.8/12.2 MB 7.0 MB/s eta 0:00:01\n",
      "   ------------------- -------------------- 5.9/12.2 MB 6.2 MB/s eta 0:00:02\n",
      "   --------------------- ------------------ 6.5/12.2 MB 6.3 MB/s eta 0:00:01\n",
      "   ---------------------- ----------------- 6.7/12.2 MB 6.5 MB/s eta 0:00:01\n",
      "   ----------------------- ---------------- 7.1/12.2 MB 6.3 MB/s eta 0:00:01\n",
      "   ----------------------- ---------------- 7.2/12.2 MB 6.3 MB/s eta 0:00:01\n",
      "   ----------------------- ---------------- 7.2/12.2 MB 5.9 MB/s eta 0:00:01\n",
      "   ------------------------ --------------- 7.4/12.2 MB 5.9 MB/s eta 0:00:01\n",
      "   ------------------------- -------------- 7.7/12.2 MB 5.8 MB/s eta 0:00:01\n",
      "   ------------------------- -------------- 7.7/12.2 MB 5.8 MB/s eta 0:00:01\n",
      "   ------------------------- -------------- 7.8/12.2 MB 5.6 MB/s eta 0:00:01\n",
      "   ------------------------- -------------- 7.8/12.2 MB 5.6 MB/s eta 0:00:01\n",
      "   --------------------------- ------------ 8.2/12.2 MB 5.7 MB/s eta 0:00:01\n",
      "   ---------------------------- ----------- 8.6/12.2 MB 5.6 MB/s eta 0:00:01\n",
      "   ---------------------------- ----------- 8.8/12.2 MB 5.5 MB/s eta 0:00:01\n",
      "   ---------------------------- ----------- 8.8/12.2 MB 5.5 MB/s eta 0:00:01\n",
      "   ----------------------------- ---------- 9.0/12.2 MB 5.3 MB/s eta 0:00:01\n",
      "   ------------------------------ --------- 9.3/12.2 MB 5.4 MB/s eta 0:00:01\n",
      "   ------------------------------ --------- 9.3/12.2 MB 5.4 MB/s eta 0:00:01\n",
      "   ------------------------------- -------- 9.5/12.2 MB 5.2 MB/s eta 0:00:01\n",
      "   -------------------------------- ------- 9.9/12.2 MB 5.2 MB/s eta 0:00:01\n",
      "   --------------------------------- ------ 10.0/12.2 MB 5.2 MB/s eta 0:00:01\n",
      "   --------------------------------- ------ 10.2/12.2 MB 5.2 MB/s eta 0:00:01\n",
      "   ---------------------------------- ----- 10.4/12.2 MB 5.1 MB/s eta 0:00:01\n",
      "   ---------------------------------- ----- 10.6/12.2 MB 5.0 MB/s eta 0:00:01\n",
      "   ----------------------------------- ---- 10.7/12.2 MB 5.0 MB/s eta 0:00:01\n",
      "   ----------------------------------- ---- 10.9/12.2 MB 4.9 MB/s eta 0:00:01\n",
      "   ----------------------------------- ---- 10.9/12.2 MB 4.9 MB/s eta 0:00:01\n",
      "   ------------------------------------- -- 11.3/12.2 MB 4.7 MB/s eta 0:00:01\n",
      "   ------------------------------------- -- 11.4/12.2 MB 4.6 MB/s eta 0:00:01\n",
      "   -------------------------------------- - 11.6/12.2 MB 4.5 MB/s eta 0:00:01\n",
      "   -------------------------------------- - 11.8/12.2 MB 4.4 MB/s eta 0:00:01\n",
      "   ---------------------------------------  12.0/12.2 MB 4.3 MB/s eta 0:00:01\n",
      "   ---------------------------------------  12.1/12.2 MB 4.3 MB/s eta 0:00:01\n",
      "   ---------------------------------------  12.1/12.2 MB 4.3 MB/s eta 0:00:01\n",
      "   ---------------------------------------- 12.2/12.2 MB 4.1 MB/s eta 0:00:00\n",
      "Downloading catalogue-2.0.10-py3-none-any.whl (17 kB)\n",
      "Downloading cymem-2.0.8-cp39-cp39-win_amd64.whl (39 kB)\n",
      "Downloading murmurhash-1.0.10-cp39-cp39-win_amd64.whl (25 kB)\n",
      "Downloading preshed-3.0.9-cp39-cp39-win_amd64.whl (122 kB)\n",
      "   ---------------------------------------- 0.0/122.7 kB ? eta -:--:--\n",
      "   ---------------------------------------- 122.7/122.7 kB 7.5 MB/s eta 0:00:00\n",
      "Downloading pydantic-2.5.3-py3-none-any.whl (381 kB)\n",
      "   ---------------------------------------- 0.0/381.9 kB ? eta -:--:--\n",
      "   --------------------------------------  378.9/381.9 kB 11.9 MB/s eta 0:00:01\n",
      "   ---------------------------------------- 381.9/381.9 kB 8.1 MB/s eta 0:00:00\n",
      "Downloading pydantic_core-2.14.6-cp39-none-win_amd64.whl (1.9 MB)\n",
      "   ---------------------------------------- 0.0/1.9 MB ? eta -:--:--\n",
      "   -------- ------------------------------- 0.4/1.9 MB 8.5 MB/s eta 0:00:01\n",
      "   ----------------- ---------------------- 0.8/1.9 MB 8.6 MB/s eta 0:00:01\n",
      "   ------------------------- -------------- 1.2/1.9 MB 8.4 MB/s eta 0:00:01\n",
      "   ------------------------------- -------- 1.5/1.9 MB 7.9 MB/s eta 0:00:01\n",
      "   ----------------------------------- ---- 1.7/1.9 MB 7.0 MB/s eta 0:00:01\n",
      "   -------------------------------------- - 1.8/1.9 MB 6.5 MB/s eta 0:00:01\n",
      "   ---------------------------------------- 1.9/1.9 MB 6.0 MB/s eta 0:00:00\n",
      "Downloading smart_open-6.4.0-py3-none-any.whl (57 kB)\n",
      "   ---------------------------------------- 0.0/57.0 kB ? eta -:--:--\n",
      "   ---------------------------------------- 57.0/57.0 kB 3.1 MB/s eta 0:00:00\n",
      "Downloading spacy_loggers-1.0.5-py3-none-any.whl (22 kB)\n",
      "Downloading srsly-2.4.8-cp39-cp39-win_amd64.whl (483 kB)\n",
      "   ---------------------------------------- 0.0/483.8 kB ? eta -:--:--\n",
      "   ----------------------- ---------------- 286.7/483.8 kB 8.9 MB/s eta 0:00:01\n",
      "   ---------------------------------------- 483.8/483.8 kB 7.6 MB/s eta 0:00:00\n",
      "Downloading thinc-8.2.2-cp39-cp39-win_amd64.whl (1.5 MB)\n",
      "   ---------------------------------------- 0.0/1.5 MB ? eta -:--:--\n",
      "   ---------- ----------------------------- 0.4/1.5 MB 12.2 MB/s eta 0:00:01\n",
      "   --------------- ------------------------ 0.6/1.5 MB 7.2 MB/s eta 0:00:01\n",
      "   ------------------- -------------------- 0.7/1.5 MB 6.5 MB/s eta 0:00:01\n",
      "   ------------------------ --------------- 0.9/1.5 MB 5.3 MB/s eta 0:00:01\n",
      "   ----------------------------- ---------- 1.1/1.5 MB 5.0 MB/s eta 0:00:01\n",
      "   ---------------------------------- ----- 1.3/1.5 MB 4.8 MB/s eta 0:00:01\n",
      "   ---------------------------------------  1.5/1.5 MB 4.6 MB/s eta 0:00:01\n",
      "   ---------------------------------------- 1.5/1.5 MB 4.5 MB/s eta 0:00:00\n",
      "Downloading wasabi-1.1.2-py3-none-any.whl (27 kB)\n",
      "Downloading weasel-0.3.4-py3-none-any.whl (50 kB)\n",
      "   ---------------------------------------- 0.0/50.1 kB ? eta -:--:--\n",
      "   ---------------------------------------- 50.1/50.1 kB 2.5 MB/s eta 0:00:00\n",
      "Using cached annotated_types-0.6.0-py3-none-any.whl (12 kB)\n",
      "Downloading blis-0.7.11-cp39-cp39-win_amd64.whl (6.6 MB)\n",
      "   ---------------------------------------- 0.0/6.6 MB ? eta -:--:--\n",
      "   - -------------------------------------- 0.3/6.6 MB 6.3 MB/s eta 0:00:01\n",
      "   ---- ----------------------------------- 0.8/6.6 MB 8.3 MB/s eta 0:00:01\n",
      "   ----- ---------------------------------- 0.9/6.6 MB 7.3 MB/s eta 0:00:01\n",
      "   ------ --------------------------------- 1.1/6.6 MB 6.0 MB/s eta 0:00:01\n",
      "   ------- -------------------------------- 1.3/6.6 MB 5.5 MB/s eta 0:00:01\n",
      "   --------- ------------------------------ 1.5/6.6 MB 5.3 MB/s eta 0:00:01\n",
      "   ---------- ----------------------------- 1.7/6.6 MB 5.0 MB/s eta 0:00:01\n",
      "   ----------- ---------------------------- 1.9/6.6 MB 4.9 MB/s eta 0:00:01\n",
      "   ------------ --------------------------- 2.0/6.6 MB 4.8 MB/s eta 0:00:01\n",
      "   ------------- -------------------------- 2.2/6.6 MB 4.7 MB/s eta 0:00:01\n",
      "   -------------- ------------------------- 2.4/6.6 MB 4.6 MB/s eta 0:00:01\n",
      "   --------------- ------------------------ 2.5/6.6 MB 4.5 MB/s eta 0:00:01\n",
      "   ---------------- ----------------------- 2.7/6.6 MB 4.5 MB/s eta 0:00:01\n",
      "   ----------------- ---------------------- 2.9/6.6 MB 4.4 MB/s eta 0:00:01\n",
      "   ------------------ --------------------- 3.1/6.6 MB 4.4 MB/s eta 0:00:01\n",
      "   ------------------- -------------------- 3.3/6.6 MB 4.4 MB/s eta 0:00:01\n",
      "   -------------------- ------------------- 3.5/6.6 MB 4.3 MB/s eta 0:00:01\n",
      "   ---------------------- ----------------- 3.6/6.6 MB 4.2 MB/s eta 0:00:01\n",
      "   ----------------------- ---------------- 3.8/6.6 MB 4.3 MB/s eta 0:00:01\n",
      "   ------------------------ --------------- 4.0/6.6 MB 4.3 MB/s eta 0:00:01\n",
      "   ------------------------- -------------- 4.2/6.6 MB 4.2 MB/s eta 0:00:01\n",
      "   -------------------------- ------------- 4.4/6.6 MB 4.2 MB/s eta 0:00:01\n",
      "   --------------------------- ------------ 4.5/6.6 MB 4.2 MB/s eta 0:00:01\n",
      "   ---------------------------- ----------- 4.7/6.6 MB 4.2 MB/s eta 0:00:01\n",
      "   ----------------------------- ---------- 4.9/6.6 MB 4.2 MB/s eta 0:00:01\n",
      "   ------------------------------ --------- 5.1/6.6 MB 4.1 MB/s eta 0:00:01\n",
      "   ------------------------------- -------- 5.2/6.6 MB 4.1 MB/s eta 0:00:01\n",
      "   -------------------------------- ------- 5.4/6.6 MB 4.1 MB/s eta 0:00:01\n",
      "   --------------------------------- ------ 5.6/6.6 MB 4.1 MB/s eta 0:00:01\n",
      "   ---------------------------------- ----- 5.8/6.6 MB 4.1 MB/s eta 0:00:01\n",
      "   ----------------------------------- ---- 5.9/6.6 MB 4.1 MB/s eta 0:00:01\n",
      "   ------------------------------------ --- 6.1/6.6 MB 4.1 MB/s eta 0:00:01\n",
      "   -------------------------------------- - 6.3/6.6 MB 4.1 MB/s eta 0:00:01\n",
      "   ---------------------------------------  6.5/6.6 MB 4.1 MB/s eta 0:00:01\n",
      "   ---------------------------------------  6.6/6.6 MB 4.0 MB/s eta 0:00:01\n",
      "   ---------------------------------------- 6.6/6.6 MB 4.0 MB/s eta 0:00:00\n",
      "Downloading cloudpathlib-0.16.0-py3-none-any.whl (45 kB)\n",
      "   ---------------------------------------- 0.0/45.0 kB ? eta -:--:--\n",
      "   ---------------------------------------- 45.0/45.0 kB 2.2 MB/s eta 0:00:00\n",
      "Downloading confection-0.1.4-py3-none-any.whl (35 kB)\n",
      "Installing collected packages: cymem, wasabi, spacy-loggers, spacy-legacy, smart-open, pydantic-core, murmurhash, langcodes, cloudpathlib, catalogue, blis, annotated-types, srsly, pydantic, preshed, confection, weasel, thinc, spacy\n",
      "Successfully installed annotated-types-0.6.0 blis-0.7.11 catalogue-2.0.10 cloudpathlib-0.16.0 confection-0.1.4 cymem-2.0.8 langcodes-3.3.0 murmurhash-1.0.10 preshed-3.0.9 pydantic-2.5.3 pydantic-core-2.14.6 smart-open-6.4.0 spacy-3.7.2 spacy-legacy-3.0.12 spacy-loggers-1.0.5 srsly-2.4.8 thinc-8.2.2 wasabi-1.1.2 weasel-0.3.4\n"
     ]
    }
   ],
   "source": [
    "!pip install spacy"
   ],
   "metadata": {
    "collapsed": false,
    "ExecuteTime": {
     "end_time": "2024-01-11T10:52:53.037226Z",
     "start_time": "2024-01-11T10:52:27.175159600Z"
    }
   },
   "id": "5eb90c56f3b359c9"
  },
  {
   "cell_type": "code",
   "execution_count": 17,
   "outputs": [],
   "source": [
    "import pandas as pd\n",
    "import spacy\n",
    "\n",
    "# Load the English language model in SpaCy\n",
    "nlp = spacy.load(\"en_core_web_sm\")\n",
    "\n",
    "# Your DataFrame\n",
    "# claims = pd.DataFrame({'claims': ['This is a correct sentence.', 'This sentence not complete']})\n",
    "\n",
    "# Function to check if a sentence makes sense\n",
    "def is_sentence_correct(sentence):\n",
    "    doc = nlp(sentence)\n",
    "    # Example check: if sentence has a verb (this is a very basic check)\n",
    "    has_verb = any([token.pos_ == 'VERB' for token in doc])\n",
    "    return has_verb\n",
    "\n",
    "# Filter out rows where the sentence is not correct\n",
    "claims = claims[claims['claims'].apply(is_sentence_correct)]\n"
   ],
   "metadata": {
    "collapsed": false,
    "ExecuteTime": {
     "end_time": "2024-01-11T11:24:36.613168300Z",
     "start_time": "2024-01-11T11:24:17.379046500Z"
    }
   },
   "id": "13874623828e8cf4"
  },
  {
   "cell_type": "code",
   "execution_count": 18,
   "outputs": [
    {
     "data": {
      "text/plain": "                                                 folder  \\\n4        /content/drive/MyDrive/images/myths on zonules   \n5        /content/drive/MyDrive/images/myths on zonules   \n7        /content/drive/MyDrive/images/myths on zonules   \n8        /content/drive/MyDrive/images/myths on VO2 max   \n9        /content/drive/MyDrive/images/myths on VO2 max   \n...                                                 ...   \n2013  /content/drive/MyDrive/images/myths on hypotha...   \n2016  /content/drive/MyDrive/images/myths on hypotha...   \n2017  /content/drive/MyDrive/images/myths on hypotha...   \n2018  /content/drive/MyDrive/images/myths on hypotha...   \n2020    /content/drive/MyDrive/images/myths on hypnotic   \n\n                                           filename  \\\n4                              mythsonzonules1.jpeg   \n5                              mythsonzonules0.jpeg   \n7                              mythsonzonules4.jpeg   \n8                                mythsonVO2max0.png   \n9                                mythsonVO2max2.png   \n...                                             ...   \n2013                       mythsonhypothalamus1.png   \n2016   mythsonhypothalamicpituitaryadrenalaxis0.png   \n2017  mythsonhypothalamicpituitaryadrenalaxis3.jpeg   \n2018  mythsonhypothalamicpituitaryadrenalaxis2.jpeg   \n2020                           mythsonhypnotic0.png   \n\n                                                 claims  \n4     Contracted Muscles Relaxed and Loose Zonules R...  \n5     Ora serrata body Sclera Choroid Ciliary zonule...  \n7     (B) Hyaloid Zonule Connecling Ant hyaloid wilh...  \n8     DOES VOZMAX REALLY MATTER OR IS IT OVERRATED? ...  \n9     01 02 Your VOZmax is (much) lower You run out ...  \n...                                                 ...  \n2013  Myths of Hypothalamic Hunger and Satiety Cente...  \n2016  HYPOTHALAMUS part of the brain that AMYGDALA i...  \n2017  Increased risk for cognitive, emotional and be...  \n2018  STRESS RESPONSE SYSTEM Hypothalamus CRH Pituit...  \n2020  HYPNOSIS WRONG RIGHT Out of control In enhance...  \n\n[1060 rows x 3 columns]",
      "text/html": "<div>\n<style scoped>\n    .dataframe tbody tr th:only-of-type {\n        vertical-align: middle;\n    }\n\n    .dataframe tbody tr th {\n        vertical-align: top;\n    }\n\n    .dataframe thead th {\n        text-align: right;\n    }\n</style>\n<table border=\"1\" class=\"dataframe\">\n  <thead>\n    <tr style=\"text-align: right;\">\n      <th></th>\n      <th>folder</th>\n      <th>filename</th>\n      <th>claims</th>\n    </tr>\n  </thead>\n  <tbody>\n    <tr>\n      <th>4</th>\n      <td>/content/drive/MyDrive/images/myths on zonules</td>\n      <td>mythsonzonules1.jpeg</td>\n      <td>Contracted Muscles Relaxed and Loose Zonules R...</td>\n    </tr>\n    <tr>\n      <th>5</th>\n      <td>/content/drive/MyDrive/images/myths on zonules</td>\n      <td>mythsonzonules0.jpeg</td>\n      <td>Ora serrata body Sclera Choroid Ciliary zonule...</td>\n    </tr>\n    <tr>\n      <th>7</th>\n      <td>/content/drive/MyDrive/images/myths on zonules</td>\n      <td>mythsonzonules4.jpeg</td>\n      <td>(B) Hyaloid Zonule Connecling Ant hyaloid wilh...</td>\n    </tr>\n    <tr>\n      <th>8</th>\n      <td>/content/drive/MyDrive/images/myths on VO2 max</td>\n      <td>mythsonVO2max0.png</td>\n      <td>DOES VOZMAX REALLY MATTER OR IS IT OVERRATED? ...</td>\n    </tr>\n    <tr>\n      <th>9</th>\n      <td>/content/drive/MyDrive/images/myths on VO2 max</td>\n      <td>mythsonVO2max2.png</td>\n      <td>01 02 Your VOZmax is (much) lower You run out ...</td>\n    </tr>\n    <tr>\n      <th>...</th>\n      <td>...</td>\n      <td>...</td>\n      <td>...</td>\n    </tr>\n    <tr>\n      <th>2013</th>\n      <td>/content/drive/MyDrive/images/myths on hypotha...</td>\n      <td>mythsonhypothalamus1.png</td>\n      <td>Myths of Hypothalamic Hunger and Satiety Cente...</td>\n    </tr>\n    <tr>\n      <th>2016</th>\n      <td>/content/drive/MyDrive/images/myths on hypotha...</td>\n      <td>mythsonhypothalamicpituitaryadrenalaxis0.png</td>\n      <td>HYPOTHALAMUS part of the brain that AMYGDALA i...</td>\n    </tr>\n    <tr>\n      <th>2017</th>\n      <td>/content/drive/MyDrive/images/myths on hypotha...</td>\n      <td>mythsonhypothalamicpituitaryadrenalaxis3.jpeg</td>\n      <td>Increased risk for cognitive, emotional and be...</td>\n    </tr>\n    <tr>\n      <th>2018</th>\n      <td>/content/drive/MyDrive/images/myths on hypotha...</td>\n      <td>mythsonhypothalamicpituitaryadrenalaxis2.jpeg</td>\n      <td>STRESS RESPONSE SYSTEM Hypothalamus CRH Pituit...</td>\n    </tr>\n    <tr>\n      <th>2020</th>\n      <td>/content/drive/MyDrive/images/myths on hypnotic</td>\n      <td>mythsonhypnotic0.png</td>\n      <td>HYPNOSIS WRONG RIGHT Out of control In enhance...</td>\n    </tr>\n  </tbody>\n</table>\n<p>1060 rows × 3 columns</p>\n</div>"
     },
     "execution_count": 18,
     "metadata": {},
     "output_type": "execute_result"
    }
   ],
   "source": [
    "claims"
   ],
   "metadata": {
    "collapsed": false,
    "ExecuteTime": {
     "end_time": "2024-01-11T11:26:28.446913500Z",
     "start_time": "2024-01-11T11:26:28.425864Z"
    }
   },
   "id": "ee12bd768671ab0a"
  },
  {
   "cell_type": "code",
   "execution_count": null,
   "outputs": [],
   "source": [],
   "metadata": {
    "collapsed": false
   },
   "id": "ba594649217f4e52"
  }
 ],
 "metadata": {
  "kernelspec": {
   "display_name": "Python 3",
   "language": "python",
   "name": "python3"
  },
  "language_info": {
   "codemirror_mode": {
    "name": "ipython",
    "version": 2
   },
   "file_extension": ".py",
   "mimetype": "text/x-python",
   "name": "python",
   "nbconvert_exporter": "python",
   "pygments_lexer": "ipython2",
   "version": "2.7.6"
  }
 },
 "nbformat": 4,
 "nbformat_minor": 5
}
