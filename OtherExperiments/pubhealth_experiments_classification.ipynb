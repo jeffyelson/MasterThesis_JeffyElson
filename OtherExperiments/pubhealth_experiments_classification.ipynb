{
 "cells": [
  {
   "cell_type": "code",
   "execution_count": 6,
   "id": "initial_id",
   "metadata": {
    "collapsed": true,
    "ExecuteTime": {
     "end_time": "2024-01-08T18:15:00.624034200Z",
     "start_time": "2024-01-08T18:15:00.598564400Z"
    }
   },
   "outputs": [],
   "source": [
    "import torch\n",
    "from torch.utils.data import TensorDataset, DataLoader, RandomSampler, SequentialSampler\n",
    "from transformers import BertTokenizer, BertForSequenceClassification\n",
    "from sklearn.model_selection import train_test_split\n",
    "\n",
    "import pandas as pd\n",
    "import numpy as np\n",
    "\n",
    "from tabulate import tabulate\n",
    "from tqdm import trange\n",
    "import random"
   ]
  },
  {
   "cell_type": "code",
   "execution_count": 2,
   "outputs": [],
   "source": [
    "pub = pd.read_csv(\"D:/Master Thesis/PUBHEALTH/PUBHEALTH/train.tsv\", sep='\\t', header=0)"
   ],
   "metadata": {
    "collapsed": false,
    "ExecuteTime": {
     "end_time": "2024-01-08T18:12:40.399654500Z",
     "start_time": "2024-01-08T18:12:39.666944500Z"
    }
   },
   "id": "714c144b056712a4"
  },
  {
   "cell_type": "code",
   "execution_count": 3,
   "outputs": [
    {
     "data": {
      "text/plain": "label\ntrue        5078\nfalse       3001\nmixture     1434\nunproven     291\nsnopes         1\nName: count, dtype: int64"
     },
     "execution_count": 3,
     "metadata": {},
     "output_type": "execute_result"
    }
   ],
   "source": [
    "pub['label'].value_counts()"
   ],
   "metadata": {
    "collapsed": false,
    "ExecuteTime": {
     "end_time": "2024-01-08T18:14:06.629523Z",
     "start_time": "2024-01-08T18:14:06.597989500Z"
    }
   },
   "id": "a698a895867eae6"
  },
  {
   "cell_type": "code",
   "execution_count": 7,
   "outputs": [
    {
     "data": {
      "text/plain": "{'false': 0, 'mixture': 1, 'true': 2, 'unproven': 3, nan: 4, 'snopes': 5}"
     },
     "execution_count": 7,
     "metadata": {},
     "output_type": "execute_result"
    }
   ],
   "source": [
    "possible_labels = pub.label.unique()\n",
    "\n",
    "label_dict = {}\n",
    "for index, possible_label in enumerate(possible_labels):\n",
    "    label_dict[possible_label] = index\n",
    "label_dict"
   ],
   "metadata": {
    "collapsed": false,
    "ExecuteTime": {
     "end_time": "2024-01-08T18:15:52.642293300Z",
     "start_time": "2024-01-08T18:15:52.617372900Z"
    }
   },
   "id": "d0e41a8e988655be"
  },
  {
   "cell_type": "code",
   "execution_count": 13,
   "outputs": [
    {
     "data": {
      "text/plain": "tokenizer_config.json:   0%|          | 0.00/340 [00:00<?, ?B/s]",
      "application/vnd.jupyter.widget-view+json": {
       "version_major": 2,
       "version_minor": 0,
       "model_id": "94c107ffc958493fb32798ffa3fb19d3"
      }
     },
     "metadata": {},
     "output_type": "display_data"
    },
    {
     "name": "stderr",
     "output_type": "stream",
     "text": [
      "D:\\Anaconda\\envs\\thesis\\lib\\site-packages\\huggingface_hub\\file_download.py:147: UserWarning: `huggingface_hub` cache-system uses symlinks by default to efficiently store duplicated files but your machine does not support them in C:\\Users\\Jeffy Elson\\.cache\\huggingface\\hub. Caching files will still work but in a degraded version that might require more space on your disk. This warning can be disabled by setting the `HF_HUB_DISABLE_SYMLINKS_WARNING` environment variable. For more details, see https://huggingface.co/docs/huggingface_hub/how-to-cache#limitations.\n",
      "To support symlinks on Windows, you either need to activate Developer Mode or to run Python as an administrator. In order to see activate developer mode, see this article: https://docs.microsoft.com/en-us/windows/apps/get-started/enable-your-device-for-development\n",
      "  warnings.warn(message)\n"
     ]
    },
    {
     "data": {
      "text/plain": "vocab.json:   0%|          | 0.00/798k [00:00<?, ?B/s]",
      "application/vnd.jupyter.widget-view+json": {
       "version_major": 2,
       "version_minor": 0,
       "model_id": "a6386b663127426eb266dc861476ae1d"
      }
     },
     "metadata": {},
     "output_type": "display_data"
    },
    {
     "data": {
      "text/plain": "merges.txt:   0%|          | 0.00/456k [00:00<?, ?B/s]",
      "application/vnd.jupyter.widget-view+json": {
       "version_major": 2,
       "version_minor": 0,
       "model_id": "10ca5c890fed47afaa7681433463a786"
      }
     },
     "metadata": {},
     "output_type": "display_data"
    },
    {
     "data": {
      "text/plain": "tokenizer.json:   0%|          | 0.00/2.11M [00:00<?, ?B/s]",
      "application/vnd.jupyter.widget-view+json": {
       "version_major": 2,
       "version_minor": 0,
       "model_id": "5cad1dca3a274712ad07aa7151ceec89"
      }
     },
     "metadata": {},
     "output_type": "display_data"
    },
    {
     "data": {
      "text/plain": "special_tokens_map.json:   0%|          | 0.00/239 [00:00<?, ?B/s]",
      "application/vnd.jupyter.widget-view+json": {
       "version_major": 2,
       "version_minor": 0,
       "model_id": "3c39c76722e84e098a89c5f65b257d9e"
      }
     },
     "metadata": {},
     "output_type": "display_data"
    },
    {
     "data": {
      "text/plain": "config.json:   0%|          | 0.00/1.59k [00:00<?, ?B/s]",
      "application/vnd.jupyter.widget-view+json": {
       "version_major": 2,
       "version_minor": 0,
       "model_id": "f44a912533cc49a8a3eb72371bfdfdaa"
      }
     },
     "metadata": {},
     "output_type": "display_data"
    },
    {
     "data": {
      "text/plain": "pytorch_model.bin:   0%|          | 0.00/499M [00:00<?, ?B/s]",
      "application/vnd.jupyter.widget-view+json": {
       "version_major": 2,
       "version_minor": 0,
       "model_id": "a09f12b52942482aaba44ae1c1ac793f"
      }
     },
     "metadata": {},
     "output_type": "display_data"
    },
    {
     "name": "stdout",
     "output_type": "stream",
     "text": [
      "prediction:    1 => (B) positive.\n",
      "probability:   99.92%\n"
     ]
    }
   ],
   "source": [
    "from transformers import AutoTokenizer, AutoModelForSequenceClassification\n",
    "import torch, string, random\n",
    "\n",
    "tokenizer = AutoTokenizer.from_pretrained(\"DAMO-NLP-SG/zero-shot-classify-SSTuning-base\")\n",
    "model = AutoModelForSequenceClassification.from_pretrained(\"DAMO-NLP-SG/zero-shot-classify-SSTuning-base\")\n",
    "\n",
    "text = \"I love this place! The food is always so fresh and delicious.\"\n",
    "list_label = [\"negative\", \"positive\"]\n",
    "\n",
    "device = torch.device('cuda') if torch.cuda.is_available() else torch.device('cpu')\n",
    "list_ABC = [x for x in string.ascii_uppercase]\n",
    "\n",
    "def check_text(model, text, list_label, shuffle=False): \n",
    "    list_label = [x+'.' if x[-1] != '.' else x for x in list_label]\n",
    "    list_label_new = list_label + [tokenizer.pad_token]* (20 - len(list_label))\n",
    "    if shuffle: \n",
    "        random.shuffle(list_label_new)\n",
    "    s_option = ' '.join(['('+list_ABC[i]+') '+list_label_new[i] for i in range(len(list_label_new))])\n",
    "    text = f'{s_option} {tokenizer.sep_token} {text}'\n",
    "\n",
    "    model.to(device).eval()\n",
    "    encoding = tokenizer([text],truncation=True, max_length=512,return_tensors='pt')\n",
    "    item = {key: val.to(device) for key, val in encoding.items()}\n",
    "    logits = model(**item).logits\n",
    "    \n",
    "    logits = logits if shuffle else logits[:,0:len(list_label)]\n",
    "    probs = torch.nn.functional.softmax(logits, dim = -1).tolist()\n",
    "    predictions = torch.argmax(logits, dim=-1).item() \n",
    "    probabilities = [round(x,5) for x in probs[0]]\n",
    "\n",
    "    print(f'prediction:    {predictions} => ({list_ABC[predictions]}) {list_label_new[predictions]}')\n",
    "    print(f'probability:   {round(probabilities[predictions]*100,2)}%')\n",
    "\n",
    "check_text(model, text, list_label)"
   ],
   "metadata": {
    "collapsed": false,
    "ExecuteTime": {
     "end_time": "2024-01-09T12:44:01.270002100Z",
     "start_time": "2024-01-09T12:41:12.104116900Z"
    }
   },
   "id": "dc585aaec21be4dc"
  },
  {
   "cell_type": "code",
   "execution_count": null,
   "outputs": [],
   "source": [],
   "metadata": {
    "collapsed": false
   },
   "id": "66cc59d073633c68"
  }
 ],
 "metadata": {
  "kernelspec": {
   "display_name": "Python 3",
   "language": "python",
   "name": "python3"
  },
  "language_info": {
   "codemirror_mode": {
    "name": "ipython",
    "version": 2
   },
   "file_extension": ".py",
   "mimetype": "text/x-python",
   "name": "python",
   "nbconvert_exporter": "python",
   "pygments_lexer": "ipython2",
   "version": "2.7.6"
  }
 },
 "nbformat": 4,
 "nbformat_minor": 5
}
